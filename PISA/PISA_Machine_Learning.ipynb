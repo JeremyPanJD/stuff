{
  "cells": [
    {
      "cell_type": "markdown",
      "metadata": {
        "id": "view-in-github",
        "colab_type": "text"
      },
      "source": [
        "<a href=\"https://colab.research.google.com/github/JeremyPanJD/stuff/blob/master/PISA_Machine_Learning.ipynb\" target=\"_parent\"><img src=\"https://colab.research.google.com/assets/colab-badge.svg\" alt=\"Open In Colab\"/></a>"
      ]
    },
    {
      "cell_type": "markdown",
      "metadata": {
        "id": "f01uJdhVQpP0"
      },
      "source": [
        "A PCA of the above variables found a 3 component reduction. To consider for future use. "
      ]
    },
    {
      "cell_type": "markdown",
      "metadata": {
        "id": "aZ9QBATUHzDi"
      },
      "source": [
        "# Overview"
      ]
    },
    {
      "cell_type": "markdown",
      "metadata": {
        "id": "qNdyBd3UpJkZ"
      },
      "source": [
        "## Algorithms used\n",
        "* Baseline regression\n",
        "* SGD Regressor\n",
        "* ADABoost Regressor\n",
        "* SV Regressor\n",
        "* Deep Nets"
      ]
    },
    {
      "cell_type": "markdown",
      "metadata": {
        "id": "Fvv0BwJFkAMq"
      },
      "source": [
        "## Steps\n",
        "* One-hot encode categorical vars\n",
        "* Standardize Mean.Math and predictors\n",
        "\n",
        "\n"
      ]
    },
    {
      "cell_type": "markdown",
      "metadata": {
        "id": "E0tcQUXYXV0p"
      },
      "source": [
        "# Selection of variables for prediction"
      ]
    },
    {
      "cell_type": "markdown",
      "metadata": {
        "id": "RE71BijVMlyV"
      },
      "source": [
        "## Pre-analysis using SPSS"
      ]
    },
    {
      "cell_type": "markdown",
      "metadata": {
        "id": "qbCYgB7dMoYV"
      },
      "source": [
        "Pre-analysis using hierarchical linear regression\n",
        "\n",
        "* covariates entered in the first step\n",
        "* Self-reported measures used in the second step\n",
        "\n",
        "found that Family Wealth, Perception of competitiveness in school, and sense of belonging to school were *not significant* in predicting PISA Math ability. \n",
        "\n",
        "This was also noted during initial regression in python with the above-mentioned variables having low or zero coefficients (0 to ~0.01)\n",
        "\n",
        "Thus, will remove from future steps in ML. "
      ]
    },
    {
      "cell_type": "markdown",
      "metadata": {
        "id": "uGuzz0fpQl6_"
      },
      "source": [
        "## PCA of variables"
      ]
    },
    {
      "cell_type": "markdown",
      "metadata": {
        "id": "7gLGNqjMRLoA"
      },
      "source": [
        "# Loading in packages"
      ]
    },
    {
      "cell_type": "code",
      "execution_count": null,
      "metadata": {
        "colab": {
          "base_uri": "https://localhost:8080/"
        },
        "id": "THv1wvhTBI1g",
        "outputId": "dd673896-5bec-41e2-e297-ba25ddb6ea8a"
      },
      "outputs": [
        {
          "name": "stdout",
          "output_type": "stream",
          "text": [
            "Looking in indexes: https://pypi.org/simple, https://us-python.pkg.dev/colab-wheels/public/simple/\n",
            "Collecting lassonet\n",
            "  Downloading lassonet-0.0.9-py3-none-any.whl (10 kB)\n",
            "Requirement already satisfied: torch in /usr/local/lib/python3.7/dist-packages (from lassonet) (1.11.0+cu113)\n",
            "Requirement already satisfied: matplotlib in /usr/local/lib/python3.7/dist-packages (from lassonet) (3.2.2)\n",
            "Requirement already satisfied: scikit-learn in /usr/local/lib/python3.7/dist-packages (from lassonet) (1.0.2)\n",
            "Requirement already satisfied: kiwisolver>=1.0.1 in /usr/local/lib/python3.7/dist-packages (from matplotlib->lassonet) (1.4.3)\n",
            "Requirement already satisfied: pyparsing!=2.0.4,!=2.1.2,!=2.1.6,>=2.0.1 in /usr/local/lib/python3.7/dist-packages (from matplotlib->lassonet) (3.0.9)\n",
            "Requirement already satisfied: python-dateutil>=2.1 in /usr/local/lib/python3.7/dist-packages (from matplotlib->lassonet) (2.8.2)\n",
            "Requirement already satisfied: cycler>=0.10 in /usr/local/lib/python3.7/dist-packages (from matplotlib->lassonet) (0.11.0)\n",
            "Requirement already satisfied: numpy>=1.11 in /usr/local/lib/python3.7/dist-packages (from matplotlib->lassonet) (1.21.6)\n",
            "Requirement already satisfied: typing-extensions in /usr/local/lib/python3.7/dist-packages (from kiwisolver>=1.0.1->matplotlib->lassonet) (4.1.1)\n",
            "Requirement already satisfied: six>=1.5 in /usr/local/lib/python3.7/dist-packages (from python-dateutil>=2.1->matplotlib->lassonet) (1.15.0)\n",
            "Requirement already satisfied: joblib>=0.11 in /usr/local/lib/python3.7/dist-packages (from scikit-learn->lassonet) (1.1.0)\n",
            "Requirement already satisfied: threadpoolctl>=2.0.0 in /usr/local/lib/python3.7/dist-packages (from scikit-learn->lassonet) (3.1.0)\n",
            "Requirement already satisfied: scipy>=1.1.0 in /usr/local/lib/python3.7/dist-packages (from scikit-learn->lassonet) (1.4.1)\n",
            "Installing collected packages: lassonet\n",
            "Successfully installed lassonet-0.0.9\n"
          ]
        }
      ],
      "source": [
        "pip install lassonet"
      ]
    },
    {
      "cell_type": "code",
      "execution_count": null,
      "metadata": {
        "id": "3GXbStAPh9t6"
      },
      "outputs": [],
      "source": [
        "#main\n",
        "import tensorflow as tf\n",
        "import csv\n",
        "import pandas as pd\n",
        "import numpy as np\n",
        "import matplotlib.pyplot as plt\n",
        "import tensorflow as tf\n",
        "import lassonet\n",
        "\n",
        "# Tensorflow and Keras\n",
        "from tensorflow.keras import layers as Layers\n",
        "from tensorflow.keras import Sequential\n",
        "from tensorflow.keras.utils import plot_model\n",
        "\n",
        "#Processing\n",
        "from sklearn.preprocessing import OneHotEncoder\n",
        "from sklearn.preprocessing import StandardScaler\n",
        "from sklearn.model_selection import train_test_split\n",
        "\n",
        "#Algorithms\n",
        "from sklearn.linear_model import LinearRegression \n",
        "from sklearn.linear_model import SGDRegressor\n",
        "from sklearn.model_selection import GridSearchCV\n",
        "from sklearn.ensemble import AdaBoostRegressor\n",
        "from sklearn.svm import SVR\n",
        "\n",
        "#Metrics\n",
        "from sklearn.metrics import r2_score\n",
        "from sklearn.metrics import mean_squared_error\n",
        "\n",
        "#Optimizers\n",
        "from tensorflow.keras.optimizers import Adam\n",
        "\n"
      ]
    },
    {
      "cell_type": "code",
      "execution_count": null,
      "metadata": {
        "colab": {
          "base_uri": "https://localhost:8080/"
        },
        "id": "84AwlJSs5Fjl",
        "outputId": "4fed2d3c-3156-45cb-d1f5-4a72a7e1ecf2"
      },
      "outputs": [
        {
          "name": "stdout",
          "output_type": "stream",
          "text": [
            "Help on package lassonet:\n",
            "\n",
            "NAME\n",
            "    lassonet\n",
            "\n",
            "PACKAGE CONTENTS\n",
            "    interfaces\n",
            "    model\n",
            "    prox\n",
            "    prox-examples\n",
            "    r\n",
            "    utils\n",
            "\n",
            "FILE\n",
            "    /usr/local/lib/python3.7/dist-packages/lassonet/__init__.py\n",
            "\n",
            "\n"
          ]
        }
      ],
      "source": [
        "help(lassonet)"
      ]
    },
    {
      "cell_type": "markdown",
      "metadata": {
        "id": "TKCeurVu_ZsG"
      },
      "source": [
        "## Feature Selection"
      ]
    },
    {
      "cell_type": "code",
      "execution_count": null,
      "metadata": {
        "id": "ow-QQFiZ3h-d"
      },
      "outputs": [],
      "source": [
        "from lassonet import LassoNetRegressor\n",
        "from sklearn.datasets import load_diabetes"
      ]
    },
    {
      "cell_type": "code",
      "execution_count": null,
      "metadata": {
        "colab": {
          "base_uri": "https://localhost:8080/"
        },
        "id": "r3k6Z9bZ9vYw",
        "outputId": "c4fedafb-c8d0-4a4e-ed2a-448eb5e9ecc9"
      },
      "outputs": [
        {
          "data": {
            "text/plain": [
              "LassoNetRegressor(device=device(type='cuda'))"
            ]
          },
          "execution_count": 5,
          "metadata": {},
          "output_type": "execute_result"
        }
      ],
      "source": [
        "X, y = load_diabetes(return_X_y = True)\n",
        "model = LassoNetRegressor()\n",
        "model.fit(X,y)"
      ]
    },
    {
      "cell_type": "code",
      "execution_count": null,
      "metadata": {
        "colab": {
          "base_uri": "https://localhost:8080/"
        },
        "id": "E7WQgSFq_fFx",
        "outputId": "862a8847-c76b-4cb5-e8c4-6876a27d4fff"
      },
      "outputs": [
        {
          "data": {
            "text/plain": [
              "numpy.ndarray"
            ]
          },
          "execution_count": 6,
          "metadata": {},
          "output_type": "execute_result"
        }
      ],
      "source": [
        "type(X)"
      ]
    },
    {
      "cell_type": "code",
      "execution_count": null,
      "metadata": {
        "colab": {
          "base_uri": "https://localhost:8080/"
        },
        "id": "KpTLf2G--A1n",
        "outputId": "882e8890-0437-4ed9-a701-877a6240a050"
      },
      "outputs": [
        {
          "data": {
            "text/plain": [
              "((442, 10), (442,))"
            ]
          },
          "execution_count": 7,
          "metadata": {},
          "output_type": "execute_result"
        }
      ],
      "source": [
        "X.shape,y.shape"
      ]
    },
    {
      "cell_type": "markdown",
      "metadata": {
        "id": "HLAPsRvYXoLz"
      },
      "source": [
        "# Load in Data"
      ]
    },
    {
      "cell_type": "code",
      "execution_count": null,
      "metadata": {
        "colab": {
          "base_uri": "https://localhost:8080/"
        },
        "id": "JJk3rUq2hba3",
        "outputId": "d207df25-fd16-4c4e-ab88-83534e4eea40"
      },
      "outputs": [
        {
          "name": "stdout",
          "output_type": "stream",
          "text": [
            "--2022-07-12 06:58:28--  https://raw.githubusercontent.com/JeremyPanJD/stuff/master/PISA_test.csv\n",
            "Resolving raw.githubusercontent.com (raw.githubusercontent.com)... 185.199.108.133, 185.199.109.133, 185.199.110.133, ...\n",
            "Connecting to raw.githubusercontent.com (raw.githubusercontent.com)|185.199.108.133|:443... connected.\n",
            "HTTP request sent, awaiting response... 200 OK\n",
            "Length: 1754013 (1.7M) [text/plain]\n",
            "Saving to: ‘PISA_test.csv’\n",
            "\n",
            "PISA_test.csv       100%[===================>]   1.67M  --.-KB/s    in 0.03s   \n",
            "\n",
            "2022-07-12 06:58:29 (55.1 MB/s) - ‘PISA_test.csv’ saved [1754013/1754013]\n",
            "\n"
          ]
        }
      ],
      "source": [
        "# Load in data from github\n",
        "!wget https://raw.githubusercontent.com/JeremyPanJD/stuff/master/PISA_test.csv"
      ]
    },
    {
      "cell_type": "code",
      "execution_count": null,
      "metadata": {
        "colab": {
          "base_uri": "https://localhost:8080/",
          "height": 488
        },
        "id": "Dgu-uSehi4wS",
        "outputId": "a0a11b53-1ddb-44a1-ce57-a50e2237e8e2"
      },
      "outputs": [
        {
          "data": {
            "text/html": [
              "\n",
              "  <div id=\"df-4a88e1e4-87bd-433e-b631-8eab82cf0d56\">\n",
              "    <div class=\"colab-df-container\">\n",
              "      <div>\n",
              "<style scoped>\n",
              "    .dataframe tbody tr th:only-of-type {\n",
              "        vertical-align: middle;\n",
              "    }\n",
              "\n",
              "    .dataframe tbody tr th {\n",
              "        vertical-align: top;\n",
              "    }\n",
              "\n",
              "    .dataframe thead th {\n",
              "        text-align: right;\n",
              "    }\n",
              "</style>\n",
              "<table border=\"1\" class=\"dataframe\">\n",
              "  <thead>\n",
              "    <tr style=\"text-align: right;\">\n",
              "      <th></th>\n",
              "      <th>ST004D01T</th>\n",
              "      <th>MISCED</th>\n",
              "      <th>FISCED</th>\n",
              "      <th>REPEAT</th>\n",
              "      <th>WEALTH</th>\n",
              "      <th>TEACHSUP</th>\n",
              "      <th>DIRINS</th>\n",
              "      <th>PERFEED</th>\n",
              "      <th>EMOSUPS</th>\n",
              "      <th>PERCOMP</th>\n",
              "      <th>...</th>\n",
              "      <th>PV2MATH</th>\n",
              "      <th>PV3MATH</th>\n",
              "      <th>PV4MATH</th>\n",
              "      <th>PV5MATH</th>\n",
              "      <th>PV6MATH</th>\n",
              "      <th>PV7MATH</th>\n",
              "      <th>PV8MATH</th>\n",
              "      <th>PV9MATH</th>\n",
              "      <th>PV10MATH</th>\n",
              "      <th>Mean.Math</th>\n",
              "    </tr>\n",
              "  </thead>\n",
              "  <tbody>\n",
              "    <tr>\n",
              "      <th>0</th>\n",
              "      <td>2</td>\n",
              "      <td>6</td>\n",
              "      <td>6</td>\n",
              "      <td>1</td>\n",
              "      <td>3.1045</td>\n",
              "      <td>-1.1481</td>\n",
              "      <td>-1.0499</td>\n",
              "      <td>-0.3253</td>\n",
              "      <td>1.0346</td>\n",
              "      <td>2.0378</td>\n",
              "      <td>...</td>\n",
              "      <td>484.940</td>\n",
              "      <td>504.516</td>\n",
              "      <td>489.777</td>\n",
              "      <td>499.352</td>\n",
              "      <td>506.709</td>\n",
              "      <td>492.698</td>\n",
              "      <td>451.544</td>\n",
              "      <td>463.330</td>\n",
              "      <td>468.642</td>\n",
              "      <td>484.92</td>\n",
              "    </tr>\n",
              "    <tr>\n",
              "      <th>1</th>\n",
              "      <td>2</td>\n",
              "      <td>4</td>\n",
              "      <td>2</td>\n",
              "      <td>0</td>\n",
              "      <td>0.4783</td>\n",
              "      <td>1.3140</td>\n",
              "      <td>1.8202</td>\n",
              "      <td>2.0165</td>\n",
              "      <td>1.0346</td>\n",
              "      <td>2.0378</td>\n",
              "      <td>...</td>\n",
              "      <td>463.350</td>\n",
              "      <td>452.612</td>\n",
              "      <td>454.741</td>\n",
              "      <td>550.980</td>\n",
              "      <td>423.527</td>\n",
              "      <td>421.069</td>\n",
              "      <td>437.296</td>\n",
              "      <td>372.823</td>\n",
              "      <td>370.471</td>\n",
              "      <td>438.15</td>\n",
              "    </tr>\n",
              "    <tr>\n",
              "      <th>2</th>\n",
              "      <td>1</td>\n",
              "      <td>4</td>\n",
              "      <td>6</td>\n",
              "      <td>0</td>\n",
              "      <td>1.5937</td>\n",
              "      <td>1.3140</td>\n",
              "      <td>1.8202</td>\n",
              "      <td>1.5844</td>\n",
              "      <td>1.0346</td>\n",
              "      <td>0.6912</td>\n",
              "      <td>...</td>\n",
              "      <td>329.377</td>\n",
              "      <td>326.831</td>\n",
              "      <td>450.079</td>\n",
              "      <td>376.246</td>\n",
              "      <td>360.480</td>\n",
              "      <td>432.748</td>\n",
              "      <td>328.568</td>\n",
              "      <td>399.607</td>\n",
              "      <td>410.414</td>\n",
              "      <td>386.56</td>\n",
              "    </tr>\n",
              "    <tr>\n",
              "      <th>3</th>\n",
              "      <td>1</td>\n",
              "      <td>6</td>\n",
              "      <td>6</td>\n",
              "      <td>0</td>\n",
              "      <td>0.1184</td>\n",
              "      <td>0.7015</td>\n",
              "      <td>0.2860</td>\n",
              "      <td>0.8654</td>\n",
              "      <td>1.0346</td>\n",
              "      <td>-1.9892</td>\n",
              "      <td>...</td>\n",
              "      <td>580.903</td>\n",
              "      <td>443.859</td>\n",
              "      <td>510.238</td>\n",
              "      <td>525.548</td>\n",
              "      <td>547.980</td>\n",
              "      <td>448.527</td>\n",
              "      <td>550.740</td>\n",
              "      <td>519.252</td>\n",
              "      <td>424.691</td>\n",
              "      <td>500.80</td>\n",
              "    </tr>\n",
              "    <tr>\n",
              "      <th>4</th>\n",
              "      <td>1</td>\n",
              "      <td>6</td>\n",
              "      <td>5</td>\n",
              "      <td>0</td>\n",
              "      <td>1.9399</td>\n",
              "      <td>0.7015</td>\n",
              "      <td>-0.0424</td>\n",
              "      <td>0.7743</td>\n",
              "      <td>1.0346</td>\n",
              "      <td>2.0378</td>\n",
              "      <td>...</td>\n",
              "      <td>497.018</td>\n",
              "      <td>461.940</td>\n",
              "      <td>477.415</td>\n",
              "      <td>531.707</td>\n",
              "      <td>500.029</td>\n",
              "      <td>517.522</td>\n",
              "      <td>495.786</td>\n",
              "      <td>556.845</td>\n",
              "      <td>509.789</td>\n",
              "      <td>508.92</td>\n",
              "    </tr>\n",
              "    <tr>\n",
              "      <th>...</th>\n",
              "      <td>...</td>\n",
              "      <td>...</td>\n",
              "      <td>...</td>\n",
              "      <td>...</td>\n",
              "      <td>...</td>\n",
              "      <td>...</td>\n",
              "      <td>...</td>\n",
              "      <td>...</td>\n",
              "      <td>...</td>\n",
              "      <td>...</td>\n",
              "      <td>...</td>\n",
              "      <td>...</td>\n",
              "      <td>...</td>\n",
              "      <td>...</td>\n",
              "      <td>...</td>\n",
              "      <td>...</td>\n",
              "      <td>...</td>\n",
              "      <td>...</td>\n",
              "      <td>...</td>\n",
              "      <td>...</td>\n",
              "      <td>...</td>\n",
              "    </tr>\n",
              "    <tr>\n",
              "      <th>9454</th>\n",
              "      <td>1</td>\n",
              "      <td>5</td>\n",
              "      <td>4</td>\n",
              "      <td>0</td>\n",
              "      <td>-0.4479</td>\n",
              "      <td>-1.6385</td>\n",
              "      <td>-1.3309</td>\n",
              "      <td>-0.0008</td>\n",
              "      <td>-2.0819</td>\n",
              "      <td>-1.5580</td>\n",
              "      <td>...</td>\n",
              "      <td>425.666</td>\n",
              "      <td>506.967</td>\n",
              "      <td>499.838</td>\n",
              "      <td>500.899</td>\n",
              "      <td>466.503</td>\n",
              "      <td>519.023</td>\n",
              "      <td>517.972</td>\n",
              "      <td>530.628</td>\n",
              "      <td>457.134</td>\n",
              "      <td>488.47</td>\n",
              "    </tr>\n",
              "    <tr>\n",
              "      <th>9455</th>\n",
              "      <td>1</td>\n",
              "      <td>6</td>\n",
              "      <td>6</td>\n",
              "      <td>0</td>\n",
              "      <td>1.1025</td>\n",
              "      <td>-1.1846</td>\n",
              "      <td>1.1049</td>\n",
              "      <td>-0.3253</td>\n",
              "      <td>-1.6735</td>\n",
              "      <td>-0.6142</td>\n",
              "      <td>...</td>\n",
              "      <td>341.436</td>\n",
              "      <td>458.803</td>\n",
              "      <td>394.903</td>\n",
              "      <td>402.680</td>\n",
              "      <td>419.458</td>\n",
              "      <td>473.483</td>\n",
              "      <td>375.546</td>\n",
              "      <td>459.061</td>\n",
              "      <td>472.896</td>\n",
              "      <td>420.46</td>\n",
              "    </tr>\n",
              "    <tr>\n",
              "      <th>9456</th>\n",
              "      <td>1</td>\n",
              "      <td>6</td>\n",
              "      <td>6</td>\n",
              "      <td>0</td>\n",
              "      <td>2.6742</td>\n",
              "      <td>-0.9306</td>\n",
              "      <td>0.0351</td>\n",
              "      <td>-0.3253</td>\n",
              "      <td>1.0346</td>\n",
              "      <td>2.0378</td>\n",
              "      <td>...</td>\n",
              "      <td>358.358</td>\n",
              "      <td>323.541</td>\n",
              "      <td>317.103</td>\n",
              "      <td>220.606</td>\n",
              "      <td>401.668</td>\n",
              "      <td>348.219</td>\n",
              "      <td>333.548</td>\n",
              "      <td>283.241</td>\n",
              "      <td>360.705</td>\n",
              "      <td>327.03</td>\n",
              "    </tr>\n",
              "    <tr>\n",
              "      <th>9457</th>\n",
              "      <td>1</td>\n",
              "      <td>6</td>\n",
              "      <td>6</td>\n",
              "      <td>0</td>\n",
              "      <td>0.2030</td>\n",
              "      <td>1.3140</td>\n",
              "      <td>1.8202</td>\n",
              "      <td>-1.6391</td>\n",
              "      <td>-1.1869</td>\n",
              "      <td>0.6912</td>\n",
              "      <td>...</td>\n",
              "      <td>325.016</td>\n",
              "      <td>334.711</td>\n",
              "      <td>308.303</td>\n",
              "      <td>314.648</td>\n",
              "      <td>297.148</td>\n",
              "      <td>345.016</td>\n",
              "      <td>307.365</td>\n",
              "      <td>327.787</td>\n",
              "      <td>205.345</td>\n",
              "      <td>316.51</td>\n",
              "    </tr>\n",
              "    <tr>\n",
              "      <th>9458</th>\n",
              "      <td>2</td>\n",
              "      <td>4</td>\n",
              "      <td>4</td>\n",
              "      <td>0</td>\n",
              "      <td>-0.2272</td>\n",
              "      <td>-2.7106</td>\n",
              "      <td>-2.9425</td>\n",
              "      <td>-1.6391</td>\n",
              "      <td>-2.4468</td>\n",
              "      <td>-1.9892</td>\n",
              "      <td>...</td>\n",
              "      <td>439.551</td>\n",
              "      <td>420.307</td>\n",
              "      <td>406.823</td>\n",
              "      <td>412.955</td>\n",
              "      <td>451.130</td>\n",
              "      <td>432.793</td>\n",
              "      <td>406.298</td>\n",
              "      <td>430.016</td>\n",
              "      <td>356.259</td>\n",
              "      <td>418.62</td>\n",
              "    </tr>\n",
              "  </tbody>\n",
              "</table>\n",
              "<p>9459 rows × 27 columns</p>\n",
              "</div>\n",
              "      <button class=\"colab-df-convert\" onclick=\"convertToInteractive('df-4a88e1e4-87bd-433e-b631-8eab82cf0d56')\"\n",
              "              title=\"Convert this dataframe to an interactive table.\"\n",
              "              style=\"display:none;\">\n",
              "        \n",
              "  <svg xmlns=\"http://www.w3.org/2000/svg\" height=\"24px\"viewBox=\"0 0 24 24\"\n",
              "       width=\"24px\">\n",
              "    <path d=\"M0 0h24v24H0V0z\" fill=\"none\"/>\n",
              "    <path d=\"M18.56 5.44l.94 2.06.94-2.06 2.06-.94-2.06-.94-.94-2.06-.94 2.06-2.06.94zm-11 1L8.5 8.5l.94-2.06 2.06-.94-2.06-.94L8.5 2.5l-.94 2.06-2.06.94zm10 10l.94 2.06.94-2.06 2.06-.94-2.06-.94-.94-2.06-.94 2.06-2.06.94z\"/><path d=\"M17.41 7.96l-1.37-1.37c-.4-.4-.92-.59-1.43-.59-.52 0-1.04.2-1.43.59L10.3 9.45l-7.72 7.72c-.78.78-.78 2.05 0 2.83L4 21.41c.39.39.9.59 1.41.59.51 0 1.02-.2 1.41-.59l7.78-7.78 2.81-2.81c.8-.78.8-2.07 0-2.86zM5.41 20L4 18.59l7.72-7.72 1.47 1.35L5.41 20z\"/>\n",
              "  </svg>\n",
              "      </button>\n",
              "      \n",
              "  <style>\n",
              "    .colab-df-container {\n",
              "      display:flex;\n",
              "      flex-wrap:wrap;\n",
              "      gap: 12px;\n",
              "    }\n",
              "\n",
              "    .colab-df-convert {\n",
              "      background-color: #E8F0FE;\n",
              "      border: none;\n",
              "      border-radius: 50%;\n",
              "      cursor: pointer;\n",
              "      display: none;\n",
              "      fill: #1967D2;\n",
              "      height: 32px;\n",
              "      padding: 0 0 0 0;\n",
              "      width: 32px;\n",
              "    }\n",
              "\n",
              "    .colab-df-convert:hover {\n",
              "      background-color: #E2EBFA;\n",
              "      box-shadow: 0px 1px 2px rgba(60, 64, 67, 0.3), 0px 1px 3px 1px rgba(60, 64, 67, 0.15);\n",
              "      fill: #174EA6;\n",
              "    }\n",
              "\n",
              "    [theme=dark] .colab-df-convert {\n",
              "      background-color: #3B4455;\n",
              "      fill: #D2E3FC;\n",
              "    }\n",
              "\n",
              "    [theme=dark] .colab-df-convert:hover {\n",
              "      background-color: #434B5C;\n",
              "      box-shadow: 0px 1px 3px 1px rgba(0, 0, 0, 0.15);\n",
              "      filter: drop-shadow(0px 1px 2px rgba(0, 0, 0, 0.3));\n",
              "      fill: #FFFFFF;\n",
              "    }\n",
              "  </style>\n",
              "\n",
              "      <script>\n",
              "        const buttonEl =\n",
              "          document.querySelector('#df-4a88e1e4-87bd-433e-b631-8eab82cf0d56 button.colab-df-convert');\n",
              "        buttonEl.style.display =\n",
              "          google.colab.kernel.accessAllowed ? 'block' : 'none';\n",
              "\n",
              "        async function convertToInteractive(key) {\n",
              "          const element = document.querySelector('#df-4a88e1e4-87bd-433e-b631-8eab82cf0d56');\n",
              "          const dataTable =\n",
              "            await google.colab.kernel.invokeFunction('convertToInteractive',\n",
              "                                                     [key], {});\n",
              "          if (!dataTable) return;\n",
              "\n",
              "          const docLinkHtml = 'Like what you see? Visit the ' +\n",
              "            '<a target=\"_blank\" href=https://colab.research.google.com/notebooks/data_table.ipynb>data table notebook</a>'\n",
              "            + ' to learn more about interactive tables.';\n",
              "          element.innerHTML = '';\n",
              "          dataTable['output_type'] = 'display_data';\n",
              "          await google.colab.output.renderOutput(dataTable, element);\n",
              "          const docLink = document.createElement('div');\n",
              "          docLink.innerHTML = docLinkHtml;\n",
              "          element.appendChild(docLink);\n",
              "        }\n",
              "      </script>\n",
              "    </div>\n",
              "  </div>\n",
              "  "
            ],
            "text/plain": [
              "      ST004D01T  MISCED  FISCED  REPEAT  WEALTH  TEACHSUP  DIRINS  PERFEED  \\\n",
              "0             2       6       6       1  3.1045   -1.1481 -1.0499  -0.3253   \n",
              "1             2       4       2       0  0.4783    1.3140  1.8202   2.0165   \n",
              "2             1       4       6       0  1.5937    1.3140  1.8202   1.5844   \n",
              "3             1       6       6       0  0.1184    0.7015  0.2860   0.8654   \n",
              "4             1       6       5       0  1.9399    0.7015 -0.0424   0.7743   \n",
              "...         ...     ...     ...     ...     ...       ...     ...      ...   \n",
              "9454          1       5       4       0 -0.4479   -1.6385 -1.3309  -0.0008   \n",
              "9455          1       6       6       0  1.1025   -1.1846  1.1049  -0.3253   \n",
              "9456          1       6       6       0  2.6742   -0.9306  0.0351  -0.3253   \n",
              "9457          1       6       6       0  0.2030    1.3140  1.8202  -1.6391   \n",
              "9458          2       4       4       0 -0.2272   -2.7106 -2.9425  -1.6391   \n",
              "\n",
              "      EMOSUPS  PERCOMP  ...  PV2MATH  PV3MATH  PV4MATH  PV5MATH  PV6MATH  \\\n",
              "0      1.0346   2.0378  ...  484.940  504.516  489.777  499.352  506.709   \n",
              "1      1.0346   2.0378  ...  463.350  452.612  454.741  550.980  423.527   \n",
              "2      1.0346   0.6912  ...  329.377  326.831  450.079  376.246  360.480   \n",
              "3      1.0346  -1.9892  ...  580.903  443.859  510.238  525.548  547.980   \n",
              "4      1.0346   2.0378  ...  497.018  461.940  477.415  531.707  500.029   \n",
              "...       ...      ...  ...      ...      ...      ...      ...      ...   \n",
              "9454  -2.0819  -1.5580  ...  425.666  506.967  499.838  500.899  466.503   \n",
              "9455  -1.6735  -0.6142  ...  341.436  458.803  394.903  402.680  419.458   \n",
              "9456   1.0346   2.0378  ...  358.358  323.541  317.103  220.606  401.668   \n",
              "9457  -1.1869   0.6912  ...  325.016  334.711  308.303  314.648  297.148   \n",
              "9458  -2.4468  -1.9892  ...  439.551  420.307  406.823  412.955  451.130   \n",
              "\n",
              "      PV7MATH  PV8MATH  PV9MATH  PV10MATH  Mean.Math  \n",
              "0     492.698  451.544  463.330   468.642     484.92  \n",
              "1     421.069  437.296  372.823   370.471     438.15  \n",
              "2     432.748  328.568  399.607   410.414     386.56  \n",
              "3     448.527  550.740  519.252   424.691     500.80  \n",
              "4     517.522  495.786  556.845   509.789     508.92  \n",
              "...       ...      ...      ...       ...        ...  \n",
              "9454  519.023  517.972  530.628   457.134     488.47  \n",
              "9455  473.483  375.546  459.061   472.896     420.46  \n",
              "9456  348.219  333.548  283.241   360.705     327.03  \n",
              "9457  345.016  307.365  327.787   205.345     316.51  \n",
              "9458  432.793  406.298  430.016   356.259     418.62  \n",
              "\n",
              "[9459 rows x 27 columns]"
            ]
          },
          "execution_count": 9,
          "metadata": {},
          "output_type": "execute_result"
        }
      ],
      "source": [
        "PISA = pd.read_csv(\"/content/PISA_test.csv\")\n",
        "PISA"
      ]
    },
    {
      "cell_type": "code",
      "execution_count": null,
      "metadata": {
        "id": "LaQNaBrYjuxl"
      },
      "outputs": [],
      "source": [
        "PISA_keys = [\"Gender\", \"Mother Education\",\"Father Education\",\"Grade Repeat\", \"Family Wealth\", \"Teacher support\", \"Teacher-directed instruction\", \"Perceived Feedback\", \"Parent's emotional support\", \"Perception of Competitiveness in schools\",\n",
        "             \"Perception of Cooperation at school\", \"General fear of failure\", \"eudaemonia Meaning in life\", \"Resilience\", \"Cognitive Flexibility\", \"Subjective Wellbeing Sense of Belonging in School\", \"Average Math\"]\n"
      ]
    },
    {
      "cell_type": "code",
      "execution_count": null,
      "metadata": {
        "colab": {
          "base_uri": "https://localhost:8080/"
        },
        "id": "s5OMOaCR8l1l",
        "outputId": "d440691e-f3dc-4746-bb81-775873f41214"
      },
      "outputs": [
        {
          "data": {
            "text/plain": [
              "Index(['ST004D01T', 'MISCED', 'FISCED', 'REPEAT', 'WEALTH', 'TEACHSUP',\n",
              "       'DIRINS', 'PERFEED', 'EMOSUPS', 'PERCOMP', 'PERCOOP', 'GFOFAIL',\n",
              "       'EUDMO', 'RESILIENCE', 'COGFLEX', 'BELONG', 'PV1MATH', 'PV2MATH',\n",
              "       'PV3MATH', 'PV4MATH', 'PV5MATH', 'PV6MATH', 'PV7MATH', 'PV8MATH',\n",
              "       'PV9MATH', 'PV10MATH', 'Mean.Math'],\n",
              "      dtype='object')"
            ]
          },
          "execution_count": 11,
          "metadata": {},
          "output_type": "execute_result"
        }
      ],
      "source": [
        "PISA.columns"
      ]
    },
    {
      "cell_type": "code",
      "execution_count": null,
      "metadata": {
        "colab": {
          "base_uri": "https://localhost:8080/",
          "height": 488
        },
        "id": "X4NmgReW7mMh",
        "outputId": "ebda49c4-7f4e-4746-d774-97100dfb364e"
      },
      "outputs": [
        {
          "data": {
            "text/html": [
              "\n",
              "  <div id=\"df-7d1fbcca-8201-4bac-9058-d59c9d01a462\">\n",
              "    <div class=\"colab-df-container\">\n",
              "      <div>\n",
              "<style scoped>\n",
              "    .dataframe tbody tr th:only-of-type {\n",
              "        vertical-align: middle;\n",
              "    }\n",
              "\n",
              "    .dataframe tbody tr th {\n",
              "        vertical-align: top;\n",
              "    }\n",
              "\n",
              "    .dataframe thead th {\n",
              "        text-align: right;\n",
              "    }\n",
              "</style>\n",
              "<table border=\"1\" class=\"dataframe\">\n",
              "  <thead>\n",
              "    <tr style=\"text-align: right;\">\n",
              "      <th></th>\n",
              "      <th>ST004D01T</th>\n",
              "      <th>MISCED</th>\n",
              "      <th>FISCED</th>\n",
              "      <th>REPEAT</th>\n",
              "      <th>WEALTH</th>\n",
              "      <th>TEACHSUP</th>\n",
              "      <th>DIRINS</th>\n",
              "      <th>PERFEED</th>\n",
              "      <th>EMOSUPS</th>\n",
              "      <th>PERCOMP</th>\n",
              "      <th>PERCOOP</th>\n",
              "      <th>GFOFAIL</th>\n",
              "      <th>EUDMO</th>\n",
              "      <th>RESILIENCE</th>\n",
              "      <th>COGFLEX</th>\n",
              "      <th>BELONG</th>\n",
              "      <th>Mean.Math</th>\n",
              "    </tr>\n",
              "  </thead>\n",
              "  <tbody>\n",
              "    <tr>\n",
              "      <th>0</th>\n",
              "      <td>2</td>\n",
              "      <td>6</td>\n",
              "      <td>6</td>\n",
              "      <td>1</td>\n",
              "      <td>3.1045</td>\n",
              "      <td>-1.1481</td>\n",
              "      <td>-1.0499</td>\n",
              "      <td>-0.3253</td>\n",
              "      <td>1.0346</td>\n",
              "      <td>2.0378</td>\n",
              "      <td>1.6762</td>\n",
              "      <td>1.8905</td>\n",
              "      <td>1.7411</td>\n",
              "      <td>2.3693</td>\n",
              "      <td>2.1449</td>\n",
              "      <td>2.7562</td>\n",
              "      <td>484.92</td>\n",
              "    </tr>\n",
              "    <tr>\n",
              "      <th>1</th>\n",
              "      <td>2</td>\n",
              "      <td>4</td>\n",
              "      <td>2</td>\n",
              "      <td>0</td>\n",
              "      <td>0.4783</td>\n",
              "      <td>1.3140</td>\n",
              "      <td>1.8202</td>\n",
              "      <td>2.0165</td>\n",
              "      <td>1.0346</td>\n",
              "      <td>2.0378</td>\n",
              "      <td>1.6762</td>\n",
              "      <td>-1.8939</td>\n",
              "      <td>-0.9827</td>\n",
              "      <td>2.3693</td>\n",
              "      <td>2.1449</td>\n",
              "      <td>2.7474</td>\n",
              "      <td>438.15</td>\n",
              "    </tr>\n",
              "    <tr>\n",
              "      <th>2</th>\n",
              "      <td>1</td>\n",
              "      <td>4</td>\n",
              "      <td>6</td>\n",
              "      <td>0</td>\n",
              "      <td>1.5937</td>\n",
              "      <td>1.3140</td>\n",
              "      <td>1.8202</td>\n",
              "      <td>1.5844</td>\n",
              "      <td>1.0346</td>\n",
              "      <td>0.6912</td>\n",
              "      <td>1.6762</td>\n",
              "      <td>1.4083</td>\n",
              "      <td>1.7411</td>\n",
              "      <td>2.3693</td>\n",
              "      <td>2.1449</td>\n",
              "      <td>2.7249</td>\n",
              "      <td>386.56</td>\n",
              "    </tr>\n",
              "    <tr>\n",
              "      <th>3</th>\n",
              "      <td>1</td>\n",
              "      <td>6</td>\n",
              "      <td>6</td>\n",
              "      <td>0</td>\n",
              "      <td>0.1184</td>\n",
              "      <td>0.7015</td>\n",
              "      <td>0.2860</td>\n",
              "      <td>0.8654</td>\n",
              "      <td>1.0346</td>\n",
              "      <td>-1.9892</td>\n",
              "      <td>1.6762</td>\n",
              "      <td>1.4083</td>\n",
              "      <td>1.7411</td>\n",
              "      <td>2.3693</td>\n",
              "      <td>2.1449</td>\n",
              "      <td>2.7249</td>\n",
              "      <td>500.80</td>\n",
              "    </tr>\n",
              "    <tr>\n",
              "      <th>4</th>\n",
              "      <td>1</td>\n",
              "      <td>6</td>\n",
              "      <td>5</td>\n",
              "      <td>0</td>\n",
              "      <td>1.9399</td>\n",
              "      <td>0.7015</td>\n",
              "      <td>-0.0424</td>\n",
              "      <td>0.7743</td>\n",
              "      <td>1.0346</td>\n",
              "      <td>2.0378</td>\n",
              "      <td>1.6762</td>\n",
              "      <td>0.5949</td>\n",
              "      <td>1.7411</td>\n",
              "      <td>2.3693</td>\n",
              "      <td>2.1449</td>\n",
              "      <td>2.7249</td>\n",
              "      <td>508.92</td>\n",
              "    </tr>\n",
              "    <tr>\n",
              "      <th>...</th>\n",
              "      <td>...</td>\n",
              "      <td>...</td>\n",
              "      <td>...</td>\n",
              "      <td>...</td>\n",
              "      <td>...</td>\n",
              "      <td>...</td>\n",
              "      <td>...</td>\n",
              "      <td>...</td>\n",
              "      <td>...</td>\n",
              "      <td>...</td>\n",
              "      <td>...</td>\n",
              "      <td>...</td>\n",
              "      <td>...</td>\n",
              "      <td>...</td>\n",
              "      <td>...</td>\n",
              "      <td>...</td>\n",
              "      <td>...</td>\n",
              "    </tr>\n",
              "    <tr>\n",
              "      <th>9454</th>\n",
              "      <td>1</td>\n",
              "      <td>5</td>\n",
              "      <td>4</td>\n",
              "      <td>0</td>\n",
              "      <td>-0.4479</td>\n",
              "      <td>-1.6385</td>\n",
              "      <td>-1.3309</td>\n",
              "      <td>-0.0008</td>\n",
              "      <td>-2.0819</td>\n",
              "      <td>-1.5580</td>\n",
              "      <td>-2.1428</td>\n",
              "      <td>1.8905</td>\n",
              "      <td>-2.1464</td>\n",
              "      <td>-2.1837</td>\n",
              "      <td>-1.2313</td>\n",
              "      <td>-3.2367</td>\n",
              "      <td>488.47</td>\n",
              "    </tr>\n",
              "    <tr>\n",
              "      <th>9455</th>\n",
              "      <td>1</td>\n",
              "      <td>6</td>\n",
              "      <td>6</td>\n",
              "      <td>0</td>\n",
              "      <td>1.1025</td>\n",
              "      <td>-1.1846</td>\n",
              "      <td>1.1049</td>\n",
              "      <td>-0.3253</td>\n",
              "      <td>-1.6735</td>\n",
              "      <td>-0.6142</td>\n",
              "      <td>-2.1428</td>\n",
              "      <td>1.0944</td>\n",
              "      <td>-2.1464</td>\n",
              "      <td>-1.3493</td>\n",
              "      <td>-1.2798</td>\n",
              "      <td>-3.2367</td>\n",
              "      <td>420.46</td>\n",
              "    </tr>\n",
              "    <tr>\n",
              "      <th>9456</th>\n",
              "      <td>1</td>\n",
              "      <td>6</td>\n",
              "      <td>6</td>\n",
              "      <td>0</td>\n",
              "      <td>2.6742</td>\n",
              "      <td>-0.9306</td>\n",
              "      <td>0.0351</td>\n",
              "      <td>-0.3253</td>\n",
              "      <td>1.0346</td>\n",
              "      <td>2.0378</td>\n",
              "      <td>-2.1428</td>\n",
              "      <td>0.4637</td>\n",
              "      <td>-2.1464</td>\n",
              "      <td>-1.5508</td>\n",
              "      <td>-1.3485</td>\n",
              "      <td>-3.2367</td>\n",
              "      <td>327.03</td>\n",
              "    </tr>\n",
              "    <tr>\n",
              "      <th>9457</th>\n",
              "      <td>1</td>\n",
              "      <td>6</td>\n",
              "      <td>6</td>\n",
              "      <td>0</td>\n",
              "      <td>0.2030</td>\n",
              "      <td>1.3140</td>\n",
              "      <td>1.8202</td>\n",
              "      <td>-1.6391</td>\n",
              "      <td>-1.1869</td>\n",
              "      <td>0.6912</td>\n",
              "      <td>-2.1428</td>\n",
              "      <td>1.8905</td>\n",
              "      <td>-2.1464</td>\n",
              "      <td>-2.5219</td>\n",
              "      <td>-3.2784</td>\n",
              "      <td>-3.2367</td>\n",
              "      <td>316.51</td>\n",
              "    </tr>\n",
              "    <tr>\n",
              "      <th>9458</th>\n",
              "      <td>2</td>\n",
              "      <td>4</td>\n",
              "      <td>4</td>\n",
              "      <td>0</td>\n",
              "      <td>-0.2272</td>\n",
              "      <td>-2.7106</td>\n",
              "      <td>-2.9425</td>\n",
              "      <td>-1.6391</td>\n",
              "      <td>-2.4468</td>\n",
              "      <td>-1.9892</td>\n",
              "      <td>-2.1428</td>\n",
              "      <td>-1.8939</td>\n",
              "      <td>-2.1464</td>\n",
              "      <td>-3.1675</td>\n",
              "      <td>-3.2784</td>\n",
              "      <td>-3.2367</td>\n",
              "      <td>418.62</td>\n",
              "    </tr>\n",
              "  </tbody>\n",
              "</table>\n",
              "<p>9459 rows × 17 columns</p>\n",
              "</div>\n",
              "      <button class=\"colab-df-convert\" onclick=\"convertToInteractive('df-7d1fbcca-8201-4bac-9058-d59c9d01a462')\"\n",
              "              title=\"Convert this dataframe to an interactive table.\"\n",
              "              style=\"display:none;\">\n",
              "        \n",
              "  <svg xmlns=\"http://www.w3.org/2000/svg\" height=\"24px\"viewBox=\"0 0 24 24\"\n",
              "       width=\"24px\">\n",
              "    <path d=\"M0 0h24v24H0V0z\" fill=\"none\"/>\n",
              "    <path d=\"M18.56 5.44l.94 2.06.94-2.06 2.06-.94-2.06-.94-.94-2.06-.94 2.06-2.06.94zm-11 1L8.5 8.5l.94-2.06 2.06-.94-2.06-.94L8.5 2.5l-.94 2.06-2.06.94zm10 10l.94 2.06.94-2.06 2.06-.94-2.06-.94-.94-2.06-.94 2.06-2.06.94z\"/><path d=\"M17.41 7.96l-1.37-1.37c-.4-.4-.92-.59-1.43-.59-.52 0-1.04.2-1.43.59L10.3 9.45l-7.72 7.72c-.78.78-.78 2.05 0 2.83L4 21.41c.39.39.9.59 1.41.59.51 0 1.02-.2 1.41-.59l7.78-7.78 2.81-2.81c.8-.78.8-2.07 0-2.86zM5.41 20L4 18.59l7.72-7.72 1.47 1.35L5.41 20z\"/>\n",
              "  </svg>\n",
              "      </button>\n",
              "      \n",
              "  <style>\n",
              "    .colab-df-container {\n",
              "      display:flex;\n",
              "      flex-wrap:wrap;\n",
              "      gap: 12px;\n",
              "    }\n",
              "\n",
              "    .colab-df-convert {\n",
              "      background-color: #E8F0FE;\n",
              "      border: none;\n",
              "      border-radius: 50%;\n",
              "      cursor: pointer;\n",
              "      display: none;\n",
              "      fill: #1967D2;\n",
              "      height: 32px;\n",
              "      padding: 0 0 0 0;\n",
              "      width: 32px;\n",
              "    }\n",
              "\n",
              "    .colab-df-convert:hover {\n",
              "      background-color: #E2EBFA;\n",
              "      box-shadow: 0px 1px 2px rgba(60, 64, 67, 0.3), 0px 1px 3px 1px rgba(60, 64, 67, 0.15);\n",
              "      fill: #174EA6;\n",
              "    }\n",
              "\n",
              "    [theme=dark] .colab-df-convert {\n",
              "      background-color: #3B4455;\n",
              "      fill: #D2E3FC;\n",
              "    }\n",
              "\n",
              "    [theme=dark] .colab-df-convert:hover {\n",
              "      background-color: #434B5C;\n",
              "      box-shadow: 0px 1px 3px 1px rgba(0, 0, 0, 0.15);\n",
              "      filter: drop-shadow(0px 1px 2px rgba(0, 0, 0, 0.3));\n",
              "      fill: #FFFFFF;\n",
              "    }\n",
              "  </style>\n",
              "\n",
              "      <script>\n",
              "        const buttonEl =\n",
              "          document.querySelector('#df-7d1fbcca-8201-4bac-9058-d59c9d01a462 button.colab-df-convert');\n",
              "        buttonEl.style.display =\n",
              "          google.colab.kernel.accessAllowed ? 'block' : 'none';\n",
              "\n",
              "        async function convertToInteractive(key) {\n",
              "          const element = document.querySelector('#df-7d1fbcca-8201-4bac-9058-d59c9d01a462');\n",
              "          const dataTable =\n",
              "            await google.colab.kernel.invokeFunction('convertToInteractive',\n",
              "                                                     [key], {});\n",
              "          if (!dataTable) return;\n",
              "\n",
              "          const docLinkHtml = 'Like what you see? Visit the ' +\n",
              "            '<a target=\"_blank\" href=https://colab.research.google.com/notebooks/data_table.ipynb>data table notebook</a>'\n",
              "            + ' to learn more about interactive tables.';\n",
              "          element.innerHTML = '';\n",
              "          dataTable['output_type'] = 'display_data';\n",
              "          await google.colab.output.renderOutput(dataTable, element);\n",
              "          const docLink = document.createElement('div');\n",
              "          docLink.innerHTML = docLinkHtml;\n",
              "          element.appendChild(docLink);\n",
              "        }\n",
              "      </script>\n",
              "    </div>\n",
              "  </div>\n",
              "  "
            ],
            "text/plain": [
              "      ST004D01T  MISCED  FISCED  REPEAT  WEALTH  TEACHSUP  DIRINS  PERFEED  \\\n",
              "0             2       6       6       1  3.1045   -1.1481 -1.0499  -0.3253   \n",
              "1             2       4       2       0  0.4783    1.3140  1.8202   2.0165   \n",
              "2             1       4       6       0  1.5937    1.3140  1.8202   1.5844   \n",
              "3             1       6       6       0  0.1184    0.7015  0.2860   0.8654   \n",
              "4             1       6       5       0  1.9399    0.7015 -0.0424   0.7743   \n",
              "...         ...     ...     ...     ...     ...       ...     ...      ...   \n",
              "9454          1       5       4       0 -0.4479   -1.6385 -1.3309  -0.0008   \n",
              "9455          1       6       6       0  1.1025   -1.1846  1.1049  -0.3253   \n",
              "9456          1       6       6       0  2.6742   -0.9306  0.0351  -0.3253   \n",
              "9457          1       6       6       0  0.2030    1.3140  1.8202  -1.6391   \n",
              "9458          2       4       4       0 -0.2272   -2.7106 -2.9425  -1.6391   \n",
              "\n",
              "      EMOSUPS  PERCOMP  PERCOOP  GFOFAIL   EUDMO  RESILIENCE  COGFLEX  BELONG  \\\n",
              "0      1.0346   2.0378   1.6762   1.8905  1.7411      2.3693   2.1449  2.7562   \n",
              "1      1.0346   2.0378   1.6762  -1.8939 -0.9827      2.3693   2.1449  2.7474   \n",
              "2      1.0346   0.6912   1.6762   1.4083  1.7411      2.3693   2.1449  2.7249   \n",
              "3      1.0346  -1.9892   1.6762   1.4083  1.7411      2.3693   2.1449  2.7249   \n",
              "4      1.0346   2.0378   1.6762   0.5949  1.7411      2.3693   2.1449  2.7249   \n",
              "...       ...      ...      ...      ...     ...         ...      ...     ...   \n",
              "9454  -2.0819  -1.5580  -2.1428   1.8905 -2.1464     -2.1837  -1.2313 -3.2367   \n",
              "9455  -1.6735  -0.6142  -2.1428   1.0944 -2.1464     -1.3493  -1.2798 -3.2367   \n",
              "9456   1.0346   2.0378  -2.1428   0.4637 -2.1464     -1.5508  -1.3485 -3.2367   \n",
              "9457  -1.1869   0.6912  -2.1428   1.8905 -2.1464     -2.5219  -3.2784 -3.2367   \n",
              "9458  -2.4468  -1.9892  -2.1428  -1.8939 -2.1464     -3.1675  -3.2784 -3.2367   \n",
              "\n",
              "      Mean.Math  \n",
              "0        484.92  \n",
              "1        438.15  \n",
              "2        386.56  \n",
              "3        500.80  \n",
              "4        508.92  \n",
              "...         ...  \n",
              "9454     488.47  \n",
              "9455     420.46  \n",
              "9456     327.03  \n",
              "9457     316.51  \n",
              "9458     418.62  \n",
              "\n",
              "[9459 rows x 17 columns]"
            ]
          },
          "execution_count": 12,
          "metadata": {},
          "output_type": "execute_result"
        }
      ],
      "source": [
        "PISA1 = PISA.drop(columns = ['PV1MATH', 'PV2MATH',\n",
        "       'PV3MATH', 'PV4MATH', 'PV5MATH', 'PV6MATH', 'PV7MATH', 'PV8MATH',\n",
        "       'PV9MATH', 'PV10MATH'])\n",
        "PISA1"
      ]
    },
    {
      "cell_type": "code",
      "execution_count": null,
      "metadata": {
        "id": "BTx0TqEbWbQE"
      },
      "outputs": [],
      "source": [
        "# Rename columns\n",
        "PISA2 = PISA1.rename(columns = {\"ST004D01T\":\"GENDER\", \"MISCED\":\"MOTHEREDU\", \"FISCED\":\"FATHEREDU\", \"DIRINS\":\"TeacherInstruction\",\"GFOFAIL\":\"FAILURE\", \"EUDMO\":\"MEANINGLIFE\", \"Mean.Math\":\"AvgMath\"})"
      ]
    },
    {
      "cell_type": "code",
      "execution_count": null,
      "metadata": {
        "colab": {
          "base_uri": "https://localhost:8080/",
          "height": 488
        },
        "id": "YxzzhLMJW1YL",
        "outputId": "f7a37a68-4e52-4b72-98f5-88ba802bc99c"
      },
      "outputs": [
        {
          "data": {
            "text/html": [
              "\n",
              "  <div id=\"df-a5458817-adc9-4bae-a47d-e96a79fa423e\">\n",
              "    <div class=\"colab-df-container\">\n",
              "      <div>\n",
              "<style scoped>\n",
              "    .dataframe tbody tr th:only-of-type {\n",
              "        vertical-align: middle;\n",
              "    }\n",
              "\n",
              "    .dataframe tbody tr th {\n",
              "        vertical-align: top;\n",
              "    }\n",
              "\n",
              "    .dataframe thead th {\n",
              "        text-align: right;\n",
              "    }\n",
              "</style>\n",
              "<table border=\"1\" class=\"dataframe\">\n",
              "  <thead>\n",
              "    <tr style=\"text-align: right;\">\n",
              "      <th></th>\n",
              "      <th>GENDER</th>\n",
              "      <th>MOTHEREDU</th>\n",
              "      <th>FATHEREDU</th>\n",
              "      <th>REPEAT</th>\n",
              "      <th>WEALTH</th>\n",
              "      <th>TEACHSUP</th>\n",
              "      <th>TeacherInstruction</th>\n",
              "      <th>PERFEED</th>\n",
              "      <th>EMOSUPS</th>\n",
              "      <th>PERCOMP</th>\n",
              "      <th>PERCOOP</th>\n",
              "      <th>FAILURE</th>\n",
              "      <th>MEANINGLIFE</th>\n",
              "      <th>RESILIENCE</th>\n",
              "      <th>COGFLEX</th>\n",
              "      <th>BELONG</th>\n",
              "      <th>AvgMath</th>\n",
              "    </tr>\n",
              "  </thead>\n",
              "  <tbody>\n",
              "    <tr>\n",
              "      <th>0</th>\n",
              "      <td>2</td>\n",
              "      <td>6</td>\n",
              "      <td>6</td>\n",
              "      <td>1</td>\n",
              "      <td>3.1045</td>\n",
              "      <td>-1.1481</td>\n",
              "      <td>-1.0499</td>\n",
              "      <td>-0.3253</td>\n",
              "      <td>1.0346</td>\n",
              "      <td>2.0378</td>\n",
              "      <td>1.6762</td>\n",
              "      <td>1.8905</td>\n",
              "      <td>1.7411</td>\n",
              "      <td>2.3693</td>\n",
              "      <td>2.1449</td>\n",
              "      <td>2.7562</td>\n",
              "      <td>484.92</td>\n",
              "    </tr>\n",
              "    <tr>\n",
              "      <th>1</th>\n",
              "      <td>2</td>\n",
              "      <td>4</td>\n",
              "      <td>2</td>\n",
              "      <td>0</td>\n",
              "      <td>0.4783</td>\n",
              "      <td>1.3140</td>\n",
              "      <td>1.8202</td>\n",
              "      <td>2.0165</td>\n",
              "      <td>1.0346</td>\n",
              "      <td>2.0378</td>\n",
              "      <td>1.6762</td>\n",
              "      <td>-1.8939</td>\n",
              "      <td>-0.9827</td>\n",
              "      <td>2.3693</td>\n",
              "      <td>2.1449</td>\n",
              "      <td>2.7474</td>\n",
              "      <td>438.15</td>\n",
              "    </tr>\n",
              "    <tr>\n",
              "      <th>2</th>\n",
              "      <td>1</td>\n",
              "      <td>4</td>\n",
              "      <td>6</td>\n",
              "      <td>0</td>\n",
              "      <td>1.5937</td>\n",
              "      <td>1.3140</td>\n",
              "      <td>1.8202</td>\n",
              "      <td>1.5844</td>\n",
              "      <td>1.0346</td>\n",
              "      <td>0.6912</td>\n",
              "      <td>1.6762</td>\n",
              "      <td>1.4083</td>\n",
              "      <td>1.7411</td>\n",
              "      <td>2.3693</td>\n",
              "      <td>2.1449</td>\n",
              "      <td>2.7249</td>\n",
              "      <td>386.56</td>\n",
              "    </tr>\n",
              "    <tr>\n",
              "      <th>3</th>\n",
              "      <td>1</td>\n",
              "      <td>6</td>\n",
              "      <td>6</td>\n",
              "      <td>0</td>\n",
              "      <td>0.1184</td>\n",
              "      <td>0.7015</td>\n",
              "      <td>0.2860</td>\n",
              "      <td>0.8654</td>\n",
              "      <td>1.0346</td>\n",
              "      <td>-1.9892</td>\n",
              "      <td>1.6762</td>\n",
              "      <td>1.4083</td>\n",
              "      <td>1.7411</td>\n",
              "      <td>2.3693</td>\n",
              "      <td>2.1449</td>\n",
              "      <td>2.7249</td>\n",
              "      <td>500.80</td>\n",
              "    </tr>\n",
              "    <tr>\n",
              "      <th>4</th>\n",
              "      <td>1</td>\n",
              "      <td>6</td>\n",
              "      <td>5</td>\n",
              "      <td>0</td>\n",
              "      <td>1.9399</td>\n",
              "      <td>0.7015</td>\n",
              "      <td>-0.0424</td>\n",
              "      <td>0.7743</td>\n",
              "      <td>1.0346</td>\n",
              "      <td>2.0378</td>\n",
              "      <td>1.6762</td>\n",
              "      <td>0.5949</td>\n",
              "      <td>1.7411</td>\n",
              "      <td>2.3693</td>\n",
              "      <td>2.1449</td>\n",
              "      <td>2.7249</td>\n",
              "      <td>508.92</td>\n",
              "    </tr>\n",
              "    <tr>\n",
              "      <th>...</th>\n",
              "      <td>...</td>\n",
              "      <td>...</td>\n",
              "      <td>...</td>\n",
              "      <td>...</td>\n",
              "      <td>...</td>\n",
              "      <td>...</td>\n",
              "      <td>...</td>\n",
              "      <td>...</td>\n",
              "      <td>...</td>\n",
              "      <td>...</td>\n",
              "      <td>...</td>\n",
              "      <td>...</td>\n",
              "      <td>...</td>\n",
              "      <td>...</td>\n",
              "      <td>...</td>\n",
              "      <td>...</td>\n",
              "      <td>...</td>\n",
              "    </tr>\n",
              "    <tr>\n",
              "      <th>9454</th>\n",
              "      <td>1</td>\n",
              "      <td>5</td>\n",
              "      <td>4</td>\n",
              "      <td>0</td>\n",
              "      <td>-0.4479</td>\n",
              "      <td>-1.6385</td>\n",
              "      <td>-1.3309</td>\n",
              "      <td>-0.0008</td>\n",
              "      <td>-2.0819</td>\n",
              "      <td>-1.5580</td>\n",
              "      <td>-2.1428</td>\n",
              "      <td>1.8905</td>\n",
              "      <td>-2.1464</td>\n",
              "      <td>-2.1837</td>\n",
              "      <td>-1.2313</td>\n",
              "      <td>-3.2367</td>\n",
              "      <td>488.47</td>\n",
              "    </tr>\n",
              "    <tr>\n",
              "      <th>9455</th>\n",
              "      <td>1</td>\n",
              "      <td>6</td>\n",
              "      <td>6</td>\n",
              "      <td>0</td>\n",
              "      <td>1.1025</td>\n",
              "      <td>-1.1846</td>\n",
              "      <td>1.1049</td>\n",
              "      <td>-0.3253</td>\n",
              "      <td>-1.6735</td>\n",
              "      <td>-0.6142</td>\n",
              "      <td>-2.1428</td>\n",
              "      <td>1.0944</td>\n",
              "      <td>-2.1464</td>\n",
              "      <td>-1.3493</td>\n",
              "      <td>-1.2798</td>\n",
              "      <td>-3.2367</td>\n",
              "      <td>420.46</td>\n",
              "    </tr>\n",
              "    <tr>\n",
              "      <th>9456</th>\n",
              "      <td>1</td>\n",
              "      <td>6</td>\n",
              "      <td>6</td>\n",
              "      <td>0</td>\n",
              "      <td>2.6742</td>\n",
              "      <td>-0.9306</td>\n",
              "      <td>0.0351</td>\n",
              "      <td>-0.3253</td>\n",
              "      <td>1.0346</td>\n",
              "      <td>2.0378</td>\n",
              "      <td>-2.1428</td>\n",
              "      <td>0.4637</td>\n",
              "      <td>-2.1464</td>\n",
              "      <td>-1.5508</td>\n",
              "      <td>-1.3485</td>\n",
              "      <td>-3.2367</td>\n",
              "      <td>327.03</td>\n",
              "    </tr>\n",
              "    <tr>\n",
              "      <th>9457</th>\n",
              "      <td>1</td>\n",
              "      <td>6</td>\n",
              "      <td>6</td>\n",
              "      <td>0</td>\n",
              "      <td>0.2030</td>\n",
              "      <td>1.3140</td>\n",
              "      <td>1.8202</td>\n",
              "      <td>-1.6391</td>\n",
              "      <td>-1.1869</td>\n",
              "      <td>0.6912</td>\n",
              "      <td>-2.1428</td>\n",
              "      <td>1.8905</td>\n",
              "      <td>-2.1464</td>\n",
              "      <td>-2.5219</td>\n",
              "      <td>-3.2784</td>\n",
              "      <td>-3.2367</td>\n",
              "      <td>316.51</td>\n",
              "    </tr>\n",
              "    <tr>\n",
              "      <th>9458</th>\n",
              "      <td>2</td>\n",
              "      <td>4</td>\n",
              "      <td>4</td>\n",
              "      <td>0</td>\n",
              "      <td>-0.2272</td>\n",
              "      <td>-2.7106</td>\n",
              "      <td>-2.9425</td>\n",
              "      <td>-1.6391</td>\n",
              "      <td>-2.4468</td>\n",
              "      <td>-1.9892</td>\n",
              "      <td>-2.1428</td>\n",
              "      <td>-1.8939</td>\n",
              "      <td>-2.1464</td>\n",
              "      <td>-3.1675</td>\n",
              "      <td>-3.2784</td>\n",
              "      <td>-3.2367</td>\n",
              "      <td>418.62</td>\n",
              "    </tr>\n",
              "  </tbody>\n",
              "</table>\n",
              "<p>9459 rows × 17 columns</p>\n",
              "</div>\n",
              "      <button class=\"colab-df-convert\" onclick=\"convertToInteractive('df-a5458817-adc9-4bae-a47d-e96a79fa423e')\"\n",
              "              title=\"Convert this dataframe to an interactive table.\"\n",
              "              style=\"display:none;\">\n",
              "        \n",
              "  <svg xmlns=\"http://www.w3.org/2000/svg\" height=\"24px\"viewBox=\"0 0 24 24\"\n",
              "       width=\"24px\">\n",
              "    <path d=\"M0 0h24v24H0V0z\" fill=\"none\"/>\n",
              "    <path d=\"M18.56 5.44l.94 2.06.94-2.06 2.06-.94-2.06-.94-.94-2.06-.94 2.06-2.06.94zm-11 1L8.5 8.5l.94-2.06 2.06-.94-2.06-.94L8.5 2.5l-.94 2.06-2.06.94zm10 10l.94 2.06.94-2.06 2.06-.94-2.06-.94-.94-2.06-.94 2.06-2.06.94z\"/><path d=\"M17.41 7.96l-1.37-1.37c-.4-.4-.92-.59-1.43-.59-.52 0-1.04.2-1.43.59L10.3 9.45l-7.72 7.72c-.78.78-.78 2.05 0 2.83L4 21.41c.39.39.9.59 1.41.59.51 0 1.02-.2 1.41-.59l7.78-7.78 2.81-2.81c.8-.78.8-2.07 0-2.86zM5.41 20L4 18.59l7.72-7.72 1.47 1.35L5.41 20z\"/>\n",
              "  </svg>\n",
              "      </button>\n",
              "      \n",
              "  <style>\n",
              "    .colab-df-container {\n",
              "      display:flex;\n",
              "      flex-wrap:wrap;\n",
              "      gap: 12px;\n",
              "    }\n",
              "\n",
              "    .colab-df-convert {\n",
              "      background-color: #E8F0FE;\n",
              "      border: none;\n",
              "      border-radius: 50%;\n",
              "      cursor: pointer;\n",
              "      display: none;\n",
              "      fill: #1967D2;\n",
              "      height: 32px;\n",
              "      padding: 0 0 0 0;\n",
              "      width: 32px;\n",
              "    }\n",
              "\n",
              "    .colab-df-convert:hover {\n",
              "      background-color: #E2EBFA;\n",
              "      box-shadow: 0px 1px 2px rgba(60, 64, 67, 0.3), 0px 1px 3px 1px rgba(60, 64, 67, 0.15);\n",
              "      fill: #174EA6;\n",
              "    }\n",
              "\n",
              "    [theme=dark] .colab-df-convert {\n",
              "      background-color: #3B4455;\n",
              "      fill: #D2E3FC;\n",
              "    }\n",
              "\n",
              "    [theme=dark] .colab-df-convert:hover {\n",
              "      background-color: #434B5C;\n",
              "      box-shadow: 0px 1px 3px 1px rgba(0, 0, 0, 0.15);\n",
              "      filter: drop-shadow(0px 1px 2px rgba(0, 0, 0, 0.3));\n",
              "      fill: #FFFFFF;\n",
              "    }\n",
              "  </style>\n",
              "\n",
              "      <script>\n",
              "        const buttonEl =\n",
              "          document.querySelector('#df-a5458817-adc9-4bae-a47d-e96a79fa423e button.colab-df-convert');\n",
              "        buttonEl.style.display =\n",
              "          google.colab.kernel.accessAllowed ? 'block' : 'none';\n",
              "\n",
              "        async function convertToInteractive(key) {\n",
              "          const element = document.querySelector('#df-a5458817-adc9-4bae-a47d-e96a79fa423e');\n",
              "          const dataTable =\n",
              "            await google.colab.kernel.invokeFunction('convertToInteractive',\n",
              "                                                     [key], {});\n",
              "          if (!dataTable) return;\n",
              "\n",
              "          const docLinkHtml = 'Like what you see? Visit the ' +\n",
              "            '<a target=\"_blank\" href=https://colab.research.google.com/notebooks/data_table.ipynb>data table notebook</a>'\n",
              "            + ' to learn more about interactive tables.';\n",
              "          element.innerHTML = '';\n",
              "          dataTable['output_type'] = 'display_data';\n",
              "          await google.colab.output.renderOutput(dataTable, element);\n",
              "          const docLink = document.createElement('div');\n",
              "          docLink.innerHTML = docLinkHtml;\n",
              "          element.appendChild(docLink);\n",
              "        }\n",
              "      </script>\n",
              "    </div>\n",
              "  </div>\n",
              "  "
            ],
            "text/plain": [
              "      GENDER  MOTHEREDU  FATHEREDU  REPEAT  WEALTH  TEACHSUP  \\\n",
              "0          2          6          6       1  3.1045   -1.1481   \n",
              "1          2          4          2       0  0.4783    1.3140   \n",
              "2          1          4          6       0  1.5937    1.3140   \n",
              "3          1          6          6       0  0.1184    0.7015   \n",
              "4          1          6          5       0  1.9399    0.7015   \n",
              "...      ...        ...        ...     ...     ...       ...   \n",
              "9454       1          5          4       0 -0.4479   -1.6385   \n",
              "9455       1          6          6       0  1.1025   -1.1846   \n",
              "9456       1          6          6       0  2.6742   -0.9306   \n",
              "9457       1          6          6       0  0.2030    1.3140   \n",
              "9458       2          4          4       0 -0.2272   -2.7106   \n",
              "\n",
              "      TeacherInstruction  PERFEED  EMOSUPS  PERCOMP  PERCOOP  FAILURE  \\\n",
              "0                -1.0499  -0.3253   1.0346   2.0378   1.6762   1.8905   \n",
              "1                 1.8202   2.0165   1.0346   2.0378   1.6762  -1.8939   \n",
              "2                 1.8202   1.5844   1.0346   0.6912   1.6762   1.4083   \n",
              "3                 0.2860   0.8654   1.0346  -1.9892   1.6762   1.4083   \n",
              "4                -0.0424   0.7743   1.0346   2.0378   1.6762   0.5949   \n",
              "...                  ...      ...      ...      ...      ...      ...   \n",
              "9454             -1.3309  -0.0008  -2.0819  -1.5580  -2.1428   1.8905   \n",
              "9455              1.1049  -0.3253  -1.6735  -0.6142  -2.1428   1.0944   \n",
              "9456              0.0351  -0.3253   1.0346   2.0378  -2.1428   0.4637   \n",
              "9457              1.8202  -1.6391  -1.1869   0.6912  -2.1428   1.8905   \n",
              "9458             -2.9425  -1.6391  -2.4468  -1.9892  -2.1428  -1.8939   \n",
              "\n",
              "      MEANINGLIFE  RESILIENCE  COGFLEX  BELONG  AvgMath  \n",
              "0          1.7411      2.3693   2.1449  2.7562   484.92  \n",
              "1         -0.9827      2.3693   2.1449  2.7474   438.15  \n",
              "2          1.7411      2.3693   2.1449  2.7249   386.56  \n",
              "3          1.7411      2.3693   2.1449  2.7249   500.80  \n",
              "4          1.7411      2.3693   2.1449  2.7249   508.92  \n",
              "...           ...         ...      ...     ...      ...  \n",
              "9454      -2.1464     -2.1837  -1.2313 -3.2367   488.47  \n",
              "9455      -2.1464     -1.3493  -1.2798 -3.2367   420.46  \n",
              "9456      -2.1464     -1.5508  -1.3485 -3.2367   327.03  \n",
              "9457      -2.1464     -2.5219  -3.2784 -3.2367   316.51  \n",
              "9458      -2.1464     -3.1675  -3.2784 -3.2367   418.62  \n",
              "\n",
              "[9459 rows x 17 columns]"
            ]
          },
          "execution_count": 14,
          "metadata": {},
          "output_type": "execute_result"
        }
      ],
      "source": [
        "PISA2"
      ]
    },
    {
      "cell_type": "code",
      "execution_count": null,
      "metadata": {
        "colab": {
          "base_uri": "https://localhost:8080/"
        },
        "id": "TfrLlhRg8jDt",
        "outputId": "5ae6a95e-6a55-436f-f76c-f2716789686e"
      },
      "outputs": [
        {
          "data": {
            "text/plain": [
              "count    9459.000000\n",
              "mean        0.055397\n",
              "std         0.228766\n",
              "min         0.000000\n",
              "25%         0.000000\n",
              "50%         0.000000\n",
              "75%         0.000000\n",
              "max         1.000000\n",
              "Name: REPEAT, dtype: float64"
            ]
          },
          "execution_count": 15,
          "metadata": {},
          "output_type": "execute_result"
        }
      ],
      "source": [
        "PISA2.REPEAT.describe()"
      ]
    },
    {
      "cell_type": "markdown",
      "metadata": {
        "id": "WkkZpp4rWN1d"
      },
      "source": [
        "note. this shows that Repeat is only 1 or 0"
      ]
    },
    {
      "cell_type": "markdown",
      "metadata": {
        "id": "exyIU3rhXl0s"
      },
      "source": [
        "# One-hot encoding for education"
      ]
    },
    {
      "cell_type": "code",
      "execution_count": null,
      "metadata": {
        "colab": {
          "base_uri": "https://localhost:8080/"
        },
        "id": "GSoWt5D3XotL",
        "outputId": "ca96b7ef-1325-4d80-fea8-e7686d16b6e5"
      },
      "outputs": [
        {
          "data": {
            "text/plain": [
              "0       6\n",
              "1       4\n",
              "2       4\n",
              "3       6\n",
              "4       6\n",
              "       ..\n",
              "9454    5\n",
              "9455    6\n",
              "9456    6\n",
              "9457    6\n",
              "9458    4\n",
              "Name: MOTHEREDU, Length: 9459, dtype: int64"
            ]
          },
          "execution_count": 16,
          "metadata": {},
          "output_type": "execute_result"
        }
      ],
      "source": [
        "Mother = PISA2.MOTHEREDU\n",
        "Mother"
      ]
    },
    {
      "cell_type": "code",
      "execution_count": null,
      "metadata": {
        "colab": {
          "base_uri": "https://localhost:8080/"
        },
        "id": "cPsVhir8YM_H",
        "outputId": "e6b48384-0bca-4170-c05f-fe320eab1d2f"
      },
      "outputs": [
        {
          "data": {
            "text/plain": [
              "(9459,)"
            ]
          },
          "execution_count": 17,
          "metadata": {},
          "output_type": "execute_result"
        }
      ],
      "source": [
        "Mother.shape"
      ]
    },
    {
      "cell_type": "code",
      "execution_count": null,
      "metadata": {
        "id": "rIaL2LmCZc9Y"
      },
      "outputs": [],
      "source": [
        "Mother1 = np.asarray(Mother)"
      ]
    },
    {
      "cell_type": "code",
      "execution_count": null,
      "metadata": {
        "colab": {
          "base_uri": "https://localhost:8080/"
        },
        "id": "s0rHrJTbZsh8",
        "outputId": "e10edfda-87fc-41d4-98d3-089d763460f8"
      },
      "outputs": [
        {
          "data": {
            "text/plain": [
              "array([6, 4, 4, ..., 6, 6, 4])"
            ]
          },
          "execution_count": 19,
          "metadata": {},
          "output_type": "execute_result"
        }
      ],
      "source": [
        "Mother1"
      ]
    },
    {
      "cell_type": "code",
      "execution_count": null,
      "metadata": {
        "id": "DeXf5r_bX4in"
      },
      "outputs": [],
      "source": [
        "enc = OneHotEncoder(sparse = False)\n",
        "MotherEDU = pd.DataFrame(enc.fit_transform(PISA2[['MOTHEREDU']]), columns = [\"MISCED0\",\"MISCED1\",\"MISCED2\",\"MISCED3\", \"MISCED4\",\"MISCED5\", \"MISCED6\"])\n",
        "FatherEDU = pd.DataFrame(enc.fit_transform(PISA2[['FATHEREDU']]), columns = [\"FISCED0\",\"FISCED1\",\"FISCED2\",\"FISCED3\", \"FISCED4\",\"FISCED5\", \"FISCED6\"])\n"
      ]
    },
    {
      "cell_type": "code",
      "execution_count": null,
      "metadata": {
        "colab": {
          "base_uri": "https://localhost:8080/"
        },
        "id": "P5wjsW7TcGmj",
        "outputId": "18039668-f2ad-4a1d-d2d9-06b39e585077"
      },
      "outputs": [
        {
          "data": {
            "text/plain": [
              "(pandas.core.frame.DataFrame,\n",
              " pandas.core.frame.DataFrame,\n",
              " pandas.core.frame.DataFrame)"
            ]
          },
          "execution_count": 21,
          "metadata": {},
          "output_type": "execute_result"
        }
      ],
      "source": [
        "type(MotherEDU), type(FatherEDU), type(PISA2)"
      ]
    },
    {
      "cell_type": "code",
      "execution_count": null,
      "metadata": {
        "colab": {
          "base_uri": "https://localhost:8080/"
        },
        "id": "HzYll8I9c1uR",
        "outputId": "dd200229-6142-4305-f6b3-d5c4f166a29a"
      },
      "outputs": [
        {
          "data": {
            "text/plain": [
              "(      MISCED0  MISCED1  MISCED2  MISCED3  MISCED4  MISCED5  MISCED6\n",
              " 0         0.0      0.0      0.0      0.0      0.0      0.0      1.0\n",
              " 1         0.0      0.0      0.0      0.0      1.0      0.0      0.0\n",
              " 2         0.0      0.0      0.0      0.0      1.0      0.0      0.0\n",
              " 3         0.0      0.0      0.0      0.0      0.0      0.0      1.0\n",
              " 4         0.0      0.0      0.0      0.0      0.0      0.0      1.0\n",
              " ...       ...      ...      ...      ...      ...      ...      ...\n",
              " 9454      0.0      0.0      0.0      0.0      0.0      1.0      0.0\n",
              " 9455      0.0      0.0      0.0      0.0      0.0      0.0      1.0\n",
              " 9456      0.0      0.0      0.0      0.0      0.0      0.0      1.0\n",
              " 9457      0.0      0.0      0.0      0.0      0.0      0.0      1.0\n",
              " 9458      0.0      0.0      0.0      0.0      1.0      0.0      0.0\n",
              " \n",
              " [9459 rows x 7 columns],\n",
              "       FISCED0  FISCED1  FISCED2  FISCED3  FISCED4  FISCED5  FISCED6\n",
              " 0         0.0      0.0      0.0      0.0      0.0      0.0      1.0\n",
              " 1         0.0      0.0      1.0      0.0      0.0      0.0      0.0\n",
              " 2         0.0      0.0      0.0      0.0      0.0      0.0      1.0\n",
              " 3         0.0      0.0      0.0      0.0      0.0      0.0      1.0\n",
              " 4         0.0      0.0      0.0      0.0      0.0      1.0      0.0\n",
              " ...       ...      ...      ...      ...      ...      ...      ...\n",
              " 9454      0.0      0.0      0.0      0.0      1.0      0.0      0.0\n",
              " 9455      0.0      0.0      0.0      0.0      0.0      0.0      1.0\n",
              " 9456      0.0      0.0      0.0      0.0      0.0      0.0      1.0\n",
              " 9457      0.0      0.0      0.0      0.0      0.0      0.0      1.0\n",
              " 9458      0.0      0.0      0.0      0.0      1.0      0.0      0.0\n",
              " \n",
              " [9459 rows x 7 columns])"
            ]
          },
          "execution_count": 22,
          "metadata": {},
          "output_type": "execute_result"
        }
      ],
      "source": [
        "MotherEDU, FatherEDU"
      ]
    },
    {
      "cell_type": "code",
      "execution_count": null,
      "metadata": {
        "id": "sFLcoJA2YHuH"
      },
      "outputs": [],
      "source": [
        "PISA3 = pd.concat([MotherEDU, FatherEDU, PISA2], axis = 1)"
      ]
    },
    {
      "cell_type": "code",
      "execution_count": null,
      "metadata": {
        "colab": {
          "base_uri": "https://localhost:8080/",
          "height": 488
        },
        "id": "vv34oYkhbCf3",
        "outputId": "df64e49d-6bba-4bdc-ec3c-6f56b689c9dd"
      },
      "outputs": [
        {
          "data": {
            "text/html": [
              "\n",
              "  <div id=\"df-3cb590df-0af0-499c-83de-082200b6a9d4\">\n",
              "    <div class=\"colab-df-container\">\n",
              "      <div>\n",
              "<style scoped>\n",
              "    .dataframe tbody tr th:only-of-type {\n",
              "        vertical-align: middle;\n",
              "    }\n",
              "\n",
              "    .dataframe tbody tr th {\n",
              "        vertical-align: top;\n",
              "    }\n",
              "\n",
              "    .dataframe thead th {\n",
              "        text-align: right;\n",
              "    }\n",
              "</style>\n",
              "<table border=\"1\" class=\"dataframe\">\n",
              "  <thead>\n",
              "    <tr style=\"text-align: right;\">\n",
              "      <th></th>\n",
              "      <th>MISCED0</th>\n",
              "      <th>MISCED1</th>\n",
              "      <th>MISCED2</th>\n",
              "      <th>MISCED3</th>\n",
              "      <th>MISCED4</th>\n",
              "      <th>MISCED5</th>\n",
              "      <th>MISCED6</th>\n",
              "      <th>FISCED0</th>\n",
              "      <th>FISCED1</th>\n",
              "      <th>FISCED2</th>\n",
              "      <th>...</th>\n",
              "      <th>PERFEED</th>\n",
              "      <th>EMOSUPS</th>\n",
              "      <th>PERCOMP</th>\n",
              "      <th>PERCOOP</th>\n",
              "      <th>FAILURE</th>\n",
              "      <th>MEANINGLIFE</th>\n",
              "      <th>RESILIENCE</th>\n",
              "      <th>COGFLEX</th>\n",
              "      <th>BELONG</th>\n",
              "      <th>AvgMath</th>\n",
              "    </tr>\n",
              "  </thead>\n",
              "  <tbody>\n",
              "    <tr>\n",
              "      <th>0</th>\n",
              "      <td>0.0</td>\n",
              "      <td>0.0</td>\n",
              "      <td>0.0</td>\n",
              "      <td>0.0</td>\n",
              "      <td>0.0</td>\n",
              "      <td>0.0</td>\n",
              "      <td>1.0</td>\n",
              "      <td>0.0</td>\n",
              "      <td>0.0</td>\n",
              "      <td>0.0</td>\n",
              "      <td>...</td>\n",
              "      <td>-0.3253</td>\n",
              "      <td>1.0346</td>\n",
              "      <td>2.0378</td>\n",
              "      <td>1.6762</td>\n",
              "      <td>1.8905</td>\n",
              "      <td>1.7411</td>\n",
              "      <td>2.3693</td>\n",
              "      <td>2.1449</td>\n",
              "      <td>2.7562</td>\n",
              "      <td>484.92</td>\n",
              "    </tr>\n",
              "    <tr>\n",
              "      <th>1</th>\n",
              "      <td>0.0</td>\n",
              "      <td>0.0</td>\n",
              "      <td>0.0</td>\n",
              "      <td>0.0</td>\n",
              "      <td>1.0</td>\n",
              "      <td>0.0</td>\n",
              "      <td>0.0</td>\n",
              "      <td>0.0</td>\n",
              "      <td>0.0</td>\n",
              "      <td>1.0</td>\n",
              "      <td>...</td>\n",
              "      <td>2.0165</td>\n",
              "      <td>1.0346</td>\n",
              "      <td>2.0378</td>\n",
              "      <td>1.6762</td>\n",
              "      <td>-1.8939</td>\n",
              "      <td>-0.9827</td>\n",
              "      <td>2.3693</td>\n",
              "      <td>2.1449</td>\n",
              "      <td>2.7474</td>\n",
              "      <td>438.15</td>\n",
              "    </tr>\n",
              "    <tr>\n",
              "      <th>2</th>\n",
              "      <td>0.0</td>\n",
              "      <td>0.0</td>\n",
              "      <td>0.0</td>\n",
              "      <td>0.0</td>\n",
              "      <td>1.0</td>\n",
              "      <td>0.0</td>\n",
              "      <td>0.0</td>\n",
              "      <td>0.0</td>\n",
              "      <td>0.0</td>\n",
              "      <td>0.0</td>\n",
              "      <td>...</td>\n",
              "      <td>1.5844</td>\n",
              "      <td>1.0346</td>\n",
              "      <td>0.6912</td>\n",
              "      <td>1.6762</td>\n",
              "      <td>1.4083</td>\n",
              "      <td>1.7411</td>\n",
              "      <td>2.3693</td>\n",
              "      <td>2.1449</td>\n",
              "      <td>2.7249</td>\n",
              "      <td>386.56</td>\n",
              "    </tr>\n",
              "    <tr>\n",
              "      <th>3</th>\n",
              "      <td>0.0</td>\n",
              "      <td>0.0</td>\n",
              "      <td>0.0</td>\n",
              "      <td>0.0</td>\n",
              "      <td>0.0</td>\n",
              "      <td>0.0</td>\n",
              "      <td>1.0</td>\n",
              "      <td>0.0</td>\n",
              "      <td>0.0</td>\n",
              "      <td>0.0</td>\n",
              "      <td>...</td>\n",
              "      <td>0.8654</td>\n",
              "      <td>1.0346</td>\n",
              "      <td>-1.9892</td>\n",
              "      <td>1.6762</td>\n",
              "      <td>1.4083</td>\n",
              "      <td>1.7411</td>\n",
              "      <td>2.3693</td>\n",
              "      <td>2.1449</td>\n",
              "      <td>2.7249</td>\n",
              "      <td>500.80</td>\n",
              "    </tr>\n",
              "    <tr>\n",
              "      <th>4</th>\n",
              "      <td>0.0</td>\n",
              "      <td>0.0</td>\n",
              "      <td>0.0</td>\n",
              "      <td>0.0</td>\n",
              "      <td>0.0</td>\n",
              "      <td>0.0</td>\n",
              "      <td>1.0</td>\n",
              "      <td>0.0</td>\n",
              "      <td>0.0</td>\n",
              "      <td>0.0</td>\n",
              "      <td>...</td>\n",
              "      <td>0.7743</td>\n",
              "      <td>1.0346</td>\n",
              "      <td>2.0378</td>\n",
              "      <td>1.6762</td>\n",
              "      <td>0.5949</td>\n",
              "      <td>1.7411</td>\n",
              "      <td>2.3693</td>\n",
              "      <td>2.1449</td>\n",
              "      <td>2.7249</td>\n",
              "      <td>508.92</td>\n",
              "    </tr>\n",
              "    <tr>\n",
              "      <th>...</th>\n",
              "      <td>...</td>\n",
              "      <td>...</td>\n",
              "      <td>...</td>\n",
              "      <td>...</td>\n",
              "      <td>...</td>\n",
              "      <td>...</td>\n",
              "      <td>...</td>\n",
              "      <td>...</td>\n",
              "      <td>...</td>\n",
              "      <td>...</td>\n",
              "      <td>...</td>\n",
              "      <td>...</td>\n",
              "      <td>...</td>\n",
              "      <td>...</td>\n",
              "      <td>...</td>\n",
              "      <td>...</td>\n",
              "      <td>...</td>\n",
              "      <td>...</td>\n",
              "      <td>...</td>\n",
              "      <td>...</td>\n",
              "      <td>...</td>\n",
              "    </tr>\n",
              "    <tr>\n",
              "      <th>9454</th>\n",
              "      <td>0.0</td>\n",
              "      <td>0.0</td>\n",
              "      <td>0.0</td>\n",
              "      <td>0.0</td>\n",
              "      <td>0.0</td>\n",
              "      <td>1.0</td>\n",
              "      <td>0.0</td>\n",
              "      <td>0.0</td>\n",
              "      <td>0.0</td>\n",
              "      <td>0.0</td>\n",
              "      <td>...</td>\n",
              "      <td>-0.0008</td>\n",
              "      <td>-2.0819</td>\n",
              "      <td>-1.5580</td>\n",
              "      <td>-2.1428</td>\n",
              "      <td>1.8905</td>\n",
              "      <td>-2.1464</td>\n",
              "      <td>-2.1837</td>\n",
              "      <td>-1.2313</td>\n",
              "      <td>-3.2367</td>\n",
              "      <td>488.47</td>\n",
              "    </tr>\n",
              "    <tr>\n",
              "      <th>9455</th>\n",
              "      <td>0.0</td>\n",
              "      <td>0.0</td>\n",
              "      <td>0.0</td>\n",
              "      <td>0.0</td>\n",
              "      <td>0.0</td>\n",
              "      <td>0.0</td>\n",
              "      <td>1.0</td>\n",
              "      <td>0.0</td>\n",
              "      <td>0.0</td>\n",
              "      <td>0.0</td>\n",
              "      <td>...</td>\n",
              "      <td>-0.3253</td>\n",
              "      <td>-1.6735</td>\n",
              "      <td>-0.6142</td>\n",
              "      <td>-2.1428</td>\n",
              "      <td>1.0944</td>\n",
              "      <td>-2.1464</td>\n",
              "      <td>-1.3493</td>\n",
              "      <td>-1.2798</td>\n",
              "      <td>-3.2367</td>\n",
              "      <td>420.46</td>\n",
              "    </tr>\n",
              "    <tr>\n",
              "      <th>9456</th>\n",
              "      <td>0.0</td>\n",
              "      <td>0.0</td>\n",
              "      <td>0.0</td>\n",
              "      <td>0.0</td>\n",
              "      <td>0.0</td>\n",
              "      <td>0.0</td>\n",
              "      <td>1.0</td>\n",
              "      <td>0.0</td>\n",
              "      <td>0.0</td>\n",
              "      <td>0.0</td>\n",
              "      <td>...</td>\n",
              "      <td>-0.3253</td>\n",
              "      <td>1.0346</td>\n",
              "      <td>2.0378</td>\n",
              "      <td>-2.1428</td>\n",
              "      <td>0.4637</td>\n",
              "      <td>-2.1464</td>\n",
              "      <td>-1.5508</td>\n",
              "      <td>-1.3485</td>\n",
              "      <td>-3.2367</td>\n",
              "      <td>327.03</td>\n",
              "    </tr>\n",
              "    <tr>\n",
              "      <th>9457</th>\n",
              "      <td>0.0</td>\n",
              "      <td>0.0</td>\n",
              "      <td>0.0</td>\n",
              "      <td>0.0</td>\n",
              "      <td>0.0</td>\n",
              "      <td>0.0</td>\n",
              "      <td>1.0</td>\n",
              "      <td>0.0</td>\n",
              "      <td>0.0</td>\n",
              "      <td>0.0</td>\n",
              "      <td>...</td>\n",
              "      <td>-1.6391</td>\n",
              "      <td>-1.1869</td>\n",
              "      <td>0.6912</td>\n",
              "      <td>-2.1428</td>\n",
              "      <td>1.8905</td>\n",
              "      <td>-2.1464</td>\n",
              "      <td>-2.5219</td>\n",
              "      <td>-3.2784</td>\n",
              "      <td>-3.2367</td>\n",
              "      <td>316.51</td>\n",
              "    </tr>\n",
              "    <tr>\n",
              "      <th>9458</th>\n",
              "      <td>0.0</td>\n",
              "      <td>0.0</td>\n",
              "      <td>0.0</td>\n",
              "      <td>0.0</td>\n",
              "      <td>1.0</td>\n",
              "      <td>0.0</td>\n",
              "      <td>0.0</td>\n",
              "      <td>0.0</td>\n",
              "      <td>0.0</td>\n",
              "      <td>0.0</td>\n",
              "      <td>...</td>\n",
              "      <td>-1.6391</td>\n",
              "      <td>-2.4468</td>\n",
              "      <td>-1.9892</td>\n",
              "      <td>-2.1428</td>\n",
              "      <td>-1.8939</td>\n",
              "      <td>-2.1464</td>\n",
              "      <td>-3.1675</td>\n",
              "      <td>-3.2784</td>\n",
              "      <td>-3.2367</td>\n",
              "      <td>418.62</td>\n",
              "    </tr>\n",
              "  </tbody>\n",
              "</table>\n",
              "<p>9459 rows × 31 columns</p>\n",
              "</div>\n",
              "      <button class=\"colab-df-convert\" onclick=\"convertToInteractive('df-3cb590df-0af0-499c-83de-082200b6a9d4')\"\n",
              "              title=\"Convert this dataframe to an interactive table.\"\n",
              "              style=\"display:none;\">\n",
              "        \n",
              "  <svg xmlns=\"http://www.w3.org/2000/svg\" height=\"24px\"viewBox=\"0 0 24 24\"\n",
              "       width=\"24px\">\n",
              "    <path d=\"M0 0h24v24H0V0z\" fill=\"none\"/>\n",
              "    <path d=\"M18.56 5.44l.94 2.06.94-2.06 2.06-.94-2.06-.94-.94-2.06-.94 2.06-2.06.94zm-11 1L8.5 8.5l.94-2.06 2.06-.94-2.06-.94L8.5 2.5l-.94 2.06-2.06.94zm10 10l.94 2.06.94-2.06 2.06-.94-2.06-.94-.94-2.06-.94 2.06-2.06.94z\"/><path d=\"M17.41 7.96l-1.37-1.37c-.4-.4-.92-.59-1.43-.59-.52 0-1.04.2-1.43.59L10.3 9.45l-7.72 7.72c-.78.78-.78 2.05 0 2.83L4 21.41c.39.39.9.59 1.41.59.51 0 1.02-.2 1.41-.59l7.78-7.78 2.81-2.81c.8-.78.8-2.07 0-2.86zM5.41 20L4 18.59l7.72-7.72 1.47 1.35L5.41 20z\"/>\n",
              "  </svg>\n",
              "      </button>\n",
              "      \n",
              "  <style>\n",
              "    .colab-df-container {\n",
              "      display:flex;\n",
              "      flex-wrap:wrap;\n",
              "      gap: 12px;\n",
              "    }\n",
              "\n",
              "    .colab-df-convert {\n",
              "      background-color: #E8F0FE;\n",
              "      border: none;\n",
              "      border-radius: 50%;\n",
              "      cursor: pointer;\n",
              "      display: none;\n",
              "      fill: #1967D2;\n",
              "      height: 32px;\n",
              "      padding: 0 0 0 0;\n",
              "      width: 32px;\n",
              "    }\n",
              "\n",
              "    .colab-df-convert:hover {\n",
              "      background-color: #E2EBFA;\n",
              "      box-shadow: 0px 1px 2px rgba(60, 64, 67, 0.3), 0px 1px 3px 1px rgba(60, 64, 67, 0.15);\n",
              "      fill: #174EA6;\n",
              "    }\n",
              "\n",
              "    [theme=dark] .colab-df-convert {\n",
              "      background-color: #3B4455;\n",
              "      fill: #D2E3FC;\n",
              "    }\n",
              "\n",
              "    [theme=dark] .colab-df-convert:hover {\n",
              "      background-color: #434B5C;\n",
              "      box-shadow: 0px 1px 3px 1px rgba(0, 0, 0, 0.15);\n",
              "      filter: drop-shadow(0px 1px 2px rgba(0, 0, 0, 0.3));\n",
              "      fill: #FFFFFF;\n",
              "    }\n",
              "  </style>\n",
              "\n",
              "      <script>\n",
              "        const buttonEl =\n",
              "          document.querySelector('#df-3cb590df-0af0-499c-83de-082200b6a9d4 button.colab-df-convert');\n",
              "        buttonEl.style.display =\n",
              "          google.colab.kernel.accessAllowed ? 'block' : 'none';\n",
              "\n",
              "        async function convertToInteractive(key) {\n",
              "          const element = document.querySelector('#df-3cb590df-0af0-499c-83de-082200b6a9d4');\n",
              "          const dataTable =\n",
              "            await google.colab.kernel.invokeFunction('convertToInteractive',\n",
              "                                                     [key], {});\n",
              "          if (!dataTable) return;\n",
              "\n",
              "          const docLinkHtml = 'Like what you see? Visit the ' +\n",
              "            '<a target=\"_blank\" href=https://colab.research.google.com/notebooks/data_table.ipynb>data table notebook</a>'\n",
              "            + ' to learn more about interactive tables.';\n",
              "          element.innerHTML = '';\n",
              "          dataTable['output_type'] = 'display_data';\n",
              "          await google.colab.output.renderOutput(dataTable, element);\n",
              "          const docLink = document.createElement('div');\n",
              "          docLink.innerHTML = docLinkHtml;\n",
              "          element.appendChild(docLink);\n",
              "        }\n",
              "      </script>\n",
              "    </div>\n",
              "  </div>\n",
              "  "
            ],
            "text/plain": [
              "      MISCED0  MISCED1  MISCED2  MISCED3  MISCED4  MISCED5  MISCED6  FISCED0  \\\n",
              "0         0.0      0.0      0.0      0.0      0.0      0.0      1.0      0.0   \n",
              "1         0.0      0.0      0.0      0.0      1.0      0.0      0.0      0.0   \n",
              "2         0.0      0.0      0.0      0.0      1.0      0.0      0.0      0.0   \n",
              "3         0.0      0.0      0.0      0.0      0.0      0.0      1.0      0.0   \n",
              "4         0.0      0.0      0.0      0.0      0.0      0.0      1.0      0.0   \n",
              "...       ...      ...      ...      ...      ...      ...      ...      ...   \n",
              "9454      0.0      0.0      0.0      0.0      0.0      1.0      0.0      0.0   \n",
              "9455      0.0      0.0      0.0      0.0      0.0      0.0      1.0      0.0   \n",
              "9456      0.0      0.0      0.0      0.0      0.0      0.0      1.0      0.0   \n",
              "9457      0.0      0.0      0.0      0.0      0.0      0.0      1.0      0.0   \n",
              "9458      0.0      0.0      0.0      0.0      1.0      0.0      0.0      0.0   \n",
              "\n",
              "      FISCED1  FISCED2  ...  PERFEED  EMOSUPS  PERCOMP  PERCOOP  FAILURE  \\\n",
              "0         0.0      0.0  ...  -0.3253   1.0346   2.0378   1.6762   1.8905   \n",
              "1         0.0      1.0  ...   2.0165   1.0346   2.0378   1.6762  -1.8939   \n",
              "2         0.0      0.0  ...   1.5844   1.0346   0.6912   1.6762   1.4083   \n",
              "3         0.0      0.0  ...   0.8654   1.0346  -1.9892   1.6762   1.4083   \n",
              "4         0.0      0.0  ...   0.7743   1.0346   2.0378   1.6762   0.5949   \n",
              "...       ...      ...  ...      ...      ...      ...      ...      ...   \n",
              "9454      0.0      0.0  ...  -0.0008  -2.0819  -1.5580  -2.1428   1.8905   \n",
              "9455      0.0      0.0  ...  -0.3253  -1.6735  -0.6142  -2.1428   1.0944   \n",
              "9456      0.0      0.0  ...  -0.3253   1.0346   2.0378  -2.1428   0.4637   \n",
              "9457      0.0      0.0  ...  -1.6391  -1.1869   0.6912  -2.1428   1.8905   \n",
              "9458      0.0      0.0  ...  -1.6391  -2.4468  -1.9892  -2.1428  -1.8939   \n",
              "\n",
              "      MEANINGLIFE  RESILIENCE  COGFLEX  BELONG  AvgMath  \n",
              "0          1.7411      2.3693   2.1449  2.7562   484.92  \n",
              "1         -0.9827      2.3693   2.1449  2.7474   438.15  \n",
              "2          1.7411      2.3693   2.1449  2.7249   386.56  \n",
              "3          1.7411      2.3693   2.1449  2.7249   500.80  \n",
              "4          1.7411      2.3693   2.1449  2.7249   508.92  \n",
              "...           ...         ...      ...     ...      ...  \n",
              "9454      -2.1464     -2.1837  -1.2313 -3.2367   488.47  \n",
              "9455      -2.1464     -1.3493  -1.2798 -3.2367   420.46  \n",
              "9456      -2.1464     -1.5508  -1.3485 -3.2367   327.03  \n",
              "9457      -2.1464     -2.5219  -3.2784 -3.2367   316.51  \n",
              "9458      -2.1464     -3.1675  -3.2784 -3.2367   418.62  \n",
              "\n",
              "[9459 rows x 31 columns]"
            ]
          },
          "execution_count": 24,
          "metadata": {},
          "output_type": "execute_result"
        }
      ],
      "source": [
        "PISA3"
      ]
    },
    {
      "cell_type": "code",
      "execution_count": null,
      "metadata": {
        "colab": {
          "base_uri": "https://localhost:8080/",
          "height": 488
        },
        "id": "ys6mX7V_dWIo",
        "outputId": "1410a063-3350-4480-fdf7-daa9f3bb4eb3"
      },
      "outputs": [
        {
          "data": {
            "text/html": [
              "\n",
              "  <div id=\"df-05dd542a-ff23-4004-a257-d483ed3fd347\">\n",
              "    <div class=\"colab-df-container\">\n",
              "      <div>\n",
              "<style scoped>\n",
              "    .dataframe tbody tr th:only-of-type {\n",
              "        vertical-align: middle;\n",
              "    }\n",
              "\n",
              "    .dataframe tbody tr th {\n",
              "        vertical-align: top;\n",
              "    }\n",
              "\n",
              "    .dataframe thead th {\n",
              "        text-align: right;\n",
              "    }\n",
              "</style>\n",
              "<table border=\"1\" class=\"dataframe\">\n",
              "  <thead>\n",
              "    <tr style=\"text-align: right;\">\n",
              "      <th></th>\n",
              "      <th>MISCED0</th>\n",
              "      <th>MISCED1</th>\n",
              "      <th>MISCED2</th>\n",
              "      <th>MISCED3</th>\n",
              "      <th>MISCED4</th>\n",
              "      <th>MISCED5</th>\n",
              "      <th>MISCED6</th>\n",
              "      <th>FISCED0</th>\n",
              "      <th>FISCED1</th>\n",
              "      <th>FISCED2</th>\n",
              "      <th>...</th>\n",
              "      <th>PERFEED</th>\n",
              "      <th>EMOSUPS</th>\n",
              "      <th>PERCOMP</th>\n",
              "      <th>PERCOOP</th>\n",
              "      <th>FAILURE</th>\n",
              "      <th>MEANINGLIFE</th>\n",
              "      <th>RESILIENCE</th>\n",
              "      <th>COGFLEX</th>\n",
              "      <th>BELONG</th>\n",
              "      <th>AvgMath</th>\n",
              "    </tr>\n",
              "  </thead>\n",
              "  <tbody>\n",
              "    <tr>\n",
              "      <th>0</th>\n",
              "      <td>0.0</td>\n",
              "      <td>0.0</td>\n",
              "      <td>0.0</td>\n",
              "      <td>0.0</td>\n",
              "      <td>0.0</td>\n",
              "      <td>0.0</td>\n",
              "      <td>1.0</td>\n",
              "      <td>0.0</td>\n",
              "      <td>0.0</td>\n",
              "      <td>0.0</td>\n",
              "      <td>...</td>\n",
              "      <td>-0.3253</td>\n",
              "      <td>1.0346</td>\n",
              "      <td>2.0378</td>\n",
              "      <td>1.6762</td>\n",
              "      <td>1.8905</td>\n",
              "      <td>1.7411</td>\n",
              "      <td>2.3693</td>\n",
              "      <td>2.1449</td>\n",
              "      <td>2.7562</td>\n",
              "      <td>484.92</td>\n",
              "    </tr>\n",
              "    <tr>\n",
              "      <th>1</th>\n",
              "      <td>0.0</td>\n",
              "      <td>0.0</td>\n",
              "      <td>0.0</td>\n",
              "      <td>0.0</td>\n",
              "      <td>1.0</td>\n",
              "      <td>0.0</td>\n",
              "      <td>0.0</td>\n",
              "      <td>0.0</td>\n",
              "      <td>0.0</td>\n",
              "      <td>1.0</td>\n",
              "      <td>...</td>\n",
              "      <td>2.0165</td>\n",
              "      <td>1.0346</td>\n",
              "      <td>2.0378</td>\n",
              "      <td>1.6762</td>\n",
              "      <td>-1.8939</td>\n",
              "      <td>-0.9827</td>\n",
              "      <td>2.3693</td>\n",
              "      <td>2.1449</td>\n",
              "      <td>2.7474</td>\n",
              "      <td>438.15</td>\n",
              "    </tr>\n",
              "    <tr>\n",
              "      <th>2</th>\n",
              "      <td>0.0</td>\n",
              "      <td>0.0</td>\n",
              "      <td>0.0</td>\n",
              "      <td>0.0</td>\n",
              "      <td>1.0</td>\n",
              "      <td>0.0</td>\n",
              "      <td>0.0</td>\n",
              "      <td>0.0</td>\n",
              "      <td>0.0</td>\n",
              "      <td>0.0</td>\n",
              "      <td>...</td>\n",
              "      <td>1.5844</td>\n",
              "      <td>1.0346</td>\n",
              "      <td>0.6912</td>\n",
              "      <td>1.6762</td>\n",
              "      <td>1.4083</td>\n",
              "      <td>1.7411</td>\n",
              "      <td>2.3693</td>\n",
              "      <td>2.1449</td>\n",
              "      <td>2.7249</td>\n",
              "      <td>386.56</td>\n",
              "    </tr>\n",
              "    <tr>\n",
              "      <th>3</th>\n",
              "      <td>0.0</td>\n",
              "      <td>0.0</td>\n",
              "      <td>0.0</td>\n",
              "      <td>0.0</td>\n",
              "      <td>0.0</td>\n",
              "      <td>0.0</td>\n",
              "      <td>1.0</td>\n",
              "      <td>0.0</td>\n",
              "      <td>0.0</td>\n",
              "      <td>0.0</td>\n",
              "      <td>...</td>\n",
              "      <td>0.8654</td>\n",
              "      <td>1.0346</td>\n",
              "      <td>-1.9892</td>\n",
              "      <td>1.6762</td>\n",
              "      <td>1.4083</td>\n",
              "      <td>1.7411</td>\n",
              "      <td>2.3693</td>\n",
              "      <td>2.1449</td>\n",
              "      <td>2.7249</td>\n",
              "      <td>500.80</td>\n",
              "    </tr>\n",
              "    <tr>\n",
              "      <th>4</th>\n",
              "      <td>0.0</td>\n",
              "      <td>0.0</td>\n",
              "      <td>0.0</td>\n",
              "      <td>0.0</td>\n",
              "      <td>0.0</td>\n",
              "      <td>0.0</td>\n",
              "      <td>1.0</td>\n",
              "      <td>0.0</td>\n",
              "      <td>0.0</td>\n",
              "      <td>0.0</td>\n",
              "      <td>...</td>\n",
              "      <td>0.7743</td>\n",
              "      <td>1.0346</td>\n",
              "      <td>2.0378</td>\n",
              "      <td>1.6762</td>\n",
              "      <td>0.5949</td>\n",
              "      <td>1.7411</td>\n",
              "      <td>2.3693</td>\n",
              "      <td>2.1449</td>\n",
              "      <td>2.7249</td>\n",
              "      <td>508.92</td>\n",
              "    </tr>\n",
              "    <tr>\n",
              "      <th>...</th>\n",
              "      <td>...</td>\n",
              "      <td>...</td>\n",
              "      <td>...</td>\n",
              "      <td>...</td>\n",
              "      <td>...</td>\n",
              "      <td>...</td>\n",
              "      <td>...</td>\n",
              "      <td>...</td>\n",
              "      <td>...</td>\n",
              "      <td>...</td>\n",
              "      <td>...</td>\n",
              "      <td>...</td>\n",
              "      <td>...</td>\n",
              "      <td>...</td>\n",
              "      <td>...</td>\n",
              "      <td>...</td>\n",
              "      <td>...</td>\n",
              "      <td>...</td>\n",
              "      <td>...</td>\n",
              "      <td>...</td>\n",
              "      <td>...</td>\n",
              "    </tr>\n",
              "    <tr>\n",
              "      <th>9454</th>\n",
              "      <td>0.0</td>\n",
              "      <td>0.0</td>\n",
              "      <td>0.0</td>\n",
              "      <td>0.0</td>\n",
              "      <td>0.0</td>\n",
              "      <td>1.0</td>\n",
              "      <td>0.0</td>\n",
              "      <td>0.0</td>\n",
              "      <td>0.0</td>\n",
              "      <td>0.0</td>\n",
              "      <td>...</td>\n",
              "      <td>-0.0008</td>\n",
              "      <td>-2.0819</td>\n",
              "      <td>-1.5580</td>\n",
              "      <td>-2.1428</td>\n",
              "      <td>1.8905</td>\n",
              "      <td>-2.1464</td>\n",
              "      <td>-2.1837</td>\n",
              "      <td>-1.2313</td>\n",
              "      <td>-3.2367</td>\n",
              "      <td>488.47</td>\n",
              "    </tr>\n",
              "    <tr>\n",
              "      <th>9455</th>\n",
              "      <td>0.0</td>\n",
              "      <td>0.0</td>\n",
              "      <td>0.0</td>\n",
              "      <td>0.0</td>\n",
              "      <td>0.0</td>\n",
              "      <td>0.0</td>\n",
              "      <td>1.0</td>\n",
              "      <td>0.0</td>\n",
              "      <td>0.0</td>\n",
              "      <td>0.0</td>\n",
              "      <td>...</td>\n",
              "      <td>-0.3253</td>\n",
              "      <td>-1.6735</td>\n",
              "      <td>-0.6142</td>\n",
              "      <td>-2.1428</td>\n",
              "      <td>1.0944</td>\n",
              "      <td>-2.1464</td>\n",
              "      <td>-1.3493</td>\n",
              "      <td>-1.2798</td>\n",
              "      <td>-3.2367</td>\n",
              "      <td>420.46</td>\n",
              "    </tr>\n",
              "    <tr>\n",
              "      <th>9456</th>\n",
              "      <td>0.0</td>\n",
              "      <td>0.0</td>\n",
              "      <td>0.0</td>\n",
              "      <td>0.0</td>\n",
              "      <td>0.0</td>\n",
              "      <td>0.0</td>\n",
              "      <td>1.0</td>\n",
              "      <td>0.0</td>\n",
              "      <td>0.0</td>\n",
              "      <td>0.0</td>\n",
              "      <td>...</td>\n",
              "      <td>-0.3253</td>\n",
              "      <td>1.0346</td>\n",
              "      <td>2.0378</td>\n",
              "      <td>-2.1428</td>\n",
              "      <td>0.4637</td>\n",
              "      <td>-2.1464</td>\n",
              "      <td>-1.5508</td>\n",
              "      <td>-1.3485</td>\n",
              "      <td>-3.2367</td>\n",
              "      <td>327.03</td>\n",
              "    </tr>\n",
              "    <tr>\n",
              "      <th>9457</th>\n",
              "      <td>0.0</td>\n",
              "      <td>0.0</td>\n",
              "      <td>0.0</td>\n",
              "      <td>0.0</td>\n",
              "      <td>0.0</td>\n",
              "      <td>0.0</td>\n",
              "      <td>1.0</td>\n",
              "      <td>0.0</td>\n",
              "      <td>0.0</td>\n",
              "      <td>0.0</td>\n",
              "      <td>...</td>\n",
              "      <td>-1.6391</td>\n",
              "      <td>-1.1869</td>\n",
              "      <td>0.6912</td>\n",
              "      <td>-2.1428</td>\n",
              "      <td>1.8905</td>\n",
              "      <td>-2.1464</td>\n",
              "      <td>-2.5219</td>\n",
              "      <td>-3.2784</td>\n",
              "      <td>-3.2367</td>\n",
              "      <td>316.51</td>\n",
              "    </tr>\n",
              "    <tr>\n",
              "      <th>9458</th>\n",
              "      <td>0.0</td>\n",
              "      <td>0.0</td>\n",
              "      <td>0.0</td>\n",
              "      <td>0.0</td>\n",
              "      <td>1.0</td>\n",
              "      <td>0.0</td>\n",
              "      <td>0.0</td>\n",
              "      <td>0.0</td>\n",
              "      <td>0.0</td>\n",
              "      <td>0.0</td>\n",
              "      <td>...</td>\n",
              "      <td>-1.6391</td>\n",
              "      <td>-2.4468</td>\n",
              "      <td>-1.9892</td>\n",
              "      <td>-2.1428</td>\n",
              "      <td>-1.8939</td>\n",
              "      <td>-2.1464</td>\n",
              "      <td>-3.1675</td>\n",
              "      <td>-3.2784</td>\n",
              "      <td>-3.2367</td>\n",
              "      <td>418.62</td>\n",
              "    </tr>\n",
              "  </tbody>\n",
              "</table>\n",
              "<p>9459 rows × 29 columns</p>\n",
              "</div>\n",
              "      <button class=\"colab-df-convert\" onclick=\"convertToInteractive('df-05dd542a-ff23-4004-a257-d483ed3fd347')\"\n",
              "              title=\"Convert this dataframe to an interactive table.\"\n",
              "              style=\"display:none;\">\n",
              "        \n",
              "  <svg xmlns=\"http://www.w3.org/2000/svg\" height=\"24px\"viewBox=\"0 0 24 24\"\n",
              "       width=\"24px\">\n",
              "    <path d=\"M0 0h24v24H0V0z\" fill=\"none\"/>\n",
              "    <path d=\"M18.56 5.44l.94 2.06.94-2.06 2.06-.94-2.06-.94-.94-2.06-.94 2.06-2.06.94zm-11 1L8.5 8.5l.94-2.06 2.06-.94-2.06-.94L8.5 2.5l-.94 2.06-2.06.94zm10 10l.94 2.06.94-2.06 2.06-.94-2.06-.94-.94-2.06-.94 2.06-2.06.94z\"/><path d=\"M17.41 7.96l-1.37-1.37c-.4-.4-.92-.59-1.43-.59-.52 0-1.04.2-1.43.59L10.3 9.45l-7.72 7.72c-.78.78-.78 2.05 0 2.83L4 21.41c.39.39.9.59 1.41.59.51 0 1.02-.2 1.41-.59l7.78-7.78 2.81-2.81c.8-.78.8-2.07 0-2.86zM5.41 20L4 18.59l7.72-7.72 1.47 1.35L5.41 20z\"/>\n",
              "  </svg>\n",
              "      </button>\n",
              "      \n",
              "  <style>\n",
              "    .colab-df-container {\n",
              "      display:flex;\n",
              "      flex-wrap:wrap;\n",
              "      gap: 12px;\n",
              "    }\n",
              "\n",
              "    .colab-df-convert {\n",
              "      background-color: #E8F0FE;\n",
              "      border: none;\n",
              "      border-radius: 50%;\n",
              "      cursor: pointer;\n",
              "      display: none;\n",
              "      fill: #1967D2;\n",
              "      height: 32px;\n",
              "      padding: 0 0 0 0;\n",
              "      width: 32px;\n",
              "    }\n",
              "\n",
              "    .colab-df-convert:hover {\n",
              "      background-color: #E2EBFA;\n",
              "      box-shadow: 0px 1px 2px rgba(60, 64, 67, 0.3), 0px 1px 3px 1px rgba(60, 64, 67, 0.15);\n",
              "      fill: #174EA6;\n",
              "    }\n",
              "\n",
              "    [theme=dark] .colab-df-convert {\n",
              "      background-color: #3B4455;\n",
              "      fill: #D2E3FC;\n",
              "    }\n",
              "\n",
              "    [theme=dark] .colab-df-convert:hover {\n",
              "      background-color: #434B5C;\n",
              "      box-shadow: 0px 1px 3px 1px rgba(0, 0, 0, 0.15);\n",
              "      filter: drop-shadow(0px 1px 2px rgba(0, 0, 0, 0.3));\n",
              "      fill: #FFFFFF;\n",
              "    }\n",
              "  </style>\n",
              "\n",
              "      <script>\n",
              "        const buttonEl =\n",
              "          document.querySelector('#df-05dd542a-ff23-4004-a257-d483ed3fd347 button.colab-df-convert');\n",
              "        buttonEl.style.display =\n",
              "          google.colab.kernel.accessAllowed ? 'block' : 'none';\n",
              "\n",
              "        async function convertToInteractive(key) {\n",
              "          const element = document.querySelector('#df-05dd542a-ff23-4004-a257-d483ed3fd347');\n",
              "          const dataTable =\n",
              "            await google.colab.kernel.invokeFunction('convertToInteractive',\n",
              "                                                     [key], {});\n",
              "          if (!dataTable) return;\n",
              "\n",
              "          const docLinkHtml = 'Like what you see? Visit the ' +\n",
              "            '<a target=\"_blank\" href=https://colab.research.google.com/notebooks/data_table.ipynb>data table notebook</a>'\n",
              "            + ' to learn more about interactive tables.';\n",
              "          element.innerHTML = '';\n",
              "          dataTable['output_type'] = 'display_data';\n",
              "          await google.colab.output.renderOutput(dataTable, element);\n",
              "          const docLink = document.createElement('div');\n",
              "          docLink.innerHTML = docLinkHtml;\n",
              "          element.appendChild(docLink);\n",
              "        }\n",
              "      </script>\n",
              "    </div>\n",
              "  </div>\n",
              "  "
            ],
            "text/plain": [
              "      MISCED0  MISCED1  MISCED2  MISCED3  MISCED4  MISCED5  MISCED6  FISCED0  \\\n",
              "0         0.0      0.0      0.0      0.0      0.0      0.0      1.0      0.0   \n",
              "1         0.0      0.0      0.0      0.0      1.0      0.0      0.0      0.0   \n",
              "2         0.0      0.0      0.0      0.0      1.0      0.0      0.0      0.0   \n",
              "3         0.0      0.0      0.0      0.0      0.0      0.0      1.0      0.0   \n",
              "4         0.0      0.0      0.0      0.0      0.0      0.0      1.0      0.0   \n",
              "...       ...      ...      ...      ...      ...      ...      ...      ...   \n",
              "9454      0.0      0.0      0.0      0.0      0.0      1.0      0.0      0.0   \n",
              "9455      0.0      0.0      0.0      0.0      0.0      0.0      1.0      0.0   \n",
              "9456      0.0      0.0      0.0      0.0      0.0      0.0      1.0      0.0   \n",
              "9457      0.0      0.0      0.0      0.0      0.0      0.0      1.0      0.0   \n",
              "9458      0.0      0.0      0.0      0.0      1.0      0.0      0.0      0.0   \n",
              "\n",
              "      FISCED1  FISCED2  ...  PERFEED  EMOSUPS  PERCOMP  PERCOOP  FAILURE  \\\n",
              "0         0.0      0.0  ...  -0.3253   1.0346   2.0378   1.6762   1.8905   \n",
              "1         0.0      1.0  ...   2.0165   1.0346   2.0378   1.6762  -1.8939   \n",
              "2         0.0      0.0  ...   1.5844   1.0346   0.6912   1.6762   1.4083   \n",
              "3         0.0      0.0  ...   0.8654   1.0346  -1.9892   1.6762   1.4083   \n",
              "4         0.0      0.0  ...   0.7743   1.0346   2.0378   1.6762   0.5949   \n",
              "...       ...      ...  ...      ...      ...      ...      ...      ...   \n",
              "9454      0.0      0.0  ...  -0.0008  -2.0819  -1.5580  -2.1428   1.8905   \n",
              "9455      0.0      0.0  ...  -0.3253  -1.6735  -0.6142  -2.1428   1.0944   \n",
              "9456      0.0      0.0  ...  -0.3253   1.0346   2.0378  -2.1428   0.4637   \n",
              "9457      0.0      0.0  ...  -1.6391  -1.1869   0.6912  -2.1428   1.8905   \n",
              "9458      0.0      0.0  ...  -1.6391  -2.4468  -1.9892  -2.1428  -1.8939   \n",
              "\n",
              "      MEANINGLIFE  RESILIENCE  COGFLEX  BELONG  AvgMath  \n",
              "0          1.7411      2.3693   2.1449  2.7562   484.92  \n",
              "1         -0.9827      2.3693   2.1449  2.7474   438.15  \n",
              "2          1.7411      2.3693   2.1449  2.7249   386.56  \n",
              "3          1.7411      2.3693   2.1449  2.7249   500.80  \n",
              "4          1.7411      2.3693   2.1449  2.7249   508.92  \n",
              "...           ...         ...      ...     ...      ...  \n",
              "9454      -2.1464     -2.1837  -1.2313 -3.2367   488.47  \n",
              "9455      -2.1464     -1.3493  -1.2798 -3.2367   420.46  \n",
              "9456      -2.1464     -1.5508  -1.3485 -3.2367   327.03  \n",
              "9457      -2.1464     -2.5219  -3.2784 -3.2367   316.51  \n",
              "9458      -2.1464     -3.1675  -3.2784 -3.2367   418.62  \n",
              "\n",
              "[9459 rows x 29 columns]"
            ]
          },
          "execution_count": 25,
          "metadata": {},
          "output_type": "execute_result"
        }
      ],
      "source": [
        "PISA_test = PISA3.drop(columns = [\"MOTHEREDU\",\"FATHEREDU\"])\n",
        "PISA_test"
      ]
    },
    {
      "cell_type": "markdown",
      "metadata": {
        "id": "6jmHVHcRcvbZ"
      },
      "source": [
        "# Ready for Standardization\n",
        "Neural Networks are prone sensitive to the scales of data. Thus, the data must be scaled for use. Here, I use standardization. "
      ]
    },
    {
      "cell_type": "code",
      "execution_count": null,
      "metadata": {
        "colab": {
          "base_uri": "https://localhost:8080/"
        },
        "id": "MUiuLWiddDGk",
        "outputId": "a466dba5-2299-4e9e-9fd9-965d1ab4f0dc"
      },
      "outputs": [
        {
          "data": {
            "text/plain": [
              "Index(['MISCED0', 'MISCED1', 'MISCED2', 'MISCED3', 'MISCED4', 'MISCED5',\n",
              "       'MISCED6', 'FISCED0', 'FISCED1', 'FISCED2', 'FISCED3', 'FISCED4',\n",
              "       'FISCED5', 'FISCED6', 'GENDER', 'REPEAT', 'WEALTH', 'TEACHSUP',\n",
              "       'TeacherInstruction', 'PERFEED', 'EMOSUPS', 'PERCOMP', 'PERCOOP',\n",
              "       'FAILURE', 'MEANINGLIFE', 'RESILIENCE', 'COGFLEX', 'BELONG', 'AvgMath'],\n",
              "      dtype='object')"
            ]
          },
          "execution_count": 26,
          "metadata": {},
          "output_type": "execute_result"
        }
      ],
      "source": [
        "PISA_test.columns"
      ]
    },
    {
      "cell_type": "code",
      "execution_count": null,
      "metadata": {
        "colab": {
          "base_uri": "https://localhost:8080/",
          "height": 488
        },
        "id": "OnCj6o5adOS6",
        "outputId": "47e80f63-3dbd-449d-9ff1-d43a2eb05152"
      },
      "outputs": [
        {
          "data": {
            "text/html": [
              "\n",
              "  <div id=\"df-b6810ddd-87aa-41e3-9670-d322c719d6f2\">\n",
              "    <div class=\"colab-df-container\">\n",
              "      <div>\n",
              "<style scoped>\n",
              "    .dataframe tbody tr th:only-of-type {\n",
              "        vertical-align: middle;\n",
              "    }\n",
              "\n",
              "    .dataframe tbody tr th {\n",
              "        vertical-align: top;\n",
              "    }\n",
              "\n",
              "    .dataframe thead th {\n",
              "        text-align: right;\n",
              "    }\n",
              "</style>\n",
              "<table border=\"1\" class=\"dataframe\">\n",
              "  <thead>\n",
              "    <tr style=\"text-align: right;\">\n",
              "      <th></th>\n",
              "      <th>WEALTH</th>\n",
              "      <th>TEACHSUP</th>\n",
              "      <th>TeacherInstruction</th>\n",
              "      <th>PERFEED</th>\n",
              "      <th>EMOSUPS</th>\n",
              "      <th>PERCOMP</th>\n",
              "      <th>PERCOOP</th>\n",
              "      <th>FAILURE</th>\n",
              "      <th>MEANINGLIFE</th>\n",
              "      <th>RESILIENCE</th>\n",
              "      <th>COGFLEX</th>\n",
              "      <th>BELONG</th>\n",
              "      <th>AvgMath</th>\n",
              "    </tr>\n",
              "  </thead>\n",
              "  <tbody>\n",
              "    <tr>\n",
              "      <th>0</th>\n",
              "      <td>3.1045</td>\n",
              "      <td>-1.1481</td>\n",
              "      <td>-1.0499</td>\n",
              "      <td>-0.3253</td>\n",
              "      <td>1.0346</td>\n",
              "      <td>2.0378</td>\n",
              "      <td>1.6762</td>\n",
              "      <td>1.8905</td>\n",
              "      <td>1.7411</td>\n",
              "      <td>2.3693</td>\n",
              "      <td>2.1449</td>\n",
              "      <td>2.7562</td>\n",
              "      <td>484.92</td>\n",
              "    </tr>\n",
              "    <tr>\n",
              "      <th>1</th>\n",
              "      <td>0.4783</td>\n",
              "      <td>1.3140</td>\n",
              "      <td>1.8202</td>\n",
              "      <td>2.0165</td>\n",
              "      <td>1.0346</td>\n",
              "      <td>2.0378</td>\n",
              "      <td>1.6762</td>\n",
              "      <td>-1.8939</td>\n",
              "      <td>-0.9827</td>\n",
              "      <td>2.3693</td>\n",
              "      <td>2.1449</td>\n",
              "      <td>2.7474</td>\n",
              "      <td>438.15</td>\n",
              "    </tr>\n",
              "    <tr>\n",
              "      <th>2</th>\n",
              "      <td>1.5937</td>\n",
              "      <td>1.3140</td>\n",
              "      <td>1.8202</td>\n",
              "      <td>1.5844</td>\n",
              "      <td>1.0346</td>\n",
              "      <td>0.6912</td>\n",
              "      <td>1.6762</td>\n",
              "      <td>1.4083</td>\n",
              "      <td>1.7411</td>\n",
              "      <td>2.3693</td>\n",
              "      <td>2.1449</td>\n",
              "      <td>2.7249</td>\n",
              "      <td>386.56</td>\n",
              "    </tr>\n",
              "    <tr>\n",
              "      <th>3</th>\n",
              "      <td>0.1184</td>\n",
              "      <td>0.7015</td>\n",
              "      <td>0.2860</td>\n",
              "      <td>0.8654</td>\n",
              "      <td>1.0346</td>\n",
              "      <td>-1.9892</td>\n",
              "      <td>1.6762</td>\n",
              "      <td>1.4083</td>\n",
              "      <td>1.7411</td>\n",
              "      <td>2.3693</td>\n",
              "      <td>2.1449</td>\n",
              "      <td>2.7249</td>\n",
              "      <td>500.80</td>\n",
              "    </tr>\n",
              "    <tr>\n",
              "      <th>4</th>\n",
              "      <td>1.9399</td>\n",
              "      <td>0.7015</td>\n",
              "      <td>-0.0424</td>\n",
              "      <td>0.7743</td>\n",
              "      <td>1.0346</td>\n",
              "      <td>2.0378</td>\n",
              "      <td>1.6762</td>\n",
              "      <td>0.5949</td>\n",
              "      <td>1.7411</td>\n",
              "      <td>2.3693</td>\n",
              "      <td>2.1449</td>\n",
              "      <td>2.7249</td>\n",
              "      <td>508.92</td>\n",
              "    </tr>\n",
              "    <tr>\n",
              "      <th>...</th>\n",
              "      <td>...</td>\n",
              "      <td>...</td>\n",
              "      <td>...</td>\n",
              "      <td>...</td>\n",
              "      <td>...</td>\n",
              "      <td>...</td>\n",
              "      <td>...</td>\n",
              "      <td>...</td>\n",
              "      <td>...</td>\n",
              "      <td>...</td>\n",
              "      <td>...</td>\n",
              "      <td>...</td>\n",
              "      <td>...</td>\n",
              "    </tr>\n",
              "    <tr>\n",
              "      <th>9454</th>\n",
              "      <td>-0.4479</td>\n",
              "      <td>-1.6385</td>\n",
              "      <td>-1.3309</td>\n",
              "      <td>-0.0008</td>\n",
              "      <td>-2.0819</td>\n",
              "      <td>-1.5580</td>\n",
              "      <td>-2.1428</td>\n",
              "      <td>1.8905</td>\n",
              "      <td>-2.1464</td>\n",
              "      <td>-2.1837</td>\n",
              "      <td>-1.2313</td>\n",
              "      <td>-3.2367</td>\n",
              "      <td>488.47</td>\n",
              "    </tr>\n",
              "    <tr>\n",
              "      <th>9455</th>\n",
              "      <td>1.1025</td>\n",
              "      <td>-1.1846</td>\n",
              "      <td>1.1049</td>\n",
              "      <td>-0.3253</td>\n",
              "      <td>-1.6735</td>\n",
              "      <td>-0.6142</td>\n",
              "      <td>-2.1428</td>\n",
              "      <td>1.0944</td>\n",
              "      <td>-2.1464</td>\n",
              "      <td>-1.3493</td>\n",
              "      <td>-1.2798</td>\n",
              "      <td>-3.2367</td>\n",
              "      <td>420.46</td>\n",
              "    </tr>\n",
              "    <tr>\n",
              "      <th>9456</th>\n",
              "      <td>2.6742</td>\n",
              "      <td>-0.9306</td>\n",
              "      <td>0.0351</td>\n",
              "      <td>-0.3253</td>\n",
              "      <td>1.0346</td>\n",
              "      <td>2.0378</td>\n",
              "      <td>-2.1428</td>\n",
              "      <td>0.4637</td>\n",
              "      <td>-2.1464</td>\n",
              "      <td>-1.5508</td>\n",
              "      <td>-1.3485</td>\n",
              "      <td>-3.2367</td>\n",
              "      <td>327.03</td>\n",
              "    </tr>\n",
              "    <tr>\n",
              "      <th>9457</th>\n",
              "      <td>0.2030</td>\n",
              "      <td>1.3140</td>\n",
              "      <td>1.8202</td>\n",
              "      <td>-1.6391</td>\n",
              "      <td>-1.1869</td>\n",
              "      <td>0.6912</td>\n",
              "      <td>-2.1428</td>\n",
              "      <td>1.8905</td>\n",
              "      <td>-2.1464</td>\n",
              "      <td>-2.5219</td>\n",
              "      <td>-3.2784</td>\n",
              "      <td>-3.2367</td>\n",
              "      <td>316.51</td>\n",
              "    </tr>\n",
              "    <tr>\n",
              "      <th>9458</th>\n",
              "      <td>-0.2272</td>\n",
              "      <td>-2.7106</td>\n",
              "      <td>-2.9425</td>\n",
              "      <td>-1.6391</td>\n",
              "      <td>-2.4468</td>\n",
              "      <td>-1.9892</td>\n",
              "      <td>-2.1428</td>\n",
              "      <td>-1.8939</td>\n",
              "      <td>-2.1464</td>\n",
              "      <td>-3.1675</td>\n",
              "      <td>-3.2784</td>\n",
              "      <td>-3.2367</td>\n",
              "      <td>418.62</td>\n",
              "    </tr>\n",
              "  </tbody>\n",
              "</table>\n",
              "<p>9459 rows × 13 columns</p>\n",
              "</div>\n",
              "      <button class=\"colab-df-convert\" onclick=\"convertToInteractive('df-b6810ddd-87aa-41e3-9670-d322c719d6f2')\"\n",
              "              title=\"Convert this dataframe to an interactive table.\"\n",
              "              style=\"display:none;\">\n",
              "        \n",
              "  <svg xmlns=\"http://www.w3.org/2000/svg\" height=\"24px\"viewBox=\"0 0 24 24\"\n",
              "       width=\"24px\">\n",
              "    <path d=\"M0 0h24v24H0V0z\" fill=\"none\"/>\n",
              "    <path d=\"M18.56 5.44l.94 2.06.94-2.06 2.06-.94-2.06-.94-.94-2.06-.94 2.06-2.06.94zm-11 1L8.5 8.5l.94-2.06 2.06-.94-2.06-.94L8.5 2.5l-.94 2.06-2.06.94zm10 10l.94 2.06.94-2.06 2.06-.94-2.06-.94-.94-2.06-.94 2.06-2.06.94z\"/><path d=\"M17.41 7.96l-1.37-1.37c-.4-.4-.92-.59-1.43-.59-.52 0-1.04.2-1.43.59L10.3 9.45l-7.72 7.72c-.78.78-.78 2.05 0 2.83L4 21.41c.39.39.9.59 1.41.59.51 0 1.02-.2 1.41-.59l7.78-7.78 2.81-2.81c.8-.78.8-2.07 0-2.86zM5.41 20L4 18.59l7.72-7.72 1.47 1.35L5.41 20z\"/>\n",
              "  </svg>\n",
              "      </button>\n",
              "      \n",
              "  <style>\n",
              "    .colab-df-container {\n",
              "      display:flex;\n",
              "      flex-wrap:wrap;\n",
              "      gap: 12px;\n",
              "    }\n",
              "\n",
              "    .colab-df-convert {\n",
              "      background-color: #E8F0FE;\n",
              "      border: none;\n",
              "      border-radius: 50%;\n",
              "      cursor: pointer;\n",
              "      display: none;\n",
              "      fill: #1967D2;\n",
              "      height: 32px;\n",
              "      padding: 0 0 0 0;\n",
              "      width: 32px;\n",
              "    }\n",
              "\n",
              "    .colab-df-convert:hover {\n",
              "      background-color: #E2EBFA;\n",
              "      box-shadow: 0px 1px 2px rgba(60, 64, 67, 0.3), 0px 1px 3px 1px rgba(60, 64, 67, 0.15);\n",
              "      fill: #174EA6;\n",
              "    }\n",
              "\n",
              "    [theme=dark] .colab-df-convert {\n",
              "      background-color: #3B4455;\n",
              "      fill: #D2E3FC;\n",
              "    }\n",
              "\n",
              "    [theme=dark] .colab-df-convert:hover {\n",
              "      background-color: #434B5C;\n",
              "      box-shadow: 0px 1px 3px 1px rgba(0, 0, 0, 0.15);\n",
              "      filter: drop-shadow(0px 1px 2px rgba(0, 0, 0, 0.3));\n",
              "      fill: #FFFFFF;\n",
              "    }\n",
              "  </style>\n",
              "\n",
              "      <script>\n",
              "        const buttonEl =\n",
              "          document.querySelector('#df-b6810ddd-87aa-41e3-9670-d322c719d6f2 button.colab-df-convert');\n",
              "        buttonEl.style.display =\n",
              "          google.colab.kernel.accessAllowed ? 'block' : 'none';\n",
              "\n",
              "        async function convertToInteractive(key) {\n",
              "          const element = document.querySelector('#df-b6810ddd-87aa-41e3-9670-d322c719d6f2');\n",
              "          const dataTable =\n",
              "            await google.colab.kernel.invokeFunction('convertToInteractive',\n",
              "                                                     [key], {});\n",
              "          if (!dataTable) return;\n",
              "\n",
              "          const docLinkHtml = 'Like what you see? Visit the ' +\n",
              "            '<a target=\"_blank\" href=https://colab.research.google.com/notebooks/data_table.ipynb>data table notebook</a>'\n",
              "            + ' to learn more about interactive tables.';\n",
              "          element.innerHTML = '';\n",
              "          dataTable['output_type'] = 'display_data';\n",
              "          await google.colab.output.renderOutput(dataTable, element);\n",
              "          const docLink = document.createElement('div');\n",
              "          docLink.innerHTML = docLinkHtml;\n",
              "          element.appendChild(docLink);\n",
              "        }\n",
              "      </script>\n",
              "    </div>\n",
              "  </div>\n",
              "  "
            ],
            "text/plain": [
              "      WEALTH  TEACHSUP  TeacherInstruction  PERFEED  EMOSUPS  PERCOMP  \\\n",
              "0     3.1045   -1.1481             -1.0499  -0.3253   1.0346   2.0378   \n",
              "1     0.4783    1.3140              1.8202   2.0165   1.0346   2.0378   \n",
              "2     1.5937    1.3140              1.8202   1.5844   1.0346   0.6912   \n",
              "3     0.1184    0.7015              0.2860   0.8654   1.0346  -1.9892   \n",
              "4     1.9399    0.7015             -0.0424   0.7743   1.0346   2.0378   \n",
              "...      ...       ...                 ...      ...      ...      ...   \n",
              "9454 -0.4479   -1.6385             -1.3309  -0.0008  -2.0819  -1.5580   \n",
              "9455  1.1025   -1.1846              1.1049  -0.3253  -1.6735  -0.6142   \n",
              "9456  2.6742   -0.9306              0.0351  -0.3253   1.0346   2.0378   \n",
              "9457  0.2030    1.3140              1.8202  -1.6391  -1.1869   0.6912   \n",
              "9458 -0.2272   -2.7106             -2.9425  -1.6391  -2.4468  -1.9892   \n",
              "\n",
              "      PERCOOP  FAILURE  MEANINGLIFE  RESILIENCE  COGFLEX  BELONG  AvgMath  \n",
              "0      1.6762   1.8905       1.7411      2.3693   2.1449  2.7562   484.92  \n",
              "1      1.6762  -1.8939      -0.9827      2.3693   2.1449  2.7474   438.15  \n",
              "2      1.6762   1.4083       1.7411      2.3693   2.1449  2.7249   386.56  \n",
              "3      1.6762   1.4083       1.7411      2.3693   2.1449  2.7249   500.80  \n",
              "4      1.6762   0.5949       1.7411      2.3693   2.1449  2.7249   508.92  \n",
              "...       ...      ...          ...         ...      ...     ...      ...  \n",
              "9454  -2.1428   1.8905      -2.1464     -2.1837  -1.2313 -3.2367   488.47  \n",
              "9455  -2.1428   1.0944      -2.1464     -1.3493  -1.2798 -3.2367   420.46  \n",
              "9456  -2.1428   0.4637      -2.1464     -1.5508  -1.3485 -3.2367   327.03  \n",
              "9457  -2.1428   1.8905      -2.1464     -2.5219  -3.2784 -3.2367   316.51  \n",
              "9458  -2.1428  -1.8939      -2.1464     -3.1675  -3.2784 -3.2367   418.62  \n",
              "\n",
              "[9459 rows x 13 columns]"
            ]
          },
          "execution_count": 27,
          "metadata": {},
          "output_type": "execute_result"
        }
      ],
      "source": [
        "PISA_test.iloc[:,16:29]"
      ]
    },
    {
      "cell_type": "code",
      "execution_count": null,
      "metadata": {
        "colab": {
          "base_uri": "https://localhost:8080/",
          "height": 488
        },
        "id": "WIxa8dI8euWj",
        "outputId": "9f8fb235-999e-4b61-83e1-ad358db4d80e"
      },
      "outputs": [
        {
          "data": {
            "text/html": [
              "\n",
              "  <div id=\"df-72c36264-16ee-4d68-88e5-d5c654bdb108\">\n",
              "    <div class=\"colab-df-container\">\n",
              "      <div>\n",
              "<style scoped>\n",
              "    .dataframe tbody tr th:only-of-type {\n",
              "        vertical-align: middle;\n",
              "    }\n",
              "\n",
              "    .dataframe tbody tr th {\n",
              "        vertical-align: top;\n",
              "    }\n",
              "\n",
              "    .dataframe thead th {\n",
              "        text-align: right;\n",
              "    }\n",
              "</style>\n",
              "<table border=\"1\" class=\"dataframe\">\n",
              "  <thead>\n",
              "    <tr style=\"text-align: right;\">\n",
              "      <th></th>\n",
              "      <th>WEALTH</th>\n",
              "      <th>TEACHSUP</th>\n",
              "      <th>TeacherInstruction</th>\n",
              "      <th>PERFEED</th>\n",
              "      <th>EMOSUPS</th>\n",
              "      <th>PERCOMP</th>\n",
              "      <th>PERCOOP</th>\n",
              "      <th>FAILURE</th>\n",
              "      <th>MEANINGLIFE</th>\n",
              "      <th>RESILIENCE</th>\n",
              "      <th>COGFLEX</th>\n",
              "      <th>BELONG</th>\n",
              "      <th>AvgMath</th>\n",
              "    </tr>\n",
              "  </thead>\n",
              "  <tbody>\n",
              "    <tr>\n",
              "      <th>0</th>\n",
              "      <td>2.898454</td>\n",
              "      <td>-1.454448</td>\n",
              "      <td>-1.010673</td>\n",
              "      <td>-0.718981</td>\n",
              "      <td>0.918717</td>\n",
              "      <td>1.796557</td>\n",
              "      <td>1.774915</td>\n",
              "      <td>1.630427</td>\n",
              "      <td>1.790971</td>\n",
              "      <td>2.465073</td>\n",
              "      <td>2.001949</td>\n",
              "      <td>3.090126</td>\n",
              "      <td>-0.186031</td>\n",
              "    </tr>\n",
              "    <tr>\n",
              "      <th>1</th>\n",
              "      <td>-0.265127</td>\n",
              "      <td>1.101764</td>\n",
              "      <td>1.780645</td>\n",
              "      <td>1.676222</td>\n",
              "      <td>0.918717</td>\n",
              "      <td>1.796557</td>\n",
              "      <td>1.774915</td>\n",
              "      <td>-2.152398</td>\n",
              "      <td>-0.852931</td>\n",
              "      <td>2.465073</td>\n",
              "      <td>2.001949</td>\n",
              "      <td>3.080905</td>\n",
              "      <td>-0.740406</td>\n",
              "    </tr>\n",
              "    <tr>\n",
              "      <th>2</th>\n",
              "      <td>1.078509</td>\n",
              "      <td>1.101764</td>\n",
              "      <td>1.780645</td>\n",
              "      <td>1.234269</td>\n",
              "      <td>0.918717</td>\n",
              "      <td>0.367474</td>\n",
              "      <td>1.774915</td>\n",
              "      <td>1.148427</td>\n",
              "      <td>1.790971</td>\n",
              "      <td>2.465073</td>\n",
              "      <td>2.001949</td>\n",
              "      <td>3.057327</td>\n",
              "      <td>-1.351913</td>\n",
              "    </tr>\n",
              "    <tr>\n",
              "      <th>3</th>\n",
              "      <td>-0.698671</td>\n",
              "      <td>0.465852</td>\n",
              "      <td>0.288558</td>\n",
              "      <td>0.498872</td>\n",
              "      <td>0.918717</td>\n",
              "      <td>-2.477109</td>\n",
              "      <td>1.774915</td>\n",
              "      <td>1.148427</td>\n",
              "      <td>1.790971</td>\n",
              "      <td>2.465073</td>\n",
              "      <td>2.001949</td>\n",
              "      <td>3.057327</td>\n",
              "      <td>0.002198</td>\n",
              "    </tr>\n",
              "    <tr>\n",
              "      <th>4</th>\n",
              "      <td>1.495550</td>\n",
              "      <td>0.465852</td>\n",
              "      <td>-0.030828</td>\n",
              "      <td>0.405695</td>\n",
              "      <td>0.918717</td>\n",
              "      <td>1.796557</td>\n",
              "      <td>1.774915</td>\n",
              "      <td>0.335366</td>\n",
              "      <td>1.790971</td>\n",
              "      <td>2.465073</td>\n",
              "      <td>2.001949</td>\n",
              "      <td>3.057327</td>\n",
              "      <td>0.098446</td>\n",
              "    </tr>\n",
              "    <tr>\n",
              "      <th>...</th>\n",
              "      <td>...</td>\n",
              "      <td>...</td>\n",
              "      <td>...</td>\n",
              "      <td>...</td>\n",
              "      <td>...</td>\n",
              "      <td>...</td>\n",
              "      <td>...</td>\n",
              "      <td>...</td>\n",
              "      <td>...</td>\n",
              "      <td>...</td>\n",
              "      <td>...</td>\n",
              "      <td>...</td>\n",
              "      <td>...</td>\n",
              "    </tr>\n",
              "    <tr>\n",
              "      <th>9454</th>\n",
              "      <td>-1.380849</td>\n",
              "      <td>-1.963593</td>\n",
              "      <td>-1.283959</td>\n",
              "      <td>-0.387081</td>\n",
              "      <td>-2.321363</td>\n",
              "      <td>-2.019497</td>\n",
              "      <td>-2.317042</td>\n",
              "      <td>1.630427</td>\n",
              "      <td>-1.982496</td>\n",
              "      <td>-2.343196</td>\n",
              "      <td>-1.380845</td>\n",
              "      <td>-3.189708</td>\n",
              "      <td>-0.143952</td>\n",
              "    </tr>\n",
              "    <tr>\n",
              "      <th>9455</th>\n",
              "      <td>0.486798</td>\n",
              "      <td>-1.492343</td>\n",
              "      <td>1.084980</td>\n",
              "      <td>-0.718981</td>\n",
              "      <td>-1.896769</td>\n",
              "      <td>-1.017886</td>\n",
              "      <td>-2.317042</td>\n",
              "      <td>0.834658</td>\n",
              "      <td>-1.982496</td>\n",
              "      <td>-1.462014</td>\n",
              "      <td>-1.429440</td>\n",
              "      <td>-3.189708</td>\n",
              "      <td>-0.950089</td>\n",
              "    </tr>\n",
              "    <tr>\n",
              "      <th>9456</th>\n",
              "      <td>2.380104</td>\n",
              "      <td>-1.228634</td>\n",
              "      <td>0.044545</td>\n",
              "      <td>-0.718981</td>\n",
              "      <td>0.918717</td>\n",
              "      <td>1.796557</td>\n",
              "      <td>-2.317042</td>\n",
              "      <td>0.204220</td>\n",
              "      <td>-1.982496</td>\n",
              "      <td>-1.674812</td>\n",
              "      <td>-1.498274</td>\n",
              "      <td>-3.189708</td>\n",
              "      <td>-2.057534</td>\n",
              "    </tr>\n",
              "    <tr>\n",
              "      <th>9457</th>\n",
              "      <td>-0.596760</td>\n",
              "      <td>1.101764</td>\n",
              "      <td>1.780645</td>\n",
              "      <td>-2.062741</td>\n",
              "      <td>-1.390873</td>\n",
              "      <td>0.367474</td>\n",
              "      <td>-2.317042</td>\n",
              "      <td>1.630427</td>\n",
              "      <td>-1.982496</td>\n",
              "      <td>-2.700357</td>\n",
              "      <td>-3.431944</td>\n",
              "      <td>-3.189708</td>\n",
              "      <td>-2.182230</td>\n",
              "    </tr>\n",
              "    <tr>\n",
              "      <th>9458</th>\n",
              "      <td>-1.114989</td>\n",
              "      <td>-3.076674</td>\n",
              "      <td>-2.851322</td>\n",
              "      <td>-2.062741</td>\n",
              "      <td>-2.700733</td>\n",
              "      <td>-2.477109</td>\n",
              "      <td>-2.317042</td>\n",
              "      <td>-2.152398</td>\n",
              "      <td>-1.982496</td>\n",
              "      <td>-3.382153</td>\n",
              "      <td>-3.431944</td>\n",
              "      <td>-3.189708</td>\n",
              "      <td>-0.971899</td>\n",
              "    </tr>\n",
              "  </tbody>\n",
              "</table>\n",
              "<p>9459 rows × 13 columns</p>\n",
              "</div>\n",
              "      <button class=\"colab-df-convert\" onclick=\"convertToInteractive('df-72c36264-16ee-4d68-88e5-d5c654bdb108')\"\n",
              "              title=\"Convert this dataframe to an interactive table.\"\n",
              "              style=\"display:none;\">\n",
              "        \n",
              "  <svg xmlns=\"http://www.w3.org/2000/svg\" height=\"24px\"viewBox=\"0 0 24 24\"\n",
              "       width=\"24px\">\n",
              "    <path d=\"M0 0h24v24H0V0z\" fill=\"none\"/>\n",
              "    <path d=\"M18.56 5.44l.94 2.06.94-2.06 2.06-.94-2.06-.94-.94-2.06-.94 2.06-2.06.94zm-11 1L8.5 8.5l.94-2.06 2.06-.94-2.06-.94L8.5 2.5l-.94 2.06-2.06.94zm10 10l.94 2.06.94-2.06 2.06-.94-2.06-.94-.94-2.06-.94 2.06-2.06.94z\"/><path d=\"M17.41 7.96l-1.37-1.37c-.4-.4-.92-.59-1.43-.59-.52 0-1.04.2-1.43.59L10.3 9.45l-7.72 7.72c-.78.78-.78 2.05 0 2.83L4 21.41c.39.39.9.59 1.41.59.51 0 1.02-.2 1.41-.59l7.78-7.78 2.81-2.81c.8-.78.8-2.07 0-2.86zM5.41 20L4 18.59l7.72-7.72 1.47 1.35L5.41 20z\"/>\n",
              "  </svg>\n",
              "      </button>\n",
              "      \n",
              "  <style>\n",
              "    .colab-df-container {\n",
              "      display:flex;\n",
              "      flex-wrap:wrap;\n",
              "      gap: 12px;\n",
              "    }\n",
              "\n",
              "    .colab-df-convert {\n",
              "      background-color: #E8F0FE;\n",
              "      border: none;\n",
              "      border-radius: 50%;\n",
              "      cursor: pointer;\n",
              "      display: none;\n",
              "      fill: #1967D2;\n",
              "      height: 32px;\n",
              "      padding: 0 0 0 0;\n",
              "      width: 32px;\n",
              "    }\n",
              "\n",
              "    .colab-df-convert:hover {\n",
              "      background-color: #E2EBFA;\n",
              "      box-shadow: 0px 1px 2px rgba(60, 64, 67, 0.3), 0px 1px 3px 1px rgba(60, 64, 67, 0.15);\n",
              "      fill: #174EA6;\n",
              "    }\n",
              "\n",
              "    [theme=dark] .colab-df-convert {\n",
              "      background-color: #3B4455;\n",
              "      fill: #D2E3FC;\n",
              "    }\n",
              "\n",
              "    [theme=dark] .colab-df-convert:hover {\n",
              "      background-color: #434B5C;\n",
              "      box-shadow: 0px 1px 3px 1px rgba(0, 0, 0, 0.15);\n",
              "      filter: drop-shadow(0px 1px 2px rgba(0, 0, 0, 0.3));\n",
              "      fill: #FFFFFF;\n",
              "    }\n",
              "  </style>\n",
              "\n",
              "      <script>\n",
              "        const buttonEl =\n",
              "          document.querySelector('#df-72c36264-16ee-4d68-88e5-d5c654bdb108 button.colab-df-convert');\n",
              "        buttonEl.style.display =\n",
              "          google.colab.kernel.accessAllowed ? 'block' : 'none';\n",
              "\n",
              "        async function convertToInteractive(key) {\n",
              "          const element = document.querySelector('#df-72c36264-16ee-4d68-88e5-d5c654bdb108');\n",
              "          const dataTable =\n",
              "            await google.colab.kernel.invokeFunction('convertToInteractive',\n",
              "                                                     [key], {});\n",
              "          if (!dataTable) return;\n",
              "\n",
              "          const docLinkHtml = 'Like what you see? Visit the ' +\n",
              "            '<a target=\"_blank\" href=https://colab.research.google.com/notebooks/data_table.ipynb>data table notebook</a>'\n",
              "            + ' to learn more about interactive tables.';\n",
              "          element.innerHTML = '';\n",
              "          dataTable['output_type'] = 'display_data';\n",
              "          await google.colab.output.renderOutput(dataTable, element);\n",
              "          const docLink = document.createElement('div');\n",
              "          docLink.innerHTML = docLinkHtml;\n",
              "          element.appendChild(docLink);\n",
              "        }\n",
              "      </script>\n",
              "    </div>\n",
              "  </div>\n",
              "  "
            ],
            "text/plain": [
              "        WEALTH  TEACHSUP  TeacherInstruction   PERFEED   EMOSUPS   PERCOMP  \\\n",
              "0     2.898454 -1.454448           -1.010673 -0.718981  0.918717  1.796557   \n",
              "1    -0.265127  1.101764            1.780645  1.676222  0.918717  1.796557   \n",
              "2     1.078509  1.101764            1.780645  1.234269  0.918717  0.367474   \n",
              "3    -0.698671  0.465852            0.288558  0.498872  0.918717 -2.477109   \n",
              "4     1.495550  0.465852           -0.030828  0.405695  0.918717  1.796557   \n",
              "...        ...       ...                 ...       ...       ...       ...   \n",
              "9454 -1.380849 -1.963593           -1.283959 -0.387081 -2.321363 -2.019497   \n",
              "9455  0.486798 -1.492343            1.084980 -0.718981 -1.896769 -1.017886   \n",
              "9456  2.380104 -1.228634            0.044545 -0.718981  0.918717  1.796557   \n",
              "9457 -0.596760  1.101764            1.780645 -2.062741 -1.390873  0.367474   \n",
              "9458 -1.114989 -3.076674           -2.851322 -2.062741 -2.700733 -2.477109   \n",
              "\n",
              "       PERCOOP   FAILURE  MEANINGLIFE  RESILIENCE   COGFLEX    BELONG  \\\n",
              "0     1.774915  1.630427     1.790971    2.465073  2.001949  3.090126   \n",
              "1     1.774915 -2.152398    -0.852931    2.465073  2.001949  3.080905   \n",
              "2     1.774915  1.148427     1.790971    2.465073  2.001949  3.057327   \n",
              "3     1.774915  1.148427     1.790971    2.465073  2.001949  3.057327   \n",
              "4     1.774915  0.335366     1.790971    2.465073  2.001949  3.057327   \n",
              "...        ...       ...          ...         ...       ...       ...   \n",
              "9454 -2.317042  1.630427    -1.982496   -2.343196 -1.380845 -3.189708   \n",
              "9455 -2.317042  0.834658    -1.982496   -1.462014 -1.429440 -3.189708   \n",
              "9456 -2.317042  0.204220    -1.982496   -1.674812 -1.498274 -3.189708   \n",
              "9457 -2.317042  1.630427    -1.982496   -2.700357 -3.431944 -3.189708   \n",
              "9458 -2.317042 -2.152398    -1.982496   -3.382153 -3.431944 -3.189708   \n",
              "\n",
              "       AvgMath  \n",
              "0    -0.186031  \n",
              "1    -0.740406  \n",
              "2    -1.351913  \n",
              "3     0.002198  \n",
              "4     0.098446  \n",
              "...        ...  \n",
              "9454 -0.143952  \n",
              "9455 -0.950089  \n",
              "9456 -2.057534  \n",
              "9457 -2.182230  \n",
              "9458 -0.971899  \n",
              "\n",
              "[9459 rows x 13 columns]"
            ]
          },
          "execution_count": 28,
          "metadata": {},
          "output_type": "execute_result"
        }
      ],
      "source": [
        "scaler = StandardScaler()\n",
        "standardized = pd.DataFrame(scaler.fit_transform(PISA_test.iloc[:,16:29]), columns = PISA_test.iloc[:,16:29].columns)\n",
        "standardized"
      ]
    },
    {
      "cell_type": "code",
      "execution_count": null,
      "metadata": {
        "colab": {
          "base_uri": "https://localhost:8080/",
          "height": 352
        },
        "id": "2WOGe0lje-Ji",
        "outputId": "1d56f156-721d-4e0b-d75f-aa0cf1b10bd7"
      },
      "outputs": [
        {
          "data": {
            "text/plain": [
              "(array([   8.,   87.,  563., 1545., 2366., 2531., 1627.,  591.,  125.,\n",
              "          16.]),\n",
              " array([191.12 , 252.427, 313.734, 375.041, 436.348, 497.655, 558.962,\n",
              "        620.269, 681.576, 742.883, 804.19 ]),\n",
              " <a list of 10 Patch objects>)"
            ]
          },
          "execution_count": 29,
          "metadata": {},
          "output_type": "execute_result"
        },
        {
          "data": {
            "image/png": "[encoded data removed]",
            "text/plain": [
              "<Figure size 432x288 with 1 Axes>"
            ]
          },
          "metadata": {},
          "output_type": "display_data"
        }
      ],
      "source": [
        "plt.hist(standardized.AvgMath)\n",
        "plt.hist(PISA_test[\"AvgMath\"])"
      ]
    },
    {
      "cell_type": "code",
      "execution_count": null,
      "metadata": {
        "id": "OUod_dkQgju9"
      },
      "outputs": [],
      "source": [
        "PISA_final = pd.concat([PISA_test.iloc[:,0:16], standardized], axis = 1 )"
      ]
    },
    {
      "cell_type": "code",
      "execution_count": null,
      "metadata": {
        "colab": {
          "base_uri": "https://localhost:8080/",
          "height": 488
        },
        "id": "RS2gX4SbfykX",
        "outputId": "7f5a1c0c-15c9-473a-f47a-600200dcd955"
      },
      "outputs": [
        {
          "data": {
            "text/html": [
              "\n",
              "  <div id=\"df-9ade6b42-d369-4aae-9c2d-e48e093b1d74\">\n",
              "    <div class=\"colab-df-container\">\n",
              "      <div>\n",
              "<style scoped>\n",
              "    .dataframe tbody tr th:only-of-type {\n",
              "        vertical-align: middle;\n",
              "    }\n",
              "\n",
              "    .dataframe tbody tr th {\n",
              "        vertical-align: top;\n",
              "    }\n",
              "\n",
              "    .dataframe thead th {\n",
              "        text-align: right;\n",
              "    }\n",
              "</style>\n",
              "<table border=\"1\" class=\"dataframe\">\n",
              "  <thead>\n",
              "    <tr style=\"text-align: right;\">\n",
              "      <th></th>\n",
              "      <th>MISCED0</th>\n",
              "      <th>MISCED1</th>\n",
              "      <th>MISCED2</th>\n",
              "      <th>MISCED3</th>\n",
              "      <th>MISCED4</th>\n",
              "      <th>MISCED5</th>\n",
              "      <th>MISCED6</th>\n",
              "      <th>FISCED0</th>\n",
              "      <th>FISCED1</th>\n",
              "      <th>FISCED2</th>\n",
              "      <th>...</th>\n",
              "      <th>PERFEED</th>\n",
              "      <th>EMOSUPS</th>\n",
              "      <th>PERCOMP</th>\n",
              "      <th>PERCOOP</th>\n",
              "      <th>FAILURE</th>\n",
              "      <th>MEANINGLIFE</th>\n",
              "      <th>RESILIENCE</th>\n",
              "      <th>COGFLEX</th>\n",
              "      <th>BELONG</th>\n",
              "      <th>AvgMath</th>\n",
              "    </tr>\n",
              "  </thead>\n",
              "  <tbody>\n",
              "    <tr>\n",
              "      <th>0</th>\n",
              "      <td>0.0</td>\n",
              "      <td>0.0</td>\n",
              "      <td>0.0</td>\n",
              "      <td>0.0</td>\n",
              "      <td>0.0</td>\n",
              "      <td>0.0</td>\n",
              "      <td>1.0</td>\n",
              "      <td>0.0</td>\n",
              "      <td>0.0</td>\n",
              "      <td>0.0</td>\n",
              "      <td>...</td>\n",
              "      <td>-0.718981</td>\n",
              "      <td>0.918717</td>\n",
              "      <td>1.796557</td>\n",
              "      <td>1.774915</td>\n",
              "      <td>1.630427</td>\n",
              "      <td>1.790971</td>\n",
              "      <td>2.465073</td>\n",
              "      <td>2.001949</td>\n",
              "      <td>3.090126</td>\n",
              "      <td>-0.186031</td>\n",
              "    </tr>\n",
              "    <tr>\n",
              "      <th>1</th>\n",
              "      <td>0.0</td>\n",
              "      <td>0.0</td>\n",
              "      <td>0.0</td>\n",
              "      <td>0.0</td>\n",
              "      <td>1.0</td>\n",
              "      <td>0.0</td>\n",
              "      <td>0.0</td>\n",
              "      <td>0.0</td>\n",
              "      <td>0.0</td>\n",
              "      <td>1.0</td>\n",
              "      <td>...</td>\n",
              "      <td>1.676222</td>\n",
              "      <td>0.918717</td>\n",
              "      <td>1.796557</td>\n",
              "      <td>1.774915</td>\n",
              "      <td>-2.152398</td>\n",
              "      <td>-0.852931</td>\n",
              "      <td>2.465073</td>\n",
              "      <td>2.001949</td>\n",
              "      <td>3.080905</td>\n",
              "      <td>-0.740406</td>\n",
              "    </tr>\n",
              "    <tr>\n",
              "      <th>2</th>\n",
              "      <td>0.0</td>\n",
              "      <td>0.0</td>\n",
              "      <td>0.0</td>\n",
              "      <td>0.0</td>\n",
              "      <td>1.0</td>\n",
              "      <td>0.0</td>\n",
              "      <td>0.0</td>\n",
              "      <td>0.0</td>\n",
              "      <td>0.0</td>\n",
              "      <td>0.0</td>\n",
              "      <td>...</td>\n",
              "      <td>1.234269</td>\n",
              "      <td>0.918717</td>\n",
              "      <td>0.367474</td>\n",
              "      <td>1.774915</td>\n",
              "      <td>1.148427</td>\n",
              "      <td>1.790971</td>\n",
              "      <td>2.465073</td>\n",
              "      <td>2.001949</td>\n",
              "      <td>3.057327</td>\n",
              "      <td>-1.351913</td>\n",
              "    </tr>\n",
              "    <tr>\n",
              "      <th>3</th>\n",
              "      <td>0.0</td>\n",
              "      <td>0.0</td>\n",
              "      <td>0.0</td>\n",
              "      <td>0.0</td>\n",
              "      <td>0.0</td>\n",
              "      <td>0.0</td>\n",
              "      <td>1.0</td>\n",
              "      <td>0.0</td>\n",
              "      <td>0.0</td>\n",
              "      <td>0.0</td>\n",
              "      <td>...</td>\n",
              "      <td>0.498872</td>\n",
              "      <td>0.918717</td>\n",
              "      <td>-2.477109</td>\n",
              "      <td>1.774915</td>\n",
              "      <td>1.148427</td>\n",
              "      <td>1.790971</td>\n",
              "      <td>2.465073</td>\n",
              "      <td>2.001949</td>\n",
              "      <td>3.057327</td>\n",
              "      <td>0.002198</td>\n",
              "    </tr>\n",
              "    <tr>\n",
              "      <th>4</th>\n",
              "      <td>0.0</td>\n",
              "      <td>0.0</td>\n",
              "      <td>0.0</td>\n",
              "      <td>0.0</td>\n",
              "      <td>0.0</td>\n",
              "      <td>0.0</td>\n",
              "      <td>1.0</td>\n",
              "      <td>0.0</td>\n",
              "      <td>0.0</td>\n",
              "      <td>0.0</td>\n",
              "      <td>...</td>\n",
              "      <td>0.405695</td>\n",
              "      <td>0.918717</td>\n",
              "      <td>1.796557</td>\n",
              "      <td>1.774915</td>\n",
              "      <td>0.335366</td>\n",
              "      <td>1.790971</td>\n",
              "      <td>2.465073</td>\n",
              "      <td>2.001949</td>\n",
              "      <td>3.057327</td>\n",
              "      <td>0.098446</td>\n",
              "    </tr>\n",
              "    <tr>\n",
              "      <th>...</th>\n",
              "      <td>...</td>\n",
              "      <td>...</td>\n",
              "      <td>...</td>\n",
              "      <td>...</td>\n",
              "      <td>...</td>\n",
              "      <td>...</td>\n",
              "      <td>...</td>\n",
              "      <td>...</td>\n",
              "      <td>...</td>\n",
              "      <td>...</td>\n",
              "      <td>...</td>\n",
              "      <td>...</td>\n",
              "      <td>...</td>\n",
              "      <td>...</td>\n",
              "      <td>...</td>\n",
              "      <td>...</td>\n",
              "      <td>...</td>\n",
              "      <td>...</td>\n",
              "      <td>...</td>\n",
              "      <td>...</td>\n",
              "      <td>...</td>\n",
              "    </tr>\n",
              "    <tr>\n",
              "      <th>9454</th>\n",
              "      <td>0.0</td>\n",
              "      <td>0.0</td>\n",
              "      <td>0.0</td>\n",
              "      <td>0.0</td>\n",
              "      <td>0.0</td>\n",
              "      <td>1.0</td>\n",
              "      <td>0.0</td>\n",
              "      <td>0.0</td>\n",
              "      <td>0.0</td>\n",
              "      <td>0.0</td>\n",
              "      <td>...</td>\n",
              "      <td>-0.387081</td>\n",
              "      <td>-2.321363</td>\n",
              "      <td>-2.019497</td>\n",
              "      <td>-2.317042</td>\n",
              "      <td>1.630427</td>\n",
              "      <td>-1.982496</td>\n",
              "      <td>-2.343196</td>\n",
              "      <td>-1.380845</td>\n",
              "      <td>-3.189708</td>\n",
              "      <td>-0.143952</td>\n",
              "    </tr>\n",
              "    <tr>\n",
              "      <th>9455</th>\n",
              "      <td>0.0</td>\n",
              "      <td>0.0</td>\n",
              "      <td>0.0</td>\n",
              "      <td>0.0</td>\n",
              "      <td>0.0</td>\n",
              "      <td>0.0</td>\n",
              "      <td>1.0</td>\n",
              "      <td>0.0</td>\n",
              "      <td>0.0</td>\n",
              "      <td>0.0</td>\n",
              "      <td>...</td>\n",
              "      <td>-0.718981</td>\n",
              "      <td>-1.896769</td>\n",
              "      <td>-1.017886</td>\n",
              "      <td>-2.317042</td>\n",
              "      <td>0.834658</td>\n",
              "      <td>-1.982496</td>\n",
              "      <td>-1.462014</td>\n",
              "      <td>-1.429440</td>\n",
              "      <td>-3.189708</td>\n",
              "      <td>-0.950089</td>\n",
              "    </tr>\n",
              "    <tr>\n",
              "      <th>9456</th>\n",
              "      <td>0.0</td>\n",
              "      <td>0.0</td>\n",
              "      <td>0.0</td>\n",
              "      <td>0.0</td>\n",
              "      <td>0.0</td>\n",
              "      <td>0.0</td>\n",
              "      <td>1.0</td>\n",
              "      <td>0.0</td>\n",
              "      <td>0.0</td>\n",
              "      <td>0.0</td>\n",
              "      <td>...</td>\n",
              "      <td>-0.718981</td>\n",
              "      <td>0.918717</td>\n",
              "      <td>1.796557</td>\n",
              "      <td>-2.317042</td>\n",
              "      <td>0.204220</td>\n",
              "      <td>-1.982496</td>\n",
              "      <td>-1.674812</td>\n",
              "      <td>-1.498274</td>\n",
              "      <td>-3.189708</td>\n",
              "      <td>-2.057534</td>\n",
              "    </tr>\n",
              "    <tr>\n",
              "      <th>9457</th>\n",
              "      <td>0.0</td>\n",
              "      <td>0.0</td>\n",
              "      <td>0.0</td>\n",
              "      <td>0.0</td>\n",
              "      <td>0.0</td>\n",
              "      <td>0.0</td>\n",
              "      <td>1.0</td>\n",
              "      <td>0.0</td>\n",
              "      <td>0.0</td>\n",
              "      <td>0.0</td>\n",
              "      <td>...</td>\n",
              "      <td>-2.062741</td>\n",
              "      <td>-1.390873</td>\n",
              "      <td>0.367474</td>\n",
              "      <td>-2.317042</td>\n",
              "      <td>1.630427</td>\n",
              "      <td>-1.982496</td>\n",
              "      <td>-2.700357</td>\n",
              "      <td>-3.431944</td>\n",
              "      <td>-3.189708</td>\n",
              "      <td>-2.182230</td>\n",
              "    </tr>\n",
              "    <tr>\n",
              "      <th>9458</th>\n",
              "      <td>0.0</td>\n",
              "      <td>0.0</td>\n",
              "      <td>0.0</td>\n",
              "      <td>0.0</td>\n",
              "      <td>1.0</td>\n",
              "      <td>0.0</td>\n",
              "      <td>0.0</td>\n",
              "      <td>0.0</td>\n",
              "      <td>0.0</td>\n",
              "      <td>0.0</td>\n",
              "      <td>...</td>\n",
              "      <td>-2.062741</td>\n",
              "      <td>-2.700733</td>\n",
              "      <td>-2.477109</td>\n",
              "      <td>-2.317042</td>\n",
              "      <td>-2.152398</td>\n",
              "      <td>-1.982496</td>\n",
              "      <td>-3.382153</td>\n",
              "      <td>-3.431944</td>\n",
              "      <td>-3.189708</td>\n",
              "      <td>-0.971899</td>\n",
              "    </tr>\n",
              "  </tbody>\n",
              "</table>\n",
              "<p>9459 rows × 29 columns</p>\n",
              "</div>\n",
              "      <button class=\"colab-df-convert\" onclick=\"convertToInteractive('df-9ade6b42-d369-4aae-9c2d-e48e093b1d74')\"\n",
              "              title=\"Convert this dataframe to an interactive table.\"\n",
              "              style=\"display:none;\">\n",
              "        \n",
              "  <svg xmlns=\"http://www.w3.org/2000/svg\" height=\"24px\"viewBox=\"0 0 24 24\"\n",
              "       width=\"24px\">\n",
              "    <path d=\"M0 0h24v24H0V0z\" fill=\"none\"/>\n",
              "    <path d=\"M18.56 5.44l.94 2.06.94-2.06 2.06-.94-2.06-.94-.94-2.06-.94 2.06-2.06.94zm-11 1L8.5 8.5l.94-2.06 2.06-.94-2.06-.94L8.5 2.5l-.94 2.06-2.06.94zm10 10l.94 2.06.94-2.06 2.06-.94-2.06-.94-.94-2.06-.94 2.06-2.06.94z\"/><path d=\"M17.41 7.96l-1.37-1.37c-.4-.4-.92-.59-1.43-.59-.52 0-1.04.2-1.43.59L10.3 9.45l-7.72 7.72c-.78.78-.78 2.05 0 2.83L4 21.41c.39.39.9.59 1.41.59.51 0 1.02-.2 1.41-.59l7.78-7.78 2.81-2.81c.8-.78.8-2.07 0-2.86zM5.41 20L4 18.59l7.72-7.72 1.47 1.35L5.41 20z\"/>\n",
              "  </svg>\n",
              "      </button>\n",
              "      \n",
              "  <style>\n",
              "    .colab-df-container {\n",
              "      display:flex;\n",
              "      flex-wrap:wrap;\n",
              "      gap: 12px;\n",
              "    }\n",
              "\n",
              "    .colab-df-convert {\n",
              "      background-color: #E8F0FE;\n",
              "      border: none;\n",
              "      border-radius: 50%;\n",
              "      cursor: pointer;\n",
              "      display: none;\n",
              "      fill: #1967D2;\n",
              "      height: 32px;\n",
              "      padding: 0 0 0 0;\n",
              "      width: 32px;\n",
              "    }\n",
              "\n",
              "    .colab-df-convert:hover {\n",
              "      background-color: #E2EBFA;\n",
              "      box-shadow: 0px 1px 2px rgba(60, 64, 67, 0.3), 0px 1px 3px 1px rgba(60, 64, 67, 0.15);\n",
              "      fill: #174EA6;\n",
              "    }\n",
              "\n",
              "    [theme=dark] .colab-df-convert {\n",
              "      background-color: #3B4455;\n",
              "      fill: #D2E3FC;\n",
              "    }\n",
              "\n",
              "    [theme=dark] .colab-df-convert:hover {\n",
              "      background-color: #434B5C;\n",
              "      box-shadow: 0px 1px 3px 1px rgba(0, 0, 0, 0.15);\n",
              "      filter: drop-shadow(0px 1px 2px rgba(0, 0, 0, 0.3));\n",
              "      fill: #FFFFFF;\n",
              "    }\n",
              "  </style>\n",
              "\n",
              "      <script>\n",
              "        const buttonEl =\n",
              "          document.querySelector('#df-9ade6b42-d369-4aae-9c2d-e48e093b1d74 button.colab-df-convert');\n",
              "        buttonEl.style.display =\n",
              "          google.colab.kernel.accessAllowed ? 'block' : 'none';\n",
              "\n",
              "        async function convertToInteractive(key) {\n",
              "          const element = document.querySelector('#df-9ade6b42-d369-4aae-9c2d-e48e093b1d74');\n",
              "          const dataTable =\n",
              "            await google.colab.kernel.invokeFunction('convertToInteractive',\n",
              "                                                     [key], {});\n",
              "          if (!dataTable) return;\n",
              "\n",
              "          const docLinkHtml = 'Like what you see? Visit the ' +\n",
              "            '<a target=\"_blank\" href=https://colab.research.google.com/notebooks/data_table.ipynb>data table notebook</a>'\n",
              "            + ' to learn more about interactive tables.';\n",
              "          element.innerHTML = '';\n",
              "          dataTable['output_type'] = 'display_data';\n",
              "          await google.colab.output.renderOutput(dataTable, element);\n",
              "          const docLink = document.createElement('div');\n",
              "          docLink.innerHTML = docLinkHtml;\n",
              "          element.appendChild(docLink);\n",
              "        }\n",
              "      </script>\n",
              "    </div>\n",
              "  </div>\n",
              "  "
            ],
            "text/plain": [
              "      MISCED0  MISCED1  MISCED2  MISCED3  MISCED4  MISCED5  MISCED6  FISCED0  \\\n",
              "0         0.0      0.0      0.0      0.0      0.0      0.0      1.0      0.0   \n",
              "1         0.0      0.0      0.0      0.0      1.0      0.0      0.0      0.0   \n",
              "2         0.0      0.0      0.0      0.0      1.0      0.0      0.0      0.0   \n",
              "3         0.0      0.0      0.0      0.0      0.0      0.0      1.0      0.0   \n",
              "4         0.0      0.0      0.0      0.0      0.0      0.0      1.0      0.0   \n",
              "...       ...      ...      ...      ...      ...      ...      ...      ...   \n",
              "9454      0.0      0.0      0.0      0.0      0.0      1.0      0.0      0.0   \n",
              "9455      0.0      0.0      0.0      0.0      0.0      0.0      1.0      0.0   \n",
              "9456      0.0      0.0      0.0      0.0      0.0      0.0      1.0      0.0   \n",
              "9457      0.0      0.0      0.0      0.0      0.0      0.0      1.0      0.0   \n",
              "9458      0.0      0.0      0.0      0.0      1.0      0.0      0.0      0.0   \n",
              "\n",
              "      FISCED1  FISCED2  ...   PERFEED   EMOSUPS   PERCOMP   PERCOOP   FAILURE  \\\n",
              "0         0.0      0.0  ... -0.718981  0.918717  1.796557  1.774915  1.630427   \n",
              "1         0.0      1.0  ...  1.676222  0.918717  1.796557  1.774915 -2.152398   \n",
              "2         0.0      0.0  ...  1.234269  0.918717  0.367474  1.774915  1.148427   \n",
              "3         0.0      0.0  ...  0.498872  0.918717 -2.477109  1.774915  1.148427   \n",
              "4         0.0      0.0  ...  0.405695  0.918717  1.796557  1.774915  0.335366   \n",
              "...       ...      ...  ...       ...       ...       ...       ...       ...   \n",
              "9454      0.0      0.0  ... -0.387081 -2.321363 -2.019497 -2.317042  1.630427   \n",
              "9455      0.0      0.0  ... -0.718981 -1.896769 -1.017886 -2.317042  0.834658   \n",
              "9456      0.0      0.0  ... -0.718981  0.918717  1.796557 -2.317042  0.204220   \n",
              "9457      0.0      0.0  ... -2.062741 -1.390873  0.367474 -2.317042  1.630427   \n",
              "9458      0.0      0.0  ... -2.062741 -2.700733 -2.477109 -2.317042 -2.152398   \n",
              "\n",
              "      MEANINGLIFE  RESILIENCE   COGFLEX    BELONG   AvgMath  \n",
              "0        1.790971    2.465073  2.001949  3.090126 -0.186031  \n",
              "1       -0.852931    2.465073  2.001949  3.080905 -0.740406  \n",
              "2        1.790971    2.465073  2.001949  3.057327 -1.351913  \n",
              "3        1.790971    2.465073  2.001949  3.057327  0.002198  \n",
              "4        1.790971    2.465073  2.001949  3.057327  0.098446  \n",
              "...           ...         ...       ...       ...       ...  \n",
              "9454    -1.982496   -2.343196 -1.380845 -3.189708 -0.143952  \n",
              "9455    -1.982496   -1.462014 -1.429440 -3.189708 -0.950089  \n",
              "9456    -1.982496   -1.674812 -1.498274 -3.189708 -2.057534  \n",
              "9457    -1.982496   -2.700357 -3.431944 -3.189708 -2.182230  \n",
              "9458    -1.982496   -3.382153 -3.431944 -3.189708 -0.971899  \n",
              "\n",
              "[9459 rows x 29 columns]"
            ]
          },
          "execution_count": 31,
          "metadata": {},
          "output_type": "execute_result"
        }
      ],
      "source": [
        "PISA_final"
      ]
    },
    {
      "cell_type": "code",
      "execution_count": null,
      "metadata": {
        "colab": {
          "base_uri": "https://localhost:8080/"
        },
        "id": "bED_q9PUoJXL",
        "outputId": "d6fcc82f-beaf-4f2c-fcd2-6d287e740afb"
      },
      "outputs": [
        {
          "data": {
            "text/plain": [
              "0       1\n",
              "1       1\n",
              "2       0\n",
              "3       0\n",
              "4       0\n",
              "       ..\n",
              "9454    0\n",
              "9455    0\n",
              "9456    0\n",
              "9457    0\n",
              "9458    1\n",
              "Name: GENDER, Length: 9459, dtype: int64"
            ]
          },
          "execution_count": 32,
          "metadata": {},
          "output_type": "execute_result"
        }
      ],
      "source": [
        "PISA_final[\"GENDER\"] = PISA_final[\"GENDER\"]-1\n",
        "PISA_final[\"GENDER\"]"
      ]
    },
    {
      "cell_type": "markdown",
      "metadata": {
        "id": "Pc30SN03nLt9"
      },
      "source": [
        "# Standardization of PISA2 (NIL)\n",
        "\n",
        "(to look at?)\n",
        "\n"
      ]
    },
    {
      "cell_type": "code",
      "execution_count": null,
      "metadata": {
        "colab": {
          "base_uri": "https://localhost:8080/",
          "height": 488
        },
        "id": "XsTXrU_LnQib",
        "outputId": "c7184675-1738-4ef7-c5d5-b19d52652a2c"
      },
      "outputs": [
        {
          "data": {
            "text/html": [
              "\n",
              "  <div id=\"df-55072f14-649f-4ed5-a6a0-cd3166aa663a\">\n",
              "    <div class=\"colab-df-container\">\n",
              "      <div>\n",
              "<style scoped>\n",
              "    .dataframe tbody tr th:only-of-type {\n",
              "        vertical-align: middle;\n",
              "    }\n",
              "\n",
              "    .dataframe tbody tr th {\n",
              "        vertical-align: top;\n",
              "    }\n",
              "\n",
              "    .dataframe thead th {\n",
              "        text-align: right;\n",
              "    }\n",
              "</style>\n",
              "<table border=\"1\" class=\"dataframe\">\n",
              "  <thead>\n",
              "    <tr style=\"text-align: right;\">\n",
              "      <th></th>\n",
              "      <th>GENDER</th>\n",
              "      <th>MOTHEREDU</th>\n",
              "      <th>FATHEREDU</th>\n",
              "      <th>REPEAT</th>\n",
              "      <th>WEALTH</th>\n",
              "      <th>TEACHSUP</th>\n",
              "      <th>TeacherInstruction</th>\n",
              "      <th>PERFEED</th>\n",
              "      <th>EMOSUPS</th>\n",
              "      <th>PERCOMP</th>\n",
              "      <th>PERCOOP</th>\n",
              "      <th>FAILURE</th>\n",
              "      <th>MEANINGLIFE</th>\n",
              "      <th>RESILIENCE</th>\n",
              "      <th>COGFLEX</th>\n",
              "      <th>BELONG</th>\n",
              "      <th>AvgMath</th>\n",
              "    </tr>\n",
              "  </thead>\n",
              "  <tbody>\n",
              "    <tr>\n",
              "      <th>0</th>\n",
              "      <td>2</td>\n",
              "      <td>6</td>\n",
              "      <td>6</td>\n",
              "      <td>1</td>\n",
              "      <td>3.1045</td>\n",
              "      <td>-1.1481</td>\n",
              "      <td>-1.0499</td>\n",
              "      <td>-0.3253</td>\n",
              "      <td>1.0346</td>\n",
              "      <td>2.0378</td>\n",
              "      <td>1.6762</td>\n",
              "      <td>1.8905</td>\n",
              "      <td>1.7411</td>\n",
              "      <td>2.3693</td>\n",
              "      <td>2.1449</td>\n",
              "      <td>2.7562</td>\n",
              "      <td>484.92</td>\n",
              "    </tr>\n",
              "    <tr>\n",
              "      <th>1</th>\n",
              "      <td>2</td>\n",
              "      <td>4</td>\n",
              "      <td>2</td>\n",
              "      <td>0</td>\n",
              "      <td>0.4783</td>\n",
              "      <td>1.3140</td>\n",
              "      <td>1.8202</td>\n",
              "      <td>2.0165</td>\n",
              "      <td>1.0346</td>\n",
              "      <td>2.0378</td>\n",
              "      <td>1.6762</td>\n",
              "      <td>-1.8939</td>\n",
              "      <td>-0.9827</td>\n",
              "      <td>2.3693</td>\n",
              "      <td>2.1449</td>\n",
              "      <td>2.7474</td>\n",
              "      <td>438.15</td>\n",
              "    </tr>\n",
              "    <tr>\n",
              "      <th>2</th>\n",
              "      <td>1</td>\n",
              "      <td>4</td>\n",
              "      <td>6</td>\n",
              "      <td>0</td>\n",
              "      <td>1.5937</td>\n",
              "      <td>1.3140</td>\n",
              "      <td>1.8202</td>\n",
              "      <td>1.5844</td>\n",
              "      <td>1.0346</td>\n",
              "      <td>0.6912</td>\n",
              "      <td>1.6762</td>\n",
              "      <td>1.4083</td>\n",
              "      <td>1.7411</td>\n",
              "      <td>2.3693</td>\n",
              "      <td>2.1449</td>\n",
              "      <td>2.7249</td>\n",
              "      <td>386.56</td>\n",
              "    </tr>\n",
              "    <tr>\n",
              "      <th>3</th>\n",
              "      <td>1</td>\n",
              "      <td>6</td>\n",
              "      <td>6</td>\n",
              "      <td>0</td>\n",
              "      <td>0.1184</td>\n",
              "      <td>0.7015</td>\n",
              "      <td>0.2860</td>\n",
              "      <td>0.8654</td>\n",
              "      <td>1.0346</td>\n",
              "      <td>-1.9892</td>\n",
              "      <td>1.6762</td>\n",
              "      <td>1.4083</td>\n",
              "      <td>1.7411</td>\n",
              "      <td>2.3693</td>\n",
              "      <td>2.1449</td>\n",
              "      <td>2.7249</td>\n",
              "      <td>500.80</td>\n",
              "    </tr>\n",
              "    <tr>\n",
              "      <th>4</th>\n",
              "      <td>1</td>\n",
              "      <td>6</td>\n",
              "      <td>5</td>\n",
              "      <td>0</td>\n",
              "      <td>1.9399</td>\n",
              "      <td>0.7015</td>\n",
              "      <td>-0.0424</td>\n",
              "      <td>0.7743</td>\n",
              "      <td>1.0346</td>\n",
              "      <td>2.0378</td>\n",
              "      <td>1.6762</td>\n",
              "      <td>0.5949</td>\n",
              "      <td>1.7411</td>\n",
              "      <td>2.3693</td>\n",
              "      <td>2.1449</td>\n",
              "      <td>2.7249</td>\n",
              "      <td>508.92</td>\n",
              "    </tr>\n",
              "    <tr>\n",
              "      <th>...</th>\n",
              "      <td>...</td>\n",
              "      <td>...</td>\n",
              "      <td>...</td>\n",
              "      <td>...</td>\n",
              "      <td>...</td>\n",
              "      <td>...</td>\n",
              "      <td>...</td>\n",
              "      <td>...</td>\n",
              "      <td>...</td>\n",
              "      <td>...</td>\n",
              "      <td>...</td>\n",
              "      <td>...</td>\n",
              "      <td>...</td>\n",
              "      <td>...</td>\n",
              "      <td>...</td>\n",
              "      <td>...</td>\n",
              "      <td>...</td>\n",
              "    </tr>\n",
              "    <tr>\n",
              "      <th>9454</th>\n",
              "      <td>1</td>\n",
              "      <td>5</td>\n",
              "      <td>4</td>\n",
              "      <td>0</td>\n",
              "      <td>-0.4479</td>\n",
              "      <td>-1.6385</td>\n",
              "      <td>-1.3309</td>\n",
              "      <td>-0.0008</td>\n",
              "      <td>-2.0819</td>\n",
              "      <td>-1.5580</td>\n",
              "      <td>-2.1428</td>\n",
              "      <td>1.8905</td>\n",
              "      <td>-2.1464</td>\n",
              "      <td>-2.1837</td>\n",
              "      <td>-1.2313</td>\n",
              "      <td>-3.2367</td>\n",
              "      <td>488.47</td>\n",
              "    </tr>\n",
              "    <tr>\n",
              "      <th>9455</th>\n",
              "      <td>1</td>\n",
              "      <td>6</td>\n",
              "      <td>6</td>\n",
              "      <td>0</td>\n",
              "      <td>1.1025</td>\n",
              "      <td>-1.1846</td>\n",
              "      <td>1.1049</td>\n",
              "      <td>-0.3253</td>\n",
              "      <td>-1.6735</td>\n",
              "      <td>-0.6142</td>\n",
              "      <td>-2.1428</td>\n",
              "      <td>1.0944</td>\n",
              "      <td>-2.1464</td>\n",
              "      <td>-1.3493</td>\n",
              "      <td>-1.2798</td>\n",
              "      <td>-3.2367</td>\n",
              "      <td>420.46</td>\n",
              "    </tr>\n",
              "    <tr>\n",
              "      <th>9456</th>\n",
              "      <td>1</td>\n",
              "      <td>6</td>\n",
              "      <td>6</td>\n",
              "      <td>0</td>\n",
              "      <td>2.6742</td>\n",
              "      <td>-0.9306</td>\n",
              "      <td>0.0351</td>\n",
              "      <td>-0.3253</td>\n",
              "      <td>1.0346</td>\n",
              "      <td>2.0378</td>\n",
              "      <td>-2.1428</td>\n",
              "      <td>0.4637</td>\n",
              "      <td>-2.1464</td>\n",
              "      <td>-1.5508</td>\n",
              "      <td>-1.3485</td>\n",
              "      <td>-3.2367</td>\n",
              "      <td>327.03</td>\n",
              "    </tr>\n",
              "    <tr>\n",
              "      <th>9457</th>\n",
              "      <td>1</td>\n",
              "      <td>6</td>\n",
              "      <td>6</td>\n",
              "      <td>0</td>\n",
              "      <td>0.2030</td>\n",
              "      <td>1.3140</td>\n",
              "      <td>1.8202</td>\n",
              "      <td>-1.6391</td>\n",
              "      <td>-1.1869</td>\n",
              "      <td>0.6912</td>\n",
              "      <td>-2.1428</td>\n",
              "      <td>1.8905</td>\n",
              "      <td>-2.1464</td>\n",
              "      <td>-2.5219</td>\n",
              "      <td>-3.2784</td>\n",
              "      <td>-3.2367</td>\n",
              "      <td>316.51</td>\n",
              "    </tr>\n",
              "    <tr>\n",
              "      <th>9458</th>\n",
              "      <td>2</td>\n",
              "      <td>4</td>\n",
              "      <td>4</td>\n",
              "      <td>0</td>\n",
              "      <td>-0.2272</td>\n",
              "      <td>-2.7106</td>\n",
              "      <td>-2.9425</td>\n",
              "      <td>-1.6391</td>\n",
              "      <td>-2.4468</td>\n",
              "      <td>-1.9892</td>\n",
              "      <td>-2.1428</td>\n",
              "      <td>-1.8939</td>\n",
              "      <td>-2.1464</td>\n",
              "      <td>-3.1675</td>\n",
              "      <td>-3.2784</td>\n",
              "      <td>-3.2367</td>\n",
              "      <td>418.62</td>\n",
              "    </tr>\n",
              "  </tbody>\n",
              "</table>\n",
              "<p>9459 rows × 17 columns</p>\n",
              "</div>\n",
              "      <button class=\"colab-df-convert\" onclick=\"convertToInteractive('df-55072f14-649f-4ed5-a6a0-cd3166aa663a')\"\n",
              "              title=\"Convert this dataframe to an interactive table.\"\n",
              "              style=\"display:none;\">\n",
              "        \n",
              "  <svg xmlns=\"http://www.w3.org/2000/svg\" height=\"24px\"viewBox=\"0 0 24 24\"\n",
              "       width=\"24px\">\n",
              "    <path d=\"M0 0h24v24H0V0z\" fill=\"none\"/>\n",
              "    <path d=\"M18.56 5.44l.94 2.06.94-2.06 2.06-.94-2.06-.94-.94-2.06-.94 2.06-2.06.94zm-11 1L8.5 8.5l.94-2.06 2.06-.94-2.06-.94L8.5 2.5l-.94 2.06-2.06.94zm10 10l.94 2.06.94-2.06 2.06-.94-2.06-.94-.94-2.06-.94 2.06-2.06.94z\"/><path d=\"M17.41 7.96l-1.37-1.37c-.4-.4-.92-.59-1.43-.59-.52 0-1.04.2-1.43.59L10.3 9.45l-7.72 7.72c-.78.78-.78 2.05 0 2.83L4 21.41c.39.39.9.59 1.41.59.51 0 1.02-.2 1.41-.59l7.78-7.78 2.81-2.81c.8-.78.8-2.07 0-2.86zM5.41 20L4 18.59l7.72-7.72 1.47 1.35L5.41 20z\"/>\n",
              "  </svg>\n",
              "      </button>\n",
              "      \n",
              "  <style>\n",
              "    .colab-df-container {\n",
              "      display:flex;\n",
              "      flex-wrap:wrap;\n",
              "      gap: 12px;\n",
              "    }\n",
              "\n",
              "    .colab-df-convert {\n",
              "      background-color: #E8F0FE;\n",
              "      border: none;\n",
              "      border-radius: 50%;\n",
              "      cursor: pointer;\n",
              "      display: none;\n",
              "      fill: #1967D2;\n",
              "      height: 32px;\n",
              "      padding: 0 0 0 0;\n",
              "      width: 32px;\n",
              "    }\n",
              "\n",
              "    .colab-df-convert:hover {\n",
              "      background-color: #E2EBFA;\n",
              "      box-shadow: 0px 1px 2px rgba(60, 64, 67, 0.3), 0px 1px 3px 1px rgba(60, 64, 67, 0.15);\n",
              "      fill: #174EA6;\n",
              "    }\n",
              "\n",
              "    [theme=dark] .colab-df-convert {\n",
              "      background-color: #3B4455;\n",
              "      fill: #D2E3FC;\n",
              "    }\n",
              "\n",
              "    [theme=dark] .colab-df-convert:hover {\n",
              "      background-color: #434B5C;\n",
              "      box-shadow: 0px 1px 3px 1px rgba(0, 0, 0, 0.15);\n",
              "      filter: drop-shadow(0px 1px 2px rgba(0, 0, 0, 0.3));\n",
              "      fill: #FFFFFF;\n",
              "    }\n",
              "  </style>\n",
              "\n",
              "      <script>\n",
              "        const buttonEl =\n",
              "          document.querySelector('#df-55072f14-649f-4ed5-a6a0-cd3166aa663a button.colab-df-convert');\n",
              "        buttonEl.style.display =\n",
              "          google.colab.kernel.accessAllowed ? 'block' : 'none';\n",
              "\n",
              "        async function convertToInteractive(key) {\n",
              "          const element = document.querySelector('#df-55072f14-649f-4ed5-a6a0-cd3166aa663a');\n",
              "          const dataTable =\n",
              "            await google.colab.kernel.invokeFunction('convertToInteractive',\n",
              "                                                     [key], {});\n",
              "          if (!dataTable) return;\n",
              "\n",
              "          const docLinkHtml = 'Like what you see? Visit the ' +\n",
              "            '<a target=\"_blank\" href=https://colab.research.google.com/notebooks/data_table.ipynb>data table notebook</a>'\n",
              "            + ' to learn more about interactive tables.';\n",
              "          element.innerHTML = '';\n",
              "          dataTable['output_type'] = 'display_data';\n",
              "          await google.colab.output.renderOutput(dataTable, element);\n",
              "          const docLink = document.createElement('div');\n",
              "          docLink.innerHTML = docLinkHtml;\n",
              "          element.appendChild(docLink);\n",
              "        }\n",
              "      </script>\n",
              "    </div>\n",
              "  </div>\n",
              "  "
            ],
            "text/plain": [
              "      GENDER  MOTHEREDU  FATHEREDU  REPEAT  WEALTH  TEACHSUP  \\\n",
              "0          2          6          6       1  3.1045   -1.1481   \n",
              "1          2          4          2       0  0.4783    1.3140   \n",
              "2          1          4          6       0  1.5937    1.3140   \n",
              "3          1          6          6       0  0.1184    0.7015   \n",
              "4          1          6          5       0  1.9399    0.7015   \n",
              "...      ...        ...        ...     ...     ...       ...   \n",
              "9454       1          5          4       0 -0.4479   -1.6385   \n",
              "9455       1          6          6       0  1.1025   -1.1846   \n",
              "9456       1          6          6       0  2.6742   -0.9306   \n",
              "9457       1          6          6       0  0.2030    1.3140   \n",
              "9458       2          4          4       0 -0.2272   -2.7106   \n",
              "\n",
              "      TeacherInstruction  PERFEED  EMOSUPS  PERCOMP  PERCOOP  FAILURE  \\\n",
              "0                -1.0499  -0.3253   1.0346   2.0378   1.6762   1.8905   \n",
              "1                 1.8202   2.0165   1.0346   2.0378   1.6762  -1.8939   \n",
              "2                 1.8202   1.5844   1.0346   0.6912   1.6762   1.4083   \n",
              "3                 0.2860   0.8654   1.0346  -1.9892   1.6762   1.4083   \n",
              "4                -0.0424   0.7743   1.0346   2.0378   1.6762   0.5949   \n",
              "...                  ...      ...      ...      ...      ...      ...   \n",
              "9454             -1.3309  -0.0008  -2.0819  -1.5580  -2.1428   1.8905   \n",
              "9455              1.1049  -0.3253  -1.6735  -0.6142  -2.1428   1.0944   \n",
              "9456              0.0351  -0.3253   1.0346   2.0378  -2.1428   0.4637   \n",
              "9457              1.8202  -1.6391  -1.1869   0.6912  -2.1428   1.8905   \n",
              "9458             -2.9425  -1.6391  -2.4468  -1.9892  -2.1428  -1.8939   \n",
              "\n",
              "      MEANINGLIFE  RESILIENCE  COGFLEX  BELONG  AvgMath  \n",
              "0          1.7411      2.3693   2.1449  2.7562   484.92  \n",
              "1         -0.9827      2.3693   2.1449  2.7474   438.15  \n",
              "2          1.7411      2.3693   2.1449  2.7249   386.56  \n",
              "3          1.7411      2.3693   2.1449  2.7249   500.80  \n",
              "4          1.7411      2.3693   2.1449  2.7249   508.92  \n",
              "...           ...         ...      ...     ...      ...  \n",
              "9454      -2.1464     -2.1837  -1.2313 -3.2367   488.47  \n",
              "9455      -2.1464     -1.3493  -1.2798 -3.2367   420.46  \n",
              "9456      -2.1464     -1.5508  -1.3485 -3.2367   327.03  \n",
              "9457      -2.1464     -2.5219  -3.2784 -3.2367   316.51  \n",
              "9458      -2.1464     -3.1675  -3.2784 -3.2367   418.62  \n",
              "\n",
              "[9459 rows x 17 columns]"
            ]
          },
          "execution_count": 33,
          "metadata": {},
          "output_type": "execute_result"
        }
      ],
      "source": [
        "PISA2"
      ]
    },
    {
      "cell_type": "code",
      "execution_count": null,
      "metadata": {
        "id": "HdN5UAwhng_c"
      },
      "outputs": [],
      "source": [
        "# Standardizing "
      ]
    },
    {
      "cell_type": "markdown",
      "metadata": {
        "id": "RyY9YQdJNodV"
      },
      "source": [
        "# Remove variables that do not contribute to predictors\n",
        "\n",
        "See Recursive Feature Elimination"
      ]
    },
    {
      "cell_type": "code",
      "execution_count": null,
      "metadata": {
        "id": "j3NAsHwgOKyO"
      },
      "outputs": [],
      "source": [
        "PISA_final = PISA_final.drop([\"WEALTH\",\"PERCOMP\", \"BELONG\"], axis = 1)"
      ]
    },
    {
      "cell_type": "markdown",
      "metadata": {
        "id": "mxn-XVR8jAix"
      },
      "source": [
        "# Split into train and test splits"
      ]
    },
    {
      "cell_type": "code",
      "execution_count": null,
      "metadata": {
        "id": "XgGWhzQlhesd"
      },
      "outputs": [],
      "source": [
        "#Select the predictors and outcome\n",
        "PISA_data = PISA_final.drop([\"AvgMath\"], axis = 1)\n",
        "PISA_score = PISA_final[\"AvgMath\"]"
      ]
    },
    {
      "cell_type": "code",
      "execution_count": null,
      "metadata": {
        "colab": {
          "base_uri": "https://localhost:8080/"
        },
        "id": "tdlM2im6n56Z",
        "outputId": "f06924fa-9d2e-4fa6-8959-539579b93da5"
      },
      "outputs": [
        {
          "data": {
            "text/plain": [
              "Index(['MISCED0', 'MISCED1', 'MISCED2', 'MISCED3', 'MISCED4', 'MISCED5',\n",
              "       'MISCED6', 'FISCED0', 'FISCED1', 'FISCED2', 'FISCED3', 'FISCED4',\n",
              "       'FISCED5', 'FISCED6', 'GENDER', 'REPEAT', 'TEACHSUP',\n",
              "       'TeacherInstruction', 'PERFEED', 'EMOSUPS', 'PERCOOP', 'FAILURE',\n",
              "       'MEANINGLIFE', 'RESILIENCE', 'COGFLEX'],\n",
              "      dtype='object')"
            ]
          },
          "execution_count": 37,
          "metadata": {},
          "output_type": "execute_result"
        }
      ],
      "source": [
        "PISA_data.columns"
      ]
    },
    {
      "cell_type": "code",
      "execution_count": null,
      "metadata": {
        "id": "yvdTAZd0vBQQ"
      },
      "outputs": [],
      "source": [
        "## splitting the values\n",
        "PISA_X_train, PISA_X_test, PISA_y_train, PISA_y_test = train_test_split(PISA_data, PISA_score, \n",
        "                                                                        test_size = int(.2*len(PISA_data)),\n",
        "                                                                        random_state = 42)"
      ]
    },
    {
      "cell_type": "markdown",
      "metadata": {
        "id": "5cg958C0gcwK"
      },
      "source": [
        "# Baseline: linear regression "
      ]
    },
    {
      "cell_type": "markdown",
      "metadata": {
        "id": "zLMQ0DUAoa2-"
      },
      "source": [
        "## Linear Regression without Parent education (standardized)"
      ]
    },
    {
      "cell_type": "code",
      "execution_count": null,
      "metadata": {
        "colab": {
          "base_uri": "https://localhost:8080/"
        },
        "id": "x-IqcyP7h6Rx",
        "outputId": "097e214d-163c-4ecf-8f9e-5ed8044e6ffc"
      },
      "outputs": [
        {
          "name": "stdout",
          "output_type": "stream",
          "text": [
            "CPU times: user 8.18 ms, sys: 11.7 ms, total: 19.9 ms\n",
            "Wall time: 45.5 ms\n"
          ]
        }
      ],
      "source": [
        "%%time\n",
        "LR = LinearRegression()\n",
        "LR.fit(PISA_data.iloc[:,14:], PISA_score)"
      ]
    },
    {
      "cell_type": "code",
      "execution_count": null,
      "metadata": {
        "colab": {
          "base_uri": "https://localhost:8080/"
        },
        "id": "7n8tt3A_h88v",
        "outputId": "01e7bd8e-13e1-4ce4-d7f7-4d437467b13a"
      },
      "outputs": [
        {
          "data": {
            "text/plain": [
              "(-0.09063412814610149,\n",
              " array([ 0.22875845, -0.45548382,  0.14094318, -0.21868249,  0.03345664,\n",
              "         0.12784525,  0.11076742,  0.11548532, -0.15780937,  0.07802197,\n",
              "         0.13671637]),\n",
              " Index(['GENDER', 'REPEAT', 'TEACHSUP', 'TeacherInstruction', 'PERFEED',\n",
              "        'EMOSUPS', 'PERCOOP', 'FAILURE', 'MEANINGLIFE', 'RESILIENCE',\n",
              "        'COGFLEX'],\n",
              "       dtype='object'))"
            ]
          },
          "execution_count": 40,
          "metadata": {},
          "output_type": "execute_result"
        }
      ],
      "source": [
        "LR.intercept_, LR.coef_, PISA_data.iloc[:,14:].columns"
      ]
    },
    {
      "cell_type": "code",
      "execution_count": null,
      "metadata": {
        "id": "ZOC2R1VXjd_x"
      },
      "outputs": [],
      "source": [
        "y_pred = LR.predict(PISA_data.iloc[:,14:])"
      ]
    },
    {
      "cell_type": "code",
      "execution_count": null,
      "metadata": {
        "colab": {
          "base_uri": "https://localhost:8080/"
        },
        "id": "1svEcm09jqku",
        "outputId": "5822aff8-d24e-4add-e904-5f8d615cb803"
      },
      "outputs": [
        {
          "data": {
            "text/plain": [
              "array([ 0.3603516 ,  0.62621096,  0.34663064, ..., -0.43586661,\n",
              "       -1.006969  , -1.01171785])"
            ]
          },
          "execution_count": 42,
          "metadata": {},
          "output_type": "execute_result"
        }
      ],
      "source": [
        "y_pred"
      ]
    },
    {
      "cell_type": "code",
      "execution_count": null,
      "metadata": {
        "colab": {
          "base_uri": "https://localhost:8080/"
        },
        "id": "Zz85QmWwizCq",
        "outputId": "481e0407-4abe-44ae-e25b-00408f9617d7"
      },
      "outputs": [
        {
          "data": {
            "text/plain": [
              "(0.8589417282649593, 0.1410582717350407)"
            ]
          },
          "execution_count": 43,
          "metadata": {},
          "output_type": "execute_result"
        }
      ],
      "source": [
        "# selected columns only\n",
        "mean_squared_error(PISA_score, y_pred), r2_score(PISA_score, y_pred)"
      ]
    },
    {
      "cell_type": "code",
      "execution_count": null,
      "metadata": {
        "id": "tfhhrvWUmHJn"
      },
      "outputs": [],
      "source": [
        "names = PISA_data.iloc[:,14:].columns\n",
        "LRcoef = LR.coef_"
      ]
    },
    {
      "cell_type": "code",
      "execution_count": null,
      "metadata": {
        "colab": {
          "base_uri": "https://localhost:8080/"
        },
        "id": "Do-ODxBbjVZ-",
        "outputId": "11dc33c5-fac5-4cd1-f253-d680b0502a67"
      },
      "outputs": [
        {
          "name": "stdout",
          "output_type": "stream",
          "text": [
            "Cofficient for GENDER is 0.23\n",
            "Cofficient for REPEAT is -0.46\n",
            "Cofficient for TEACHSUP is 0.14\n",
            "Cofficient for TeacherInstruction is -0.22\n",
            "Cofficient for PERFEED is 0.03\n",
            "Cofficient for EMOSUPS is 0.13\n",
            "Cofficient for PERCOOP is 0.11\n",
            "Cofficient for FAILURE is 0.12\n",
            "Cofficient for MEANINGLIFE is -0.16\n",
            "Cofficient for RESILIENCE is 0.08\n",
            "Cofficient for COGFLEX is 0.14\n"
          ]
        }
      ],
      "source": [
        "for i in range(0,len(names)):\n",
        "  print(\"Cofficient for\", f\"{names[i]} is {LRcoef[i]:.2f}\")"
      ]
    },
    {
      "cell_type": "markdown",
      "metadata": {
        "id": "NDAmeSSro3P_"
      },
      "source": [
        "## Linear Regression with all variables (standardized)"
      ]
    },
    {
      "cell_type": "code",
      "execution_count": null,
      "metadata": {
        "colab": {
          "base_uri": "https://localhost:8080/"
        },
        "id": "LHpZuwPqoAwJ",
        "outputId": "6ca3499e-9067-4319-d057-7ef8d0723189"
      },
      "outputs": [
        {
          "name": "stdout",
          "output_type": "stream",
          "text": [
            "CPU times: user 19 ms, sys: 9.67 ms, total: 28.7 ms\n",
            "Wall time: 23.7 ms\n"
          ]
        }
      ],
      "source": [
        "%%time\n",
        "LR1 = LinearRegression()\n",
        "LR1.fit(PISA_X_train, PISA_y_train)"
      ]
    },
    {
      "cell_type": "code",
      "execution_count": null,
      "metadata": {
        "colab": {
          "base_uri": "https://localhost:8080/"
        },
        "id": "5Db_JW_KoN07",
        "outputId": "287c126b-199e-4c42-a5ca-bab43da8c444"
      },
      "outputs": [
        {
          "data": {
            "text/plain": [
              "(-16736806677703.42,\n",
              " array([ 8.59155221e+12,  8.59155221e+12,  8.59155221e+12,  8.59155221e+12,\n",
              "         8.59155221e+12,  8.59155221e+12,  8.59155221e+12,  8.14525447e+12,\n",
              "         8.14525447e+12,  8.14525447e+12,  8.14525447e+12,  8.14525447e+12,\n",
              "         8.14525447e+12,  8.14525447e+12,  2.07362767e-01, -4.92176586e-01,\n",
              "         1.42312298e-01, -1.99218750e-01,  2.24609375e-02,  1.03515625e-01,\n",
              "         1.02264404e-01,  1.00097656e-01, -1.49658203e-01,  5.93261719e-02,\n",
              "         1.11724854e-01]),\n",
              " Index(['MISCED0', 'MISCED1', 'MISCED2', 'MISCED3', 'MISCED4', 'MISCED5',\n",
              "        'MISCED6', 'FISCED0', 'FISCED1', 'FISCED2', 'FISCED3', 'FISCED4',\n",
              "        'FISCED5', 'FISCED6', 'GENDER', 'REPEAT', 'TEACHSUP',\n",
              "        'TeacherInstruction', 'PERFEED', 'EMOSUPS', 'PERCOOP', 'FAILURE',\n",
              "        'MEANINGLIFE', 'RESILIENCE', 'COGFLEX'],\n",
              "       dtype='object'))"
            ]
          },
          "execution_count": 47,
          "metadata": {},
          "output_type": "execute_result"
        }
      ],
      "source": [
        "LR1.intercept_, LR1.coef_, PISA_data.columns"
      ]
    },
    {
      "cell_type": "code",
      "execution_count": null,
      "metadata": {
        "id": "r_8xzJ-8oakO"
      },
      "outputs": [],
      "source": [
        "y_pred_all = LR1.predict(PISA_X_test)"
      ]
    },
    {
      "cell_type": "code",
      "execution_count": null,
      "metadata": {
        "colab": {
          "base_uri": "https://localhost:8080/"
        },
        "id": "TF3C1Bw1opK2",
        "outputId": "e22d7274-a019-403b-fe0c-d74f8940c2f1"
      },
      "outputs": [
        {
          "data": {
            "text/plain": [
              "(0.8068657706653697, 0.2058104461930088)"
            ]
          },
          "execution_count": 49,
          "metadata": {},
          "output_type": "execute_result"
        }
      ],
      "source": [
        "mean_squared_error(PISA_y_test, y_pred_all), r2_score(PISA_y_test, y_pred_all)"
      ]
    },
    {
      "cell_type": "code",
      "execution_count": null,
      "metadata": {
        "colab": {
          "base_uri": "https://localhost:8080/"
        },
        "id": "jMsSm07Qow6Q",
        "outputId": "d649c5b5-7eee-433f-fa6d-39e5a66b96fa"
      },
      "outputs": [
        {
          "name": "stdout",
          "output_type": "stream",
          "text": [
            "Cofficient for MISCED0 is 8591552208987.56\n",
            "Cofficient for MISCED1 is 8591552208987.60\n",
            "Cofficient for MISCED2 is 8591552208987.68\n",
            "Cofficient for MISCED3 is 8591552208987.60\n",
            "Cofficient for MISCED4 is 8591552208987.74\n",
            "Cofficient for MISCED5 is 8591552208987.79\n",
            "Cofficient for MISCED6 is 8591552208987.93\n",
            "Cofficient for FISCED0 is 8145254468715.14\n",
            "Cofficient for FISCED1 is 8145254468715.32\n",
            "Cofficient for FISCED2 is 8145254468715.26\n",
            "Cofficient for FISCED3 is 8145254468715.20\n",
            "Cofficient for FISCED4 is 8145254468715.42\n",
            "Cofficient for FISCED5 is 8145254468715.35\n",
            "Cofficient for FISCED6 is 8145254468715.78\n",
            "Cofficient for GENDER is 0.21\n",
            "Cofficient for REPEAT is -0.49\n",
            "Cofficient for TEACHSUP is 0.14\n",
            "Cofficient for TeacherInstruction is -0.20\n",
            "Cofficient for PERFEED is 0.02\n",
            "Cofficient for EMOSUPS is 0.10\n",
            "Cofficient for PERCOOP is 0.10\n",
            "Cofficient for FAILURE is 0.10\n",
            "Cofficient for MEANINGLIFE is -0.15\n",
            "Cofficient for RESILIENCE is 0.06\n",
            "Cofficient for COGFLEX is 0.11\n"
          ]
        }
      ],
      "source": [
        "for i in range(0,len(PISA_data.columns)):\n",
        "  print(\"Cofficient for\", f\"{PISA_data.columns[i]} is {LR1.coef_[i]:.2f}\")"
      ]
    },
    {
      "cell_type": "markdown",
      "metadata": {
        "id": "XwFKUCLRl7al"
      },
      "source": [
        "## note: Baseline regression on test set MSE is 0.807 "
      ]
    },
    {
      "cell_type": "markdown",
      "metadata": {
        "id": "1puC6me_mjG3"
      },
      "source": [
        "# SGDRegressor\n",
        "Stoichastic gradient regression"
      ]
    },
    {
      "cell_type": "code",
      "execution_count": null,
      "metadata": {
        "colab": {
          "base_uri": "https://localhost:8080/"
        },
        "id": "6S_w9hW5PsFW",
        "outputId": "3e74ea2a-5e3a-47fd-a484-17d93e25cb50"
      },
      "outputs": [
        {
          "data": {
            "text/plain": [
              "0      -0.186031\n",
              "1      -0.740406\n",
              "2      -1.351913\n",
              "3       0.002198\n",
              "4       0.098446\n",
              "          ...   \n",
              "9454   -0.143952\n",
              "9455   -0.950089\n",
              "9456   -2.057534\n",
              "9457   -2.182230\n",
              "9458   -0.971899\n",
              "Name: AvgMath, Length: 9459, dtype: float64"
            ]
          },
          "execution_count": 51,
          "metadata": {},
          "output_type": "execute_result"
        }
      ],
      "source": [
        "PISA_score # standardized"
      ]
    },
    {
      "cell_type": "code",
      "execution_count": null,
      "metadata": {
        "colab": {
          "base_uri": "https://localhost:8080/"
        },
        "id": "6jVha0hhs20C",
        "outputId": "5e28456c-4c1a-4c95-8167-5c9fb4d2059b"
      },
      "outputs": [
        {
          "name": "stdout",
          "output_type": "stream",
          "text": [
            "CPU times: user 58.8 ms, sys: 10.7 ms, total: 69.5 ms\n",
            "Wall time: 76.8 ms\n"
          ]
        }
      ],
      "source": [
        "%%time\n",
        "sgd_reg = SGDRegressor(random_state = 42,\n",
        "                       max_iter = 1000, #epochs\n",
        "                       tol = 1e-3, #stopping criterion\n",
        "                       eta0 = 0.1) #learning rate\n",
        "sgd_reg.fit(PISA_X_train, PISA_y_train)\n",
        "sgd_reg.intercept_, sgd_reg.coef_"
      ]
    },
    {
      "cell_type": "code",
      "execution_count": null,
      "metadata": {
        "colab": {
          "base_uri": "https://localhost:8080/"
        },
        "id": "DqKCePhWtIXZ",
        "outputId": "4c7a5f5e-6448-4cee-cf20-901d88b36c7a"
      },
      "outputs": [
        {
          "data": {
            "text/plain": [
              "(0.16636008031567673, 0.8469458116506231)"
            ]
          },
          "execution_count": 53,
          "metadata": {},
          "output_type": "execute_result"
        }
      ],
      "source": [
        "y_pred_sgd = sgd_reg.predict(PISA_X_test)\n",
        "r2_score(PISA_y_test, y_pred_sgd), mean_squared_error(PISA_y_test, y_pred_sgd)"
      ]
    },
    {
      "cell_type": "markdown",
      "metadata": {
        "id": "x1RW-bkItYgM"
      },
      "source": [
        "### Performance on SGDRegressor at iteration 1 is worse (MSE at 0.847)"
      ]
    },
    {
      "cell_type": "markdown",
      "metadata": {
        "id": "mEjNYKK8uBxc"
      },
      "source": [
        "## SGDRegressor iteration 2: fine tuning\n",
        "\n",
        "see page 76; using GridSearchCV"
      ]
    },
    {
      "cell_type": "code",
      "execution_count": null,
      "metadata": {
        "id": "c6tuA9x3PhPl"
      },
      "outputs": [],
      "source": [
        "param_grid_SGD = [\n",
        "               {'penalty':['l2','l1','elasticnet'], \n",
        "                'alpha':[0.0001,0.0002,0.0005],\n",
        "                'max_iter':[1000,2000,3000]}\n",
        "]"
      ]
    },
    {
      "cell_type": "code",
      "execution_count": null,
      "metadata": {
        "id": "HRLxOmtzSjYf"
      },
      "outputs": [],
      "source": [
        "sgd_reg = SGDRegressor()\n",
        "grid_search_SGD = GridSearchCV(sgd_reg, param_grid_SGD,\n",
        "                               scoring = \"neg_root_mean_squared_error\",\n",
        "                               cv = 3 #cross validation\n",
        "                               )"
      ]
    },
    {
      "cell_type": "code",
      "execution_count": null,
      "metadata": {
        "colab": {
          "base_uri": "https://localhost:8080/"
        },
        "id": "6MD6jJnNS-24",
        "outputId": "16411663-e338-4fca-85da-b18aaa80ced7"
      },
      "outputs": [
        {
          "name": "stdout",
          "output_type": "stream",
          "text": [
            "CPU times: user 2.44 s, sys: 1.6 s, total: 4.04 s\n",
            "Wall time: 3.86 s\n"
          ]
        },
        {
          "data": {
            "text/plain": [
              "GridSearchCV(cv=3, estimator=SGDRegressor(),\n",
              "             param_grid=[{'alpha': [0.0001, 0.0002, 0.0005],\n",
              "                          'max_iter': [1000, 2000, 3000],\n",
              "                          'penalty': ['l2', 'l1', 'elasticnet']}],\n",
              "             scoring='neg_root_mean_squared_error')"
            ]
          },
          "execution_count": 56,
          "metadata": {},
          "output_type": "execute_result"
        }
      ],
      "source": [
        "%%time\n",
        "grid_search_SGD.fit(PISA_X_train, PISA_y_train)"
      ]
    },
    {
      "cell_type": "code",
      "execution_count": null,
      "metadata": {
        "colab": {
          "base_uri": "https://localhost:8080/"
        },
        "id": "A2ItOB0aTL_i",
        "outputId": "fe8797d2-9b40-4c77-8d40-8fc0cc1e6bca"
      },
      "outputs": [
        {
          "data": {
            "text/plain": [
              "{'alpha': 0.0005, 'max_iter': 2000, 'penalty': 'l2'}"
            ]
          },
          "execution_count": 57,
          "metadata": {},
          "output_type": "execute_result"
        }
      ],
      "source": [
        "grid_search_SGD.best_params_"
      ]
    },
    {
      "cell_type": "code",
      "execution_count": null,
      "metadata": {
        "colab": {
          "base_uri": "https://localhost:8080/"
        },
        "id": "AA5iQuKDTov_",
        "outputId": "aa235421-6e85-4037-cb23-0358020de10f"
      },
      "outputs": [
        {
          "data": {
            "text/plain": [
              "SGDRegressor(alpha=0.0005, max_iter=2000)"
            ]
          },
          "execution_count": 58,
          "metadata": {},
          "output_type": "execute_result"
        }
      ],
      "source": [
        "grid_search_SGD.best_estimator_"
      ]
    },
    {
      "cell_type": "code",
      "execution_count": null,
      "metadata": {
        "colab": {
          "base_uri": "https://localhost:8080/"
        },
        "id": "aVFl-SWOUCZP",
        "outputId": "51b8fb1e-6a96-49b4-fed9-380fb62ed5ed"
      },
      "outputs": [
        {
          "name": "stdout",
          "output_type": "stream",
          "text": [
            "CPU times: user 38.9 ms, sys: 20.8 ms, total: 59.7 ms\n",
            "Wall time: 87.8 ms\n"
          ]
        }
      ],
      "source": [
        "%%time\n",
        "sgd_reg1 = SGDRegressor(random_state = 42,\n",
        "                        max_iter = 1000,\n",
        "                        penalty = 'elasticnet',\n",
        "                        alpha = 0.0001,\n",
        "                        tol = 1e-3,\n",
        "                        eta0 = 0.01)\n",
        "\n",
        "sgd_reg1.fit(PISA_X_train, PISA_y_train)"
      ]
    },
    {
      "cell_type": "code",
      "execution_count": null,
      "metadata": {
        "colab": {
          "base_uri": "https://localhost:8080/"
        },
        "id": "mP0v70_cUwjj",
        "outputId": "2d0b68b7-c2f3-410b-c827-86626bc8eb6e"
      },
      "outputs": [
        {
          "data": {
            "text/plain": [
              "0.8070842091782899"
            ]
          },
          "execution_count": 60,
          "metadata": {},
          "output_type": "execute_result"
        }
      ],
      "source": [
        "y_pred_SGD1 = sgd_reg1.predict(PISA_X_test)\n",
        "mean_squared_error(y_true = PISA_y_test,\n",
        "                   y_pred = y_pred_SGD1)"
      ]
    },
    {
      "cell_type": "markdown",
      "metadata": {
        "id": "QgJcvO2AVD60"
      },
      "source": [
        "## Performance on SGDRegressor at iteration 2 is close to regression (MSE at 0.807)."
      ]
    },
    {
      "cell_type": "markdown",
      "metadata": {
        "id": "R2unoZOBViQQ"
      },
      "source": [
        "## Follow up for SGD\n",
        "* feature importances\n",
        "* more iterations and fine tuning?\n"
      ]
    },
    {
      "cell_type": "markdown",
      "metadata": {
        "id": "w1JCnXKEyKgb"
      },
      "source": [
        "# ADABoost Regressor\n",
        "\n",
        "For ADABoost classifier: \n",
        "What this algorithm does is that it builds a model and gives equal weights to all the data points. It then assigns higher weights to points that are wrongly classified. Now all the points which have higher weights are given more importance in the next model. It will keep training models until and unless a lower error is received.\n",
        "\n",
        "source: https://www.analyticsvidhya.com/blog/202109/adaboost-algorithm-a-complete-guide-for-beginners/\n",
        "\n",
        "See: https://machinelearningmastery.com/adaboost-ensemble-in-python/ for incorporating Cross validation"
      ]
    },
    {
      "cell_type": "markdown",
      "metadata": {
        "id": "4qlelDA3yzU2"
      },
      "source": [
        "## ADABoost Regressor iteration 1"
      ]
    },
    {
      "cell_type": "code",
      "execution_count": null,
      "metadata": {
        "colab": {
          "base_uri": "https://localhost:8080/"
        },
        "id": "HZvczri5yPBp",
        "outputId": "04927ade-f053-4435-ba37-3c676f2e9de4"
      },
      "outputs": [
        {
          "name": "stdout",
          "output_type": "stream",
          "text": [
            "CPU times: user 520 ms, sys: 29.4 ms, total: 549 ms\n",
            "Wall time: 682 ms\n"
          ]
        }
      ],
      "source": [
        "%%time\n",
        "ada_reg = AdaBoostRegressor(random_state = 42, \n",
        "                            n_estimators = 100)\n",
        "ada_reg.fit(PISA_X_train, PISA_y_train)\n",
        "\n"
      ]
    },
    {
      "cell_type": "code",
      "execution_count": null,
      "metadata": {
        "colab": {
          "base_uri": "https://localhost:8080/"
        },
        "id": "rRm5hGrGzhsc",
        "outputId": "19b4d514-9f42-4e45-8f16-f28f7441918c"
      },
      "outputs": [
        {
          "data": {
            "text/plain": [
              "0.8574005099361335"
            ]
          },
          "execution_count": 62,
          "metadata": {},
          "output_type": "execute_result"
        }
      ],
      "source": [
        "y_pred_ada = ada_reg.predict(PISA_X_test)\n",
        "mean_squared_error(PISA_y_test, y_pred_ada)"
      ]
    },
    {
      "cell_type": "markdown",
      "metadata": {
        "id": "TS3udT2a0aMx"
      },
      "source": [
        "### ADABoost Regressor iteration 1 MSE: 0.857"
      ]
    },
    {
      "cell_type": "markdown",
      "metadata": {
        "id": "IdVhbocY02OE"
      },
      "source": [
        "## ADABoost Regressor iteration 2 and fine tuning"
      ]
    },
    {
      "cell_type": "code",
      "execution_count": null,
      "metadata": {
        "id": "F3aTHIOf1CCp"
      },
      "outputs": [],
      "source": [
        "param_grid_ADA = [\n",
        "               {'n_estimators':[50,100,200],\n",
        "                'learning_rate':[1,1.5,2],\n",
        "                'loss':['linear','square','exponential']}\n",
        "]"
      ]
    },
    {
      "cell_type": "code",
      "execution_count": null,
      "metadata": {
        "id": "kUKFyfjN1CCq"
      },
      "outputs": [],
      "source": [
        "ADA_reg = AdaBoostRegressor()\n",
        "grid_search_ADA = GridSearchCV(ADA_reg, param_grid_ADA,\n",
        "                               scoring = \"neg_root_mean_squared_error\",\n",
        "                               cv = 3 #cross validation\n",
        "                               )"
      ]
    },
    {
      "cell_type": "code",
      "execution_count": null,
      "metadata": {
        "colab": {
          "background_save": true
        },
        "id": "sy0KzDUi1CCq",
        "outputId": "084f16a5-ccbb-45c2-b771-d757a1d9c9bd"
      },
      "outputs": [
        {
          "name": "stdout",
          "output_type": "stream",
          "text": [
            "CPU times: user 55 s, sys: 559 ms, total: 55.6 s\n",
            "Wall time: 55.5 s\n"
          ]
        },
        {
          "data": {
            "text/plain": [
              "GridSearchCV(cv=3, estimator=AdaBoostRegressor(),\n",
              "             param_grid=[{'learning_rate': [1, 1.5, 2],\n",
              "                          'loss': ['linear', 'square', 'exponential'],\n",
              "                          'n_estimators': [50, 100, 200]}],\n",
              "             scoring='neg_root_mean_squared_error')"
            ]
          },
          "execution_count": null,
          "metadata": {},
          "output_type": "execute_result"
        }
      ],
      "source": [
        "%%time\n",
        "grid_search_ADA.fit(PISA_X_train, PISA_y_train)"
      ]
    },
    {
      "cell_type": "code",
      "execution_count": null,
      "metadata": {
        "colab": {
          "background_save": true
        },
        "id": "tMGcdO8-2Wyt",
        "outputId": "18025943-3ef8-4a4e-f304-18e7620d5339"
      },
      "outputs": [
        {
          "data": {
            "text/plain": [
              "AdaBoostRegressor(learning_rate=1.5, n_estimators=200)"
            ]
          },
          "execution_count": null,
          "metadata": {},
          "output_type": "execute_result"
        }
      ],
      "source": [
        "grid_search_ADA.best_estimator_"
      ]
    },
    {
      "cell_type": "code",
      "execution_count": null,
      "metadata": {
        "colab": {
          "background_save": true
        },
        "id": "jL0BPi522p4R",
        "outputId": "89df0550-f7c0-4e9f-f3ef-dcaf763320ac"
      },
      "outputs": [
        {
          "data": {
            "text/plain": [
              "{'learning_rate': 1.5, 'loss': 'linear', 'n_estimators': 200}"
            ]
          },
          "execution_count": null,
          "metadata": {},
          "output_type": "execute_result"
        }
      ],
      "source": [
        "grid_search_ADA.best_params_"
      ]
    },
    {
      "cell_type": "code",
      "execution_count": null,
      "metadata": {
        "colab": {
          "background_save": true
        },
        "id": "oltwvExi2ynH",
        "outputId": "ce21c599-3104-4904-90d6-a98c3ae064dd"
      },
      "outputs": [
        {
          "name": "stdout",
          "output_type": "stream",
          "text": [
            "CPU times: user 358 ms, sys: 6.82 ms, total: 364 ms\n",
            "Wall time: 366 ms\n"
          ]
        }
      ],
      "source": [
        "%%time\n",
        "ada_reg2 = AdaBoostRegressor(random_state = 42, \n",
        "                            n_estimators = 200,\n",
        "                            loss = 'linear')\n",
        "ada_reg2.fit(PISA_X_train, PISA_y_train)\n"
      ]
    },
    {
      "cell_type": "code",
      "execution_count": null,
      "metadata": {
        "colab": {
          "background_save": true
        },
        "id": "eavlMvIx27Gr",
        "outputId": "8fb63cf0-990d-42fd-a61d-b6fa93aa003d"
      },
      "outputs": [
        {
          "data": {
            "text/plain": [
              "0.8574005099361335"
            ]
          },
          "execution_count": null,
          "metadata": {},
          "output_type": "execute_result"
        }
      ],
      "source": [
        "y_pred_ADA2 = ada_reg2.predict(PISA_X_test)\n",
        "mean_squared_error(PISA_y_test, y_pred_ADA2)"
      ]
    },
    {
      "cell_type": "markdown",
      "metadata": {
        "id": "p36l3yCi3HVQ"
      },
      "source": [
        "### ADABoost Regressor iteration 2 MSE: 0.857"
      ]
    },
    {
      "cell_type": "markdown",
      "metadata": {
        "id": "8kCIyzo-3MGG"
      },
      "source": [
        "# Support Vector Regressor"
      ]
    },
    {
      "cell_type": "markdown",
      "metadata": {
        "id": "IrKC-nI84o6C"
      },
      "source": [
        "## SVR Iteration 1"
      ]
    },
    {
      "cell_type": "code",
      "execution_count": null,
      "metadata": {
        "colab": {
          "background_save": true
        },
        "id": "mV_qdtIP4hmr",
        "outputId": "da38f238-e7d5-4d77-8d95-4197d05779ab"
      },
      "outputs": [
        {
          "name": "stdout",
          "output_type": "stream",
          "text": [
            "CPU times: user 3.73 s, sys: 143 ms, total: 3.87 s\n",
            "Wall time: 3.87 s\n"
          ]
        }
      ],
      "source": [
        "%%time\n",
        "svr = SVR()\n",
        "svr.fit(PISA_X_train, PISA_y_train)"
      ]
    },
    {
      "cell_type": "code",
      "execution_count": null,
      "metadata": {
        "colab": {
          "background_save": true
        },
        "id": "46xTvhdt4wKa",
        "outputId": "37663fb5-8764-4cc3-be5d-3de1d4c402e2"
      },
      "outputs": [
        {
          "data": {
            "text/plain": [
              "0.8132053735942832"
            ]
          },
          "execution_count": null,
          "metadata": {},
          "output_type": "execute_result"
        }
      ],
      "source": [
        "y_pred_svr1 = svr.predict(PISA_X_test)\n",
        "mean_squared_error(PISA_y_test, y_pred_svr1)"
      ]
    },
    {
      "cell_type": "markdown",
      "metadata": {
        "id": "xRPjm-Yn48MC"
      },
      "source": [
        "### SVR Iteration 1 MSE: 0.813"
      ]
    },
    {
      "cell_type": "markdown",
      "metadata": {
        "id": "591WKRci5Alm"
      },
      "source": [
        "## SVR iteration 2 with fine tuning"
      ]
    },
    {
      "cell_type": "markdown",
      "metadata": {
        "id": "40O0-7aN5I0e"
      },
      "source": [
        "parameters \n",
        "\n",
        "epsilon: Epsilon in SVR is a very easy parameter to understand. It denotes how much error you are willing to allow per training data instance.\n",
        "source: https://www.quora.com/What-is-an-appropriate-grid-search-range-for-optimizing-the-parameter-epsilon-in-epsilon-support-vector-regression\n",
        "\n",
        "\n",
        "see: https://scikit-learn.org/stable/modules/generated/sklearn.svm.SVR.html#sklearn.svm.SVR"
      ]
    },
    {
      "cell_type": "code",
      "execution_count": null,
      "metadata": {
        "colab": {
          "background_save": true
        },
        "id": "GnVR8FHG5DMn"
      },
      "outputs": [],
      "source": [
        "param_grid_SVR = [\n",
        "                  {\"kernel\":['linear', 'poly', 'rbf'], \n",
        "                   'gamma': ['scale','auto'],\n",
        "                   'epsilon':[0, 0.01, 0.1, 0.5, 1, 2]}]"
      ]
    },
    {
      "cell_type": "code",
      "execution_count": null,
      "metadata": {
        "colab": {
          "background_save": true
        },
        "id": "x44OkQlv6DlJ"
      },
      "outputs": [],
      "source": [
        "svr = SVR()\n",
        "grid_search_svr = GridSearchCV(estimator = svr,\n",
        "                               param_grid = param_grid_SVR, \n",
        "                               scoring = \"neg_root_mean_squared_error\",\n",
        "                               cv = 3,\n",
        "                               )"
      ]
    },
    {
      "cell_type": "code",
      "execution_count": null,
      "metadata": {
        "colab": {
          "background_save": true
        },
        "id": "Cq2dC4U66pVu"
      },
      "outputs": [],
      "source": [
        "%%script false\n",
        "%%time\n",
        "grid_search_svr.fit(PISA_X_train, PISA_y_train)"
      ]
    },
    {
      "cell_type": "code",
      "execution_count": null,
      "metadata": {
        "colab": {
          "background_save": true
        },
        "id": "vO1W9-Ty7tZ1"
      },
      "outputs": [],
      "source": [
        "%%script false\n",
        "grid_search_svr.best_params_\n",
        "\n",
        "# {'epsilon': 1, 'gamma': 'auto', 'kernel': 'rbf'}"
      ]
    },
    {
      "cell_type": "code",
      "execution_count": null,
      "metadata": {
        "colab": {
          "background_save": true
        },
        "id": "HKYjFejk760p"
      },
      "outputs": [],
      "source": [
        "%%script false\n",
        "grid_search_svr.best_estimator_\n",
        "\n",
        "# SVR(epsilon=1, gamma='auto')"
      ]
    },
    {
      "cell_type": "code",
      "execution_count": null,
      "metadata": {
        "colab": {
          "background_save": true
        },
        "id": "lnmnNkPC8FR3",
        "outputId": "befdd8a0-d0bb-4285-ca9f-90b68869d603"
      },
      "outputs": [
        {
          "name": "stdout",
          "output_type": "stream",
          "text": [
            "CPU times: user 974 ms, sys: 24.9 ms, total: 999 ms\n",
            "Wall time: 997 ms\n"
          ]
        }
      ],
      "source": [
        "%%time\n",
        "svr2 = SVR(kernel = \"rbf\",\n",
        "           epsilon = 1,\n",
        "           gamma = \"auto\")\n",
        "\n",
        "svr2.fit(PISA_X_train, PISA_y_train)"
      ]
    },
    {
      "cell_type": "code",
      "execution_count": null,
      "metadata": {
        "colab": {
          "background_save": true
        },
        "id": "CpFw9KZx86mv",
        "outputId": "3755f509-6f6d-4bd3-db44-369238008e9b"
      },
      "outputs": [
        {
          "data": {
            "text/plain": [
              "0.7880748618759017"
            ]
          },
          "execution_count": null,
          "metadata": {},
          "output_type": "execute_result"
        }
      ],
      "source": [
        "y_pred_svr2 = svr2.predict(PISA_X_test)\n",
        "mean_squared_error(PISA_y_test, y_pred_svr2)"
      ]
    },
    {
      "cell_type": "markdown",
      "metadata": {
        "id": "Whh_MYwT89e9"
      },
      "source": [
        "### SVR Iteration 2 MSE: 0.788 (beats baseline)"
      ]
    },
    {
      "cell_type": "markdown",
      "metadata": {
        "id": "gZrI5ivAXO9N"
      },
      "source": [
        "# TensorFlow and Neural Nets"
      ]
    },
    {
      "cell_type": "code",
      "execution_count": null,
      "metadata": {
        "colab": {
          "background_save": true
        },
        "id": "Lwb_AGmv9fYK",
        "outputId": "9f0a9497-a5cc-423a-ca8a-bff784e31a6c"
      },
      "outputs": [
        {
          "data": {
            "text/plain": [
              "pandas.core.frame.DataFrame"
            ]
          },
          "execution_count": null,
          "metadata": {},
          "output_type": "execute_result"
        }
      ],
      "source": [
        "type(PISA_X_train)"
      ]
    },
    {
      "cell_type": "markdown",
      "metadata": {
        "id": "vD-E-uaB-gK7"
      },
      "source": [
        "## Preprocessing of data into tensors"
      ]
    },
    {
      "cell_type": "code",
      "execution_count": null,
      "metadata": {
        "colab": {
          "background_save": true
        },
        "id": "5wYc_mVU-u1a"
      },
      "outputs": [],
      "source": [
        "X_train = tf.convert_to_tensor(PISA_X_train)\n",
        "X_test = tf.convert_to_tensor(PISA_X_test)\n",
        "\n",
        "y_train = tf.convert_to_tensor(PISA_y_train)\n",
        "y_test = tf.convert_to_tensor(PISA_y_test)"
      ]
    },
    {
      "cell_type": "code",
      "execution_count": null,
      "metadata": {
        "colab": {
          "background_save": true
        },
        "id": "1oEUlaWr-5l5",
        "outputId": "9dec86f9-588a-4c83-d516-9c8a6abedd62"
      },
      "outputs": [
        {
          "data": {
            "text/plain": [
              "(TensorShape([7568, 25]),\n",
              " TensorShape([1891, 25]),\n",
              " TensorShape([7568]),\n",
              " TensorShape([1891]))"
            ]
          },
          "execution_count": null,
          "metadata": {},
          "output_type": "execute_result"
        }
      ],
      "source": [
        "X_train.shape, X_test.shape, y_train.shape, y_test.shape"
      ]
    },
    {
      "cell_type": "markdown",
      "metadata": {
        "id": "1QW_beiL_WHO"
      },
      "source": [
        "note. should the tensors for y should be [##,] instead of [##]?"
      ]
    },
    {
      "cell_type": "markdown",
      "metadata": {
        "id": "a4rPPTaSDQRD"
      },
      "source": [
        "# Feauture selection added on 8th July\n",
        "\n",
        "lassonet takes in numpy.arrays"
      ]
    },
    {
      "cell_type": "code",
      "execution_count": null,
      "metadata": {
        "colab": {
          "background_save": true
        },
        "id": "eqwd-PCI_QYU",
        "outputId": "6401d541-fd78-47f7-9874-1c9cca8860c0"
      },
      "outputs": [
        {
          "data": {
            "text/plain": [
              "array([[ 0.        ,  0.        ,  0.        , ..., -0.85293107,\n",
              "        -0.91074772, -0.6855897 ],\n",
              "       [ 0.        ,  0.        ,  0.        , ...,  0.35535477,\n",
              "         1.22324494,  0.60913428],\n",
              "       [ 0.        ,  0.        ,  0.        , ...,  0.35535477,\n",
              "        -0.10190673,  0.87775794],\n",
              "       ...,\n",
              "       [ 0.        ,  0.        ,  0.        , ...,  0.35535477,\n",
              "        -1.15469898,  1.18425544],\n",
              "       [ 0.        ,  0.        ,  0.        , ..., -0.20200202,\n",
              "         0.370366  ,  2.00194948],\n",
              "       [ 0.        ,  0.        ,  0.        , ...,  1.79097073,\n",
              "        -0.10190673,  0.06978285]])"
            ]
          },
          "execution_count": null,
          "metadata": {},
          "output_type": "execute_result"
        }
      ],
      "source": [
        "X_train.numpy()"
      ]
    },
    {
      "cell_type": "code",
      "execution_count": null,
      "metadata": {
        "id": "JlAWngJDDT4L"
      },
      "outputs": [],
      "source": [
        "model = LassoNetRegressor()\n",
        "path = model.fit(X_train.numpy(), y_train.numpy())\n",
        "# print(\"Best model scored\", model.score(X_test.numpy(), y_test.numpy()))\n",
        "# print(\"Lambda =\", model.best_lambda_)"
      ]
    },
    {
      "cell_type": "code",
      "execution_count": null,
      "metadata": {
        "colab": {
          "background_save": true
        },
        "id": "rFXzVMl0Dawq"
      },
      "outputs": [],
      "source": [
        "# test  ="
      ]
    },
    {
      "cell_type": "markdown",
      "metadata": {
        "id": "3Tx_hkbw_q72"
      },
      "source": [
        "# Neural Nets"
      ]
    },
    {
      "cell_type": "code",
      "execution_count": null,
      "metadata": {
        "colab": {
          "background_save": true
        },
        "id": "y4ClnwJbISEP",
        "outputId": "39e28c85-6ebb-41e2-d008-6e81bb2e3e3f"
      },
      "outputs": [
        {
          "ename": "SyntaxError",
          "evalue": "ignored",
          "output_type": "error",
          "traceback": [
            "\u001b[0;36m  File \u001b[0;32m\"<ipython-input-85-16aaa569e72c>\"\u001b[0;36m, line \u001b[0;32m1\u001b[0m\n\u001b[0;31m    stopper function =\u001b[0m\n\u001b[0m                   ^\u001b[0m\n\u001b[0;31mSyntaxError\u001b[0m\u001b[0;31m:\u001b[0m invalid syntax\n"
          ]
        }
      ],
      "source": [
        "stopper function = "
      ]
    },
    {
      "cell_type": "markdown",
      "metadata": {
        "id": "rgVowW2u_gEl"
      },
      "source": [
        "## NN model 1 (dirty)"
      ]
    },
    {
      "cell_type": "code",
      "execution_count": null,
      "metadata": {
        "colab": {
          "background_save": true
        },
        "id": "K1FCyGz-_iVL"
      },
      "outputs": [],
      "source": [
        "model_1 = Sequential([\n",
        "                      Layers.Dense(50, activation = 'relu', kernel_initializer = 'glorot_uniform'),\n",
        "                      Layers.Dense(1, activation = 'linear')\n",
        "]) \n",
        "\n",
        "model_1.compile(loss = \"MSE\",\n",
        "                optimizer = Adam(),\n",
        "                metrics = \"MSE\")"
      ]
    },
    {
      "cell_type": "code",
      "execution_count": null,
      "metadata": {
        "colab": {
          "background_save": true
        },
        "id": "vAeixH2zBDLJ"
      },
      "outputs": [],
      "source": [
        "%%time \n",
        "tf.random.set_seed = 42 \n",
        "\n",
        "history_1 = model_1.fit(X_train, y_train, \n",
        "            validation_data = (X_test, y_test),\n",
        "            epochs = 10,\n",
        "            verbose = 1)"
      ]
    },
    {
      "cell_type": "code",
      "execution_count": null,
      "metadata": {
        "colab": {
          "background_save": true
        },
        "id": "4ai-SIpJEmUc"
      },
      "outputs": [],
      "source": [
        "plt.plot(history_1.history['loss'], label='MSE (training data)')\n",
        "plt.plot(history_1.history['val_loss'], label='MSE (validation data)')\n",
        "plt.legend();"
      ]
    },
    {
      "cell_type": "markdown",
      "metadata": {
        "id": "tV8mp84TBIhf"
      },
      "source": [
        "### Dirty Neural net 1 MSE: 0.787"
      ]
    },
    {
      "cell_type": "markdown",
      "metadata": {
        "id": "asufu5-4RXEF"
      },
      "source": [
        "## Global hyperparams"
      ]
    },
    {
      "cell_type": "code",
      "execution_count": null,
      "metadata": {
        "colab": {
          "background_save": true
        },
        "id": "lngNQ2c0Rbgh"
      },
      "outputs": [],
      "source": [
        "ACTIVATION = 'selu' #relu LeakyReLU selu elu gelu\n",
        "LAYERS = 32\n",
        "OPTIMIZER = tf.keras.optimizers.Adamax(learning_rate = 0.0005) #choices, Nadam(), Adam()\n",
        "BATCH_SIZE = 8\n",
        "KERNEL = 'he_normal' #choices: he_normal, glorot_normal, LecunNormal\n",
        "EPOCH = 10"
      ]
    },
    {
      "cell_type": "markdown",
      "metadata": {
        "id": "fNXqYZaaBrl3"
      },
      "source": [
        "## NN Model 2"
      ]
    },
    {
      "cell_type": "code",
      "execution_count": null,
      "metadata": {
        "colab": {
          "background_save": true
        },
        "id": "kXIWOgR4QzYe"
      },
      "outputs": [],
      "source": [
        "checkpoint = tf.keras.callbacks.ModelCheckpoint(\"NN_model_2.h5\", save_best_only = True)\n",
        "\n",
        "\n",
        "model_2 = Sequential([\n",
        "                      Layers.Dense(LAYERS, activation = ACTIVATION, kernel_initializer = KERNEL, name = \"HiddenLayer1\"),\n",
        "                      Layers.Dense(LAYERS, activation = ACTIVATION, kernel_initializer = KERNEL, name = \"HiddenLayer2\"),\n",
        "                      Layers.Dense(1, activation = 'linear', name = \"OutputLayer\")\n",
        "])\n",
        "\n",
        "model_2.compile (loss = \"MSE\",\n",
        "                 optimizer = OPTIMIZER,\n",
        "                 metrics = \"MSE\")"
      ]
    },
    {
      "cell_type": "code",
      "execution_count": null,
      "metadata": {
        "id": "bEYS6Du8R6Uz"
      },
      "outputs": [],
      "source": [
        "%%time\n",
        "tf.random.set_seed = 42\n",
        "history_2 = model_2.fit(PISA_X_train,\n",
        "                        PISA_y_train,\n",
        "                        epochs = EPOCH,\n",
        "                        validation_data = (PISA_X_test,PISA_y_test),\n",
        "                        batch_size = BATCH_SIZE,\n",
        "                        verbose = 1,\n",
        "                        callbacks = checkpoint)"
      ]
    },
    {
      "cell_type": "code",
      "execution_count": null,
      "metadata": {
        "id": "upXKo4HLJR1M"
      },
      "outputs": [],
      "source": [
        "plot_model(model_2)"
      ]
    },
    {
      "cell_type": "code",
      "execution_count": null,
      "metadata": {
        "id": "AWcDECQx4nm9"
      },
      "outputs": [],
      "source": [
        "model_2 = tf.keras.models.load_model(\"NN_model_2.h5\")\n",
        "model_2.evaluate(PISA_X_test,PISA_y_test)"
      ]
    },
    {
      "cell_type": "code",
      "execution_count": null,
      "metadata": {
        "id": "N7-9uvTRSkXx"
      },
      "outputs": [],
      "source": [
        "plt.plot(history_2.history[\"loss\"])\n",
        "plt.plot(history_2.history[\"val_loss\"])\n",
        "#plt.plot(history_1.history[\"loss\"])\n",
        "#plt.plot(history_1.history[\"val_loss\"])\n",
        "plt.figure(figsize = [20,14]);"
      ]
    },
    {
      "cell_type": "markdown",
      "metadata": {
        "id": "WBzmTgYhiEk5"
      },
      "source": [
        "### For the following HYPERPARAMS, the MSE on validation was 0.785\n",
        "\n",
        "ACTIVATION = 'gelu' \n",
        "\n",
        "LAYERS = 32\n",
        "\n",
        "OPTIMIZER = tf.keras.optimizers.Adamax() \n",
        "\n",
        "BATCH_SIZE = 32\n",
        "\n",
        "KERNEL = 'glorot_normal' \n",
        "\n",
        "EPOCH = 50"
      ]
    },
    {
      "cell_type": "markdown",
      "metadata": {
        "id": "LxsMaL8M7Hno"
      },
      "source": [
        "### MSE on validation was 0.777\n",
        "\n",
        "* ACTIVATION = 'elu' \n",
        "* LAYERS = 32\n",
        "* OPTIMIZER = tf.keras.optimizers.Adamax(learning_rate = 0.0005) \n",
        "* BATCH_SIZE = 16\n",
        "* KERNEL = 'glorot_normal' \n",
        "* EPOCH = 50\n",
        "\n",
        "\n",
        "\n"
      ]
    },
    {
      "cell_type": "markdown",
      "metadata": {
        "id": "I6W_0DmZ8Ryo"
      },
      "source": [
        "### MSE 0.775\n",
        "\n",
        "* ACTIVATION = 'elu' \n",
        "* LAYERS = 16\n",
        "* OPTIMIZER = tf.keras.optimizers.Adamax(learning_rate = 0.0005) \n",
        "* BATCH_SIZE = 8\n",
        "* KERNEL = 'glorot_normal' \n",
        "* `EPOCH` = 50"
      ]
    },
    {
      "cell_type": "markdown",
      "metadata": {
        "id": "5-DdktVV0l2L"
      },
      "source": [
        "## NN model 3\n",
        "Removing the categorical variables?"
      ]
    },
    {
      "cell_type": "code",
      "execution_count": null,
      "metadata": {
        "id": "sOw6u3hC4zcE"
      },
      "outputs": [],
      "source": [
        "PISA_data"
      ]
    },
    {
      "cell_type": "code",
      "execution_count": null,
      "metadata": {
        "id": "l-YPWWoB3Okx"
      },
      "outputs": [],
      "source": [
        "X = PISA_data.iloc[:,16:]\n",
        "y = PISA_final[\"AvgMath\"]"
      ]
    },
    {
      "cell_type": "code",
      "execution_count": null,
      "metadata": {
        "id": "59eCTReF5ENj"
      },
      "outputs": [],
      "source": [
        "y"
      ]
    },
    {
      "cell_type": "code",
      "execution_count": null,
      "metadata": {
        "id": "SPNx3g653zWU"
      },
      "outputs": [],
      "source": [
        "PISA_X_train2, PISA_X_test2, PISA_y_train2, PISA_y_test2 = train_test_split(X, \n",
        "                                                                            y, \n",
        "                                                                            test_size = int(.2*len(X)),\n",
        "                                                                            random_state = 42)"
      ]
    },
    {
      "cell_type": "code",
      "execution_count": null,
      "metadata": {
        "id": "HCQAjgEGb7Ye"
      },
      "outputs": [],
      "source": [
        "PISA_X_train2.shape, PISA_X_test2.shape, PISA_y_train2.shape, PISA_y_test2.shape"
      ]
    },
    {
      "cell_type": "code",
      "execution_count": null,
      "metadata": {
        "id": "UwqVl_l7caN3"
      },
      "outputs": [],
      "source": [
        "PISA_X_train2"
      ]
    },
    {
      "cell_type": "code",
      "execution_count": null,
      "metadata": {
        "id": "q4h4ZpSp0mCU"
      },
      "outputs": [],
      "source": [
        "ACTIVATION = 'gelu' #relu LeakyReLU selu elu gelu\n",
        "LAYERS = 32\n",
        "OPTIMIZER = tf.keras.optimizers.Adam(learning_rate = 0.001) #choices, Nadam(), Adam()\n",
        "BATCH_SIZE = 8\n",
        "KERNEL = 'glorot_normal' #choices: he_normal, glorot_normal, LecunNormal\n",
        "EPOCH = 10"
      ]
    },
    {
      "cell_type": "code",
      "execution_count": null,
      "metadata": {
        "id": "78H-_KHV0mCV"
      },
      "outputs": [],
      "source": [
        "checkpoint = tf.keras.callbacks.ModelCheckpoint(\"NN_model_3.h5\", save_best_only = True)\n",
        "\n",
        "\n",
        "model_3 = Sequential([\n",
        "                      Layers.Dense(LAYERS, activation = ACTIVATION, kernel_initializer = KERNEL),\n",
        "                      Layers.Dense(LAYERS, activation = ACTIVATION, kernel_initializer = KERNEL),\n",
        "                      Layers.Dense(16, activation = ACTIVATION, kernel_initializer = KERNEL),\n",
        "                      Layers.Dense(1, activation = 'linear')\n",
        "])\n",
        "\n",
        "model_3.compile (loss = \"MSE\",\n",
        "                 optimizer = OPTIMIZER,\n",
        "                 metrics = \"MSE\")"
      ]
    },
    {
      "cell_type": "code",
      "execution_count": null,
      "metadata": {
        "id": "lhSpRBci0mCV"
      },
      "outputs": [],
      "source": [
        "%%time\n",
        "tf.random.set_seed = 42\n",
        "history_3 = model_3.fit(PISA_X_train2,\n",
        "                        PISA_y_train2,\n",
        "                        epochs = EPOCH,\n",
        "                        validation_data = (PISA_X_test2,PISA_y_test2),\n",
        "                        batch_size = BATCH_SIZE,\n",
        "                        verbose = 1,\n",
        "                        callbacks = checkpoint)"
      ]
    },
    {
      "cell_type": "code",
      "execution_count": null,
      "metadata": {
        "id": "yW8dkqCT0mCV"
      },
      "outputs": [],
      "source": [
        "model_3 = tf.keras.models.load_model(\"NN_model_3.h5\")\n",
        "model_3.evaluate(PISA_X_test2,PISA_y_test2)"
      ]
    },
    {
      "cell_type": "code",
      "execution_count": null,
      "metadata": {
        "id": "Ov4VWmxJ0mCW"
      },
      "outputs": [],
      "source": [
        "plt.plot(history_3.history[\"loss\"])\n",
        "plt.plot(history_3.history[\"val_loss\"])\n",
        "#plt.plot(history_1.history[\"loss\"])\n",
        "#plt.plot(history_1.history[\"val_loss\"])\n",
        "plt.figure(figsize = [20,14]);"
      ]
    },
    {
      "cell_type": "markdown",
      "metadata": {
        "id": "01Q6eQnTStEP"
      },
      "source": [
        "## Other tests"
      ]
    },
    {
      "cell_type": "code",
      "execution_count": null,
      "metadata": {
        "id": "Zroaxx0KfoTL"
      },
      "outputs": [],
      "source": [
        "tf.expand_dims(PISA_X_train.shape, axis = 1)"
      ]
    },
    {
      "cell_type": "code",
      "execution_count": null,
      "metadata": {
        "id": "MeRJiKmnemfz"
      },
      "outputs": [],
      "source": [
        "%%script false\n",
        "model_3 = Sequential([\n",
        "                      Layers.SimpleRNN(32, activation = 'relu'),\n",
        "                      Layers.Dense(1)\n",
        "])\n",
        "\n",
        "model_3.compile(loss= \"MSE\",\n",
        "                optimizer = Adam())"
      ]
    },
    {
      "cell_type": "code",
      "execution_count": null,
      "metadata": {
        "id": "-jUbdYEDeyig"
      },
      "outputs": [],
      "source": [
        "%%script false\n",
        "model_3.fit(PISA_X_train,\n",
        "            PISA_y_train,\n",
        "            epochs = 5)"
      ]
    },
    {
      "cell_type": "markdown",
      "metadata": {
        "id": "vhAPy9Cne4Sv"
      },
      "source": [
        "# Summary of models\n",
        "\n",
        "For Math scores of:\n",
        "* Mean of 500\n",
        "* Range of 191.12 to 804.19\n",
        "* Std of 84"
      ]
    },
    {
      "cell_type": "code",
      "execution_count": null,
      "metadata": {
        "id": "Z-MKiG-SPzHb"
      },
      "outputs": [],
      "source": [
        "plt.hist(PISA_score)\n",
        "plt.title(\"Standardized PISA Math Scores\")\n",
        "fig = plt.show();\n"
      ]
    },
    {
      "cell_type": "markdown",
      "metadata": {
        "id": "f9dBCvtLg-lY"
      },
      "source": [
        "## Regression: 75.46"
      ]
    },
    {
      "cell_type": "markdown",
      "metadata": {
        "id": "wcQCpQX9hQz9"
      },
      "source": [
        "## SGD Regressor: 75.46"
      ]
    },
    {
      "cell_type": "markdown",
      "metadata": {
        "id": "RAvN9504hadM"
      },
      "source": [
        "## SVR: 74.56"
      ]
    },
    {
      "cell_type": "markdown",
      "metadata": {
        "id": "KWk1LLQ9hhDU"
      },
      "source": [
        "## NN Best: 74"
      ]
    },
    {
      "cell_type": "markdown",
      "metadata": {
        "id": "WUTRVz9J6oPL"
      },
      "source": [
        "# things to consider next"
      ]
    },
    {
      "cell_type": "markdown",
      "metadata": {
        "id": "PaUMQQTf3m79"
      },
      "source": [
        "\n",
        "* removing dummy features with low variance\n",
        "* Recursive Feature Elimination `sklearn.feature_selection RFE`\n",
        " * *Non NN only*\n",
        "\n",
        "\n",
        "\n",
        "see https://scikit-learn.org/stable/modules/generated/sklearn.feature_selection.RFE.html\n",
        "\n",
        "also see: https://www.youtube.com/watch?v=fnupA1nWrHM&t=905s\n",
        "\n"
      ]
    },
    {
      "cell_type": "code",
      "execution_count": null,
      "metadata": {
        "id": "daNthoz65Z8i"
      },
      "outputs": [],
      "source": [
        ""
      ]
    }
  ],
  "metadata": {
    "accelerator": "GPU",
    "colab": {
      "collapsed_sections": [],
      "name": "PISA Machine Learning.ipynb",
      "toc_visible": true,
      "provenance": [],
      "authorship_tag": "ABX9TyOiuvviI7rocmErgUnYiWmU",
      "include_colab_link": true
    },
    "gpuClass": "standard",
    "kernelspec": {
      "display_name": "Python 3",
      "name": "python3"
    },
    "language_info": {
      "name": "python"
    }
  },
  "nbformat": 4,
  "nbformat_minor": 0
}
