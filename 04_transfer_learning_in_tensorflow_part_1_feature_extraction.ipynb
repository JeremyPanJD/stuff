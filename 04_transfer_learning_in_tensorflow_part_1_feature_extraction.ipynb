{
  "cells": [
    {
      "cell_type": "markdown",
      "metadata": {
        "id": "view-in-github",
        "colab_type": "text"
      },
      "source": [
        "<a href=\"https://colab.research.google.com/github/JeremyPanJD/stuff/blob/master/04_transfer_learning_in_tensorflow_part_1_feature_extraction.ipynb\" target=\"_parent\"><img src=\"https://colab.research.google.com/assets/colab-badge.svg\" alt=\"Open In Colab\"/></a>"
      ]
    },
    {
      "cell_type": "markdown",
      "metadata": {
        "id": "WfRFMYqV9CaE"
      },
      "source": [
        "# Section 142. Preparing data for transfer learning model"
      ]
    },
    {
      "cell_type": "code",
      "execution_count": 1,
      "metadata": {
        "id": "KNdoFo109LVP"
      },
      "outputs": [],
      "source": [
        "import zipfile"
      ]
    },
    {
      "cell_type": "code",
      "execution_count": 2,
      "metadata": {
        "colab": {
          "base_uri": "https://localhost:8080/"
        },
        "id": "ZQttTT2d9fRI",
        "outputId": "01ab0594-f59b-4066-8daf-8d09921723be"
      },
      "outputs": [
        {
          "output_type": "stream",
          "name": "stdout",
          "text": [
            "--2022-06-23 02:29:37--  https://storage.googleapis.com/ztm_tf_course/food_vision/10_food_classes_10_percent.zip\n",
            "Resolving storage.googleapis.com (storage.googleapis.com)... 172.217.194.128, 142.250.4.128, 74.125.200.128, ...\n",
            "Connecting to storage.googleapis.com (storage.googleapis.com)|172.217.194.128|:443... connected.\n",
            "HTTP request sent, awaiting response... 200 OK\n",
            "Length: 168546183 (161M) [application/zip]\n",
            "Saving to: ‘10_food_classes_10_percent.zip’\n",
            "\n",
            "10_food_classes_10_ 100%[===================>] 160.74M  55.0MB/s    in 2.9s    \n",
            "\n",
            "2022-06-23 02:29:40 (55.0 MB/s) - ‘10_food_classes_10_percent.zip’ saved [168546183/168546183]\n",
            "\n"
          ]
        }
      ],
      "source": [
        "!wget https://storage.googleapis.com/ztm_tf_course/food_vision/10_food_classes_10_percent.zip"
      ]
    },
    {
      "cell_type": "code",
      "execution_count": 3,
      "metadata": {
        "id": "HklAS9v39i7W"
      },
      "outputs": [],
      "source": [
        "# Unzip the downloaded file\n",
        "zip_ref = zipfile.ZipFile(\"/content/10_food_classes_10_percent.zip\",'r')\n",
        "zip_ref.extractall()\n",
        "zip_ref.close()\n"
      ]
    },
    {
      "cell_type": "code",
      "execution_count": 4,
      "metadata": {
        "colab": {
          "base_uri": "https://localhost:8080/"
        },
        "id": "AH4Sohtx-SS5",
        "outputId": "38184d52-7104-46d6-f356-5aaf816a193b"
      },
      "outputs": [
        {
          "output_type": "stream",
          "name": "stdout",
          "text": [
            "there are 2 directories and 0 images in '/content/10_food_classes_10_percent'.\n",
            "there are 10 directories and 0 images in '/content/10_food_classes_10_percent/test'.\n",
            "there are 0 directories and 250 images in '/content/10_food_classes_10_percent/test/ice_cream'.\n",
            "there are 0 directories and 250 images in '/content/10_food_classes_10_percent/test/grilled_salmon'.\n",
            "there are 0 directories and 250 images in '/content/10_food_classes_10_percent/test/hamburger'.\n",
            "there are 0 directories and 250 images in '/content/10_food_classes_10_percent/test/pizza'.\n",
            "there are 0 directories and 250 images in '/content/10_food_classes_10_percent/test/chicken_curry'.\n",
            "there are 0 directories and 250 images in '/content/10_food_classes_10_percent/test/steak'.\n",
            "there are 0 directories and 250 images in '/content/10_food_classes_10_percent/test/chicken_wings'.\n",
            "there are 0 directories and 250 images in '/content/10_food_classes_10_percent/test/sushi'.\n",
            "there are 0 directories and 250 images in '/content/10_food_classes_10_percent/test/ramen'.\n",
            "there are 0 directories and 250 images in '/content/10_food_classes_10_percent/test/fried_rice'.\n",
            "there are 10 directories and 0 images in '/content/10_food_classes_10_percent/train'.\n",
            "there are 0 directories and 75 images in '/content/10_food_classes_10_percent/train/ice_cream'.\n",
            "there are 0 directories and 75 images in '/content/10_food_classes_10_percent/train/grilled_salmon'.\n",
            "there are 0 directories and 75 images in '/content/10_food_classes_10_percent/train/hamburger'.\n",
            "there are 0 directories and 75 images in '/content/10_food_classes_10_percent/train/pizza'.\n",
            "there are 0 directories and 75 images in '/content/10_food_classes_10_percent/train/chicken_curry'.\n",
            "there are 0 directories and 75 images in '/content/10_food_classes_10_percent/train/steak'.\n",
            "there are 0 directories and 75 images in '/content/10_food_classes_10_percent/train/chicken_wings'.\n",
            "there are 0 directories and 75 images in '/content/10_food_classes_10_percent/train/sushi'.\n",
            "there are 0 directories and 75 images in '/content/10_food_classes_10_percent/train/ramen'.\n",
            "there are 0 directories and 75 images in '/content/10_food_classes_10_percent/train/fried_rice'.\n"
          ]
        }
      ],
      "source": [
        "import os\n",
        "\n",
        "# walk through\n",
        "for dirpath, dirnames, filenames in os.walk(\"/content/10_food_classes_10_percent\"):\n",
        "  print(f\"there are {len(dirnames)} directories and {len(filenames)} images in '{dirpath}'.\")"
      ]
    },
    {
      "cell_type": "markdown",
      "metadata": {
        "id": "MmND-Gfq-31o"
      },
      "source": [
        "Use `imagedatagenerator` class to load in our images in batches"
      ]
    },
    {
      "cell_type": "code",
      "execution_count": 5,
      "metadata": {
        "colab": {
          "base_uri": "https://localhost:8080/"
        },
        "id": "ZCinibkp_07c",
        "outputId": "5e8c7e3b-76a9-4dd8-d33c-d3d3564bbba7"
      },
      "outputs": [
        {
          "output_type": "stream",
          "name": "stdout",
          "text": [
            "Training Images:\n",
            "Found 750 images belonging to 10 classes.\n",
            "Testing Images:\n",
            "Found 2500 images belonging to 10 classes.\n"
          ]
        }
      ],
      "source": [
        "# Setup data inputs\n",
        "from tensorflow.keras.preprocessing.image import ImageDataGenerator\n",
        "\n",
        "IMAGE_SHAPE = (224,224)\n",
        "BATCH_SIZE = 32\n",
        "\n",
        "train_dir = \"/content/10_food_classes_10_percent/train\"\n",
        "test_dir = \"/content/10_food_classes_10_percent/test\"\n",
        "\n",
        "train_datagen = ImageDataGenerator (rescale = 1/255.)\n",
        "test_datagen = ImageDataGenerator (rescale = 1/255.)\n",
        "\n",
        "print(\"Training Images:\")\n",
        "train_data_10_percent = train_datagen.flow_from_directory(directory = train_dir,\n",
        "                                               batch_size = BATCH_SIZE,\n",
        "                                               target_size = IMAGE_SHAPE,\n",
        "                                               class_mode = 'categorical')\n",
        "\n",
        "print(\"Testing Images:\")\n",
        "test_data = test_datagen.flow_from_directory(directory = test_dir,\n",
        "                                               batch_size = BATCH_SIZE,\n",
        "                                               target_size = IMAGE_SHAPE,\n",
        "                                               class_mode = 'categorical')\n",
        "                                               "
      ]
    },
    {
      "cell_type": "markdown",
      "metadata": {
        "id": "Fsyf4BU7ANTr"
      },
      "source": [
        "# Section 143: callbacks"
      ]
    },
    {
      "cell_type": "markdown",
      "metadata": {
        "id": "bJCSvjA_BIrP"
      },
      "source": [
        "* Tracking experiements with TensorBoard callbacks\n",
        "* Model checkpoint with ModelCheckpoint callback\n",
        "* Stopping a model from training with the EarlyStopping callback"
      ]
    },
    {
      "cell_type": "markdown",
      "metadata": {
        "id": "7J8nlKKWBgK-"
      },
      "source": [
        "## Tensorboard callback (functionized because we need to create a new one for each model)"
      ]
    },
    {
      "cell_type": "code",
      "execution_count": null,
      "metadata": {
        "id": "4XFjGlAlCBgO"
      },
      "outputs": [],
      "source": [
        "import datetime #to create timestamp for each model\n",
        "\n",
        "def create_tensorboard_callback (dir_name, experiment_name):\n",
        "  log_dir = dir_name + \"/\" + experiment_name + \"/\" + datetime.datetime.now().strftime(\"%Y%m%d-%H%M%S\")\n",
        "  tensorboard_callback = tf.keras.callbacks.TensorBoard(log_dir = log_dir)\n",
        "  print(f\"Saving TensorBoard log files to {log_dir}\")\n",
        "  return tensorboard_callback"
      ]
    },
    {
      "cell_type": "markdown",
      "metadata": {
        "id": "R1Yi51PJDjQc"
      },
      "source": [
        "# Section 144: using TensorFlow Hub models\n",
        "\n",
        "Majority of layers are from TensorFlow Hub\n"
      ]
    },
    {
      "cell_type": "markdown",
      "metadata": {
        "id": "tK_LYMlKDmpM"
      },
      "source": [
        "access pretrained models on: https://tfhub.dev/\n",
        "\n",
        "The following url is copied:\n",
        "https://tfhub.dev/tensorflow/efficientnet/b0/feature-vector/1"
      ]
    },
    {
      "cell_type": "code",
      "execution_count": null,
      "metadata": {
        "id": "yHuUUAY9c7aA"
      },
      "outputs": [],
      "source": [
        "%%script false\n",
        "# Example \n",
        "m = tf.keras.Sequential([\n",
        "    hub.KerasLayer(\"https://tfhub.dev/tensorflow/efficientnet/b0/feature-vector/1\",\n",
        "                   trainable=False),  # Can be True, see below.\n",
        "    tf.keras.layers.Dense(num_classes, activation='softmax') #output layer\n",
        "])\n",
        "m.build([None, expect_img_size, expect_img_size, 3])  # Batch input shape."
      ]
    },
    {
      "cell_type": "markdown",
      "metadata": {
        "id": "mk3cXHybdYDS"
      },
      "source": [
        "# Section 145. Building and compiling a TF hub feature extraction model\n",
        "\n"
      ]
    },
    {
      "cell_type": "code",
      "execution_count": null,
      "metadata": {
        "id": "iRQ2qPameLyy"
      },
      "outputs": [],
      "source": [
        "# compare the following two models:\n",
        "\n",
        "resnet_url ='https://tfhub.dev/google/imagenet/resnet_v2_50/feature_vector/5'\n",
        "\n",
        "efficientnet_url = 'https://tfhub.dev/tensorflow/efficientnet/b0/feature-vector/1'"
      ]
    },
    {
      "cell_type": "code",
      "execution_count": null,
      "metadata": {
        "id": "LTnL38rBeWYO"
      },
      "outputs": [],
      "source": [
        "# Import dependencies\n",
        "\n",
        "import tensorflow as tf\n",
        "import tensorflow_hub as hub\n",
        "from tensorflow.keras import layers"
      ]
    },
    {
      "cell_type": "code",
      "execution_count": null,
      "metadata": {
        "id": "xp2JFjoPetPA"
      },
      "outputs": [],
      "source": [
        "# making a create_model() function to create model from url\n",
        "\n",
        "def create_model(model_url, num_classes = 10):\n",
        "  \"\"\"\n",
        "  Takes a TensorFlow Hub URL and creates a Keras Sequential Model with it.\n",
        "\n",
        "  Args:\n",
        "    model_url (str): A TensorFlow Hub feature extraction URL.\n",
        "    num_classes (int): Number of output neurons in the output layer,\n",
        "      should be equal to number of target classes, default 10.\n",
        "    \n",
        "  Returns:\n",
        "    An uncompiled Keras Sequential model with model_url as feature extractor layer \n",
        "      and Dense output layer with num_classes output neurons.\n",
        "  \"\"\"\n",
        "  # Download the pretrained model and save it as a Keras layer\n",
        "  feature_extractor_layer = hub.KerasLayer(model_url, \n",
        "                                           trainable = False, # freeze the already learned patterns\n",
        "                                           name = \"feature_extraction_layer\",\n",
        "                                           input_shape = IMAGE_SHAPE + (3,)) \n",
        "\n",
        "  # Construct the model \n",
        "  model = tf.keras.Sequential([\n",
        "      feature_extractor_layer,\n",
        "      layers.Dense(num_classes, activation = \"softmax\", name = \"output_layer\")\n",
        "  ])\n",
        "\n",
        "  return model"
      ]
    },
    {
      "cell_type": "markdown",
      "metadata": {
        "id": "9OAowJC_hA0_"
      },
      "source": [
        "### Creating ResNet TensorFlow Hub Feature extraction model"
      ]
    },
    {
      "cell_type": "code",
      "execution_count": null,
      "metadata": {
        "id": "CGLipCB4fGIa"
      },
      "outputs": [],
      "source": [
        "# Create Resnet Model\n",
        "resnet_model = create_model(resnet_url, num_classes = train_data_10_percent.num_classes)"
      ]
    },
    {
      "cell_type": "code",
      "execution_count": null,
      "metadata": {
        "colab": {
          "base_uri": "https://localhost:8080/"
        },
        "id": "DD5Jqe4og_pK",
        "outputId": "385ecd1b-26a3-4bb1-b738-dae1820f6b09"
      },
      "outputs": [
        {
          "data": {
            "text/plain": [
              "(<keras.preprocessing.image.DirectoryIterator at 0x7f1ffc3c59d0>, 10)"
            ]
          },
          "execution_count": 12,
          "metadata": {},
          "output_type": "execute_result"
        }
      ],
      "source": [
        "train_data_10_percent, train_data_10_percent.num_classes"
      ]
    },
    {
      "cell_type": "code",
      "execution_count": null,
      "metadata": {
        "id": "ea0RrIElhNQr"
      },
      "outputs": [],
      "source": [
        "resnet_model.compile(loss= \"categorical_crossentropy\",\n",
        "                     optimizer = tf.keras.optimizers.Adam(),\n",
        "                     metrics = [\"accuracy\"])"
      ]
    },
    {
      "cell_type": "code",
      "execution_count": null,
      "metadata": {
        "colab": {
          "base_uri": "https://localhost:8080/"
        },
        "id": "GNx-FxzPhgiC",
        "outputId": "7ba5f691-6890-478c-ffd9-c5e5d480c203"
      },
      "outputs": [
        {
          "name": "stdout",
          "output_type": "stream",
          "text": [
            "Model: \"sequential\"\n",
            "_________________________________________________________________\n",
            " Layer (type)                Output Shape              Param #   \n",
            "=================================================================\n",
            " feature_extraction_layer (K  (None, 2048)             23564800  \n",
            " erasLayer)                                                      \n",
            "                                                                 \n",
            " output_layer (Dense)        (None, 10)                20490     \n",
            "                                                                 \n",
            "=================================================================\n",
            "Total params: 23,585,290\n",
            "Trainable params: 20,490\n",
            "Non-trainable params: 23,564,800\n",
            "_________________________________________________________________\n"
          ]
        }
      ],
      "source": [
        "resnet_model.summary()"
      ]
    },
    {
      "cell_type": "markdown",
      "metadata": {
        "id": "rwcSXOvDhifp"
      },
      "source": [
        "note. only trainable output is the output_layer"
      ]
    },
    {
      "cell_type": "code",
      "execution_count": null,
      "metadata": {
        "colab": {
          "background_save": true,
          "base_uri": "https://localhost:8080/"
        },
        "id": "l3GV3z98hqM7",
        "outputId": "ee475370-2e64-42b1-e016-0f2b3eeaf1b4"
      },
      "outputs": [
        {
          "name": "stdout",
          "output_type": "stream",
          "text": [
            "Epoch 1/5\n",
            "24/24 [==============================] - 450s 19s/step - loss: 1.8240 - accuracy: 0.4013 - val_loss: 1.1578 - val_accuracy: 0.6304\n",
            "Epoch 2/5\n",
            "24/24 [==============================] - 440s 19s/step - loss: 0.8798 - accuracy: 0.7280 - val_loss: 0.9064 - val_accuracy: 0.6956\n",
            "Epoch 3/5\n",
            "24/24 [==============================] - 441s 19s/step - loss: 0.6283 - accuracy: 0.8213 - val_loss: 0.7603 - val_accuracy: 0.7492\n",
            "Epoch 4/5\n",
            "24/24 [==============================] - 439s 19s/step - loss: 0.4670 - accuracy: 0.8853 - val_loss: 0.7059 - val_accuracy: 0.7688\n",
            "Epoch 5/5\n",
            "24/24 [==============================] - 435s 19s/step - loss: 0.3764 - accuracy: 0.9080 - val_loss: 0.6781 - val_accuracy: 0.7748\n"
          ]
        },
        {
          "data": {
            "text/plain": [
              "<keras.callbacks.History at 0x7f97715b7910>"
            ]
          },
          "execution_count": null,
          "metadata": {},
          "output_type": "execute_result"
        }
      ],
      "source": [
        "# Fit the model\n",
        "\n",
        "history_resnet = resnet_model.fit(train_data_10_percent,\n",
        "                 epochs = 5,\n",
        "                 verbose = 1,\n",
        "                 steps_per_epoch = len(train_data_10_percent),\n",
        "                 validation_data = test_data,\n",
        "                 validation_steps = len(test_data))"
      ]
    },
    {
      "cell_type": "code",
      "execution_count": null,
      "metadata": {
        "colab": {
          "base_uri": "https://localhost:8080/"
        },
        "id": "rubTrleWiAm8",
        "outputId": "4693f446-48ec-409d-beeb-88f62cbf9cad"
      },
      "outputs": [
        {
          "name": "stdout",
          "output_type": "stream",
          "text": [
            "79/79 [==============================] - 13s 158ms/step - loss: 0.6265 - accuracy: 0.7960\n"
          ]
        },
        {
          "data": {
            "text/plain": [
              "[0.6264798045158386, 0.7960000038146973]"
            ]
          },
          "execution_count": 18,
          "metadata": {},
          "output_type": "execute_result"
        }
      ],
      "source": [
        "resnet_model.evaluate(test_data)"
      ]
    },
    {
      "cell_type": "markdown",
      "metadata": {
        "id": "xPsFOagek43t"
      },
      "source": [
        "note. gives the same result as model is not trainable"
      ]
    }
  ],
  "metadata": {
    "accelerator": "GPU",
    "colab": {
      "name": "04-transfer-learning-in-tensorflow-part-1-feature-extraction.ipynb",
      "provenance": [],
      "authorship_tag": "ABX9TyNX01E0GweboKq8jMOnBq8g",
      "include_colab_link": true
    },
    "gpuClass": "standard",
    "kernelspec": {
      "display_name": "Python 3",
      "name": "python3"
    },
    "language_info": {
      "name": "python"
    }
  },
  "nbformat": 4,
  "nbformat_minor": 0
}