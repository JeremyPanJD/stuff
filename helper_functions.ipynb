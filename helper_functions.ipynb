{
  "nbformat": 4,
  "nbformat_minor": 0,
  "metadata": {
    "colab": {
      "name": "helper_functions.ipynb",
      "provenance": [],
      "authorship_tag": "ABX9TyMNWIGrIAGnRwdgJn+p1C32",
      "include_colab_link": true
    },
    "kernelspec": {
      "name": "python3",
      "display_name": "Python 3"
    },
    "language_info": {
      "name": "python"
    }
  },
  "cells": [
    {
      "cell_type": "markdown",
      "metadata": {
        "id": "view-in-github",
        "colab_type": "text"
      },
      "source": [
        "<a href=\"https://colab.research.google.com/github/JeremyPanJD/stuff/blob/master/helper_functions.ipynb\" target=\"_parent\"><img src=\"https://colab.research.google.com/assets/colab-badge.svg\" alt=\"Open In Colab\"/></a>"
      ]
    },
    {
      "cell_type": "code",
      "execution_count": null,
      "metadata": {
        "id": "952PwRQRDtE8"
      },
      "outputs": [],
      "source": [
        "# all dependencies \n",
        "\n",
        "import matplotlib.pyplot as plt"
      ]
    },
    {
      "cell_type": "code",
      "source": [
        "# Plot validation and loss curves for training and validation metrics\n",
        "\n",
        "def plot_loss_curves(history):\n",
        "  \"\"\"\n",
        "  Returns separate loss curves for training and validation metrics.\n",
        "  \n",
        "  Args:\n",
        "    history: Tensorflow History object compiled with accuracy metrics only.\n",
        "\n",
        "  Returns:\n",
        "    Plots of training / validation loss and accuracy metrics.\n",
        "  \"\"\"\n",
        "\n",
        "  loss = history.history[\"loss\"]\n",
        "  val_loss = history.history[\"val_loss\"]\n",
        "\n",
        "  accuracy = history.history[\"accuracy\"]\n",
        "  val_accuracy = history.history[\"val_accuracy\"]\n",
        "\n",
        "  epochs = range(len(loss))\n",
        "\n",
        "  # Plot loss\n",
        "  plt.plot(epochs, loss, label = \"Training Loss\")\n",
        "  plt.plot(epochs, val_loss, label = \"Validation Loss\")\n",
        "\n",
        "  plt.title(\"Loss\")\n",
        "  plt.xlabel(\"Epochs\")\n",
        "  plt.legend()\n",
        "\n",
        "  # Plot accuracy\n",
        "  #plt.figure()\n",
        "  plt.plot(epochs, accuracy, label = \"Training accuracy\")\n",
        "  plt.plot(epochs, val_accuracy, label = \"Validation accuracy\")\n",
        "  plt.title (\"Accuracy\")\n",
        "  plt.xlabel (\"Epochs\")\n",
        "  plt.legend()\n",
        "\n"
      ],
      "metadata": {
        "id": "ZGdl-z5MD7aG"
      },
      "execution_count": null,
      "outputs": []
    },
    {
      "cell_type": "code",
      "source": [
        ""
      ],
      "metadata": {
        "id": "P2PPzeVyFUsr"
      },
      "execution_count": null,
      "outputs": []
    }
  ]
}